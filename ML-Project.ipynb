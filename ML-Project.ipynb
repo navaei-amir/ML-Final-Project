{
 "cells": [
  {
   "cell_type": "code",
   "execution_count": 1,
   "metadata": {},
   "outputs": [],
   "source": [
    "# Importing the libraries\n",
    "import pandas as pd\n",
    "import numpy as np\n",
    "import matplotlib.pyplot as plt"
   ]
  },
  {
   "cell_type": "code",
   "execution_count": 2,
   "metadata": {},
   "outputs": [
    {
     "data": {
      "text/html": [
       "<div>\n",
       "<style scoped>\n",
       "    .dataframe tbody tr th:only-of-type {\n",
       "        vertical-align: middle;\n",
       "    }\n",
       "\n",
       "    .dataframe tbody tr th {\n",
       "        vertical-align: top;\n",
       "    }\n",
       "\n",
       "    .dataframe thead th {\n",
       "        text-align: right;\n",
       "    }\n",
       "</style>\n",
       "<table border=\"1\" class=\"dataframe\">\n",
       "  <thead>\n",
       "    <tr style=\"text-align: right;\">\n",
       "      <th></th>\n",
       "      <th>addresscountryname</th>\n",
       "      <th>city_actual</th>\n",
       "      <th>rating_reviewcount</th>\n",
       "      <th>center1distance</th>\n",
       "      <th>center1label</th>\n",
       "      <th>center2distance</th>\n",
       "      <th>center2label</th>\n",
       "      <th>neighbourhood</th>\n",
       "      <th>price</th>\n",
       "      <th>price_night</th>\n",
       "      <th>...</th>\n",
       "      <th>accommodationtype</th>\n",
       "      <th>guestreviewsrating</th>\n",
       "      <th>scarce_room</th>\n",
       "      <th>hotel_id</th>\n",
       "      <th>offer</th>\n",
       "      <th>offer_cat</th>\n",
       "      <th>year</th>\n",
       "      <th>month</th>\n",
       "      <th>weekend</th>\n",
       "      <th>holiday</th>\n",
       "    </tr>\n",
       "  </thead>\n",
       "  <tbody>\n",
       "    <tr>\n",
       "      <th>0</th>\n",
       "      <td>Netherlands</td>\n",
       "      <td>Amsterdam</td>\n",
       "      <td>1030.0</td>\n",
       "      <td>3.1 miles</td>\n",
       "      <td>City centre</td>\n",
       "      <td>3.6 miles</td>\n",
       "      <td>Montelbaanstoren</td>\n",
       "      <td>Amsterdam</td>\n",
       "      <td>172</td>\n",
       "      <td>price for 1 night</td>\n",
       "      <td>...</td>\n",
       "      <td>_ACCOM_TYPE@Hotel</td>\n",
       "      <td>4.3 /5</td>\n",
       "      <td>0</td>\n",
       "      <td>1.0</td>\n",
       "      <td>0</td>\n",
       "      <td>0% no offer</td>\n",
       "      <td>2017</td>\n",
       "      <td>11</td>\n",
       "      <td>1</td>\n",
       "      <td>0</td>\n",
       "    </tr>\n",
       "    <tr>\n",
       "      <th>1</th>\n",
       "      <td>Netherlands</td>\n",
       "      <td>Amsterdam</td>\n",
       "      <td>1030.0</td>\n",
       "      <td>3.1 miles</td>\n",
       "      <td>City centre</td>\n",
       "      <td>3.6 miles</td>\n",
       "      <td>Montelbaanstoren</td>\n",
       "      <td>Amsterdam</td>\n",
       "      <td>122</td>\n",
       "      <td>price for 1 night</td>\n",
       "      <td>...</td>\n",
       "      <td>_ACCOM_TYPE@Hotel</td>\n",
       "      <td>4.3 /5</td>\n",
       "      <td>0</td>\n",
       "      <td>1.0</td>\n",
       "      <td>1</td>\n",
       "      <td>15-50% offer</td>\n",
       "      <td>2018</td>\n",
       "      <td>1</td>\n",
       "      <td>1</td>\n",
       "      <td>0</td>\n",
       "    </tr>\n",
       "    <tr>\n",
       "      <th>2</th>\n",
       "      <td>Netherlands</td>\n",
       "      <td>Amsterdam</td>\n",
       "      <td>1030.0</td>\n",
       "      <td>3.1 miles</td>\n",
       "      <td>City centre</td>\n",
       "      <td>3.6 miles</td>\n",
       "      <td>Montelbaanstoren</td>\n",
       "      <td>Amsterdam</td>\n",
       "      <td>122</td>\n",
       "      <td>price for 1 night</td>\n",
       "      <td>...</td>\n",
       "      <td>_ACCOM_TYPE@Hotel</td>\n",
       "      <td>4.3 /5</td>\n",
       "      <td>0</td>\n",
       "      <td>1.0</td>\n",
       "      <td>1</td>\n",
       "      <td>15-50% offer</td>\n",
       "      <td>2017</td>\n",
       "      <td>12</td>\n",
       "      <td>0</td>\n",
       "      <td>1</td>\n",
       "    </tr>\n",
       "    <tr>\n",
       "      <th>3</th>\n",
       "      <td>Netherlands</td>\n",
       "      <td>Amsterdam</td>\n",
       "      <td>1030.0</td>\n",
       "      <td>3.1 miles</td>\n",
       "      <td>City centre</td>\n",
       "      <td>3.6 miles</td>\n",
       "      <td>Montelbaanstoren</td>\n",
       "      <td>Amsterdam</td>\n",
       "      <td>552</td>\n",
       "      <td>price for 4 nights</td>\n",
       "      <td>...</td>\n",
       "      <td>_ACCOM_TYPE@Hotel</td>\n",
       "      <td>4.3 /5</td>\n",
       "      <td>0</td>\n",
       "      <td>1.0</td>\n",
       "      <td>1</td>\n",
       "      <td>1-15% offer</td>\n",
       "      <td>2017</td>\n",
       "      <td>12</td>\n",
       "      <td>0</td>\n",
       "      <td>1</td>\n",
       "    </tr>\n",
       "    <tr>\n",
       "      <th>4</th>\n",
       "      <td>Netherlands</td>\n",
       "      <td>Amsterdam</td>\n",
       "      <td>1030.0</td>\n",
       "      <td>3.1 miles</td>\n",
       "      <td>City centre</td>\n",
       "      <td>3.6 miles</td>\n",
       "      <td>Montelbaanstoren</td>\n",
       "      <td>Amsterdam</td>\n",
       "      <td>122</td>\n",
       "      <td>price for 1 night</td>\n",
       "      <td>...</td>\n",
       "      <td>_ACCOM_TYPE@Hotel</td>\n",
       "      <td>4.3 /5</td>\n",
       "      <td>0</td>\n",
       "      <td>1.0</td>\n",
       "      <td>1</td>\n",
       "      <td>15-50% offer</td>\n",
       "      <td>2018</td>\n",
       "      <td>2</td>\n",
       "      <td>1</td>\n",
       "      <td>0</td>\n",
       "    </tr>\n",
       "  </tbody>\n",
       "</table>\n",
       "<p>5 rows × 24 columns</p>\n",
       "</div>"
      ],
      "text/plain": [
       "  addresscountryname city_actual  rating_reviewcount center1distance  \\\n",
       "0        Netherlands   Amsterdam              1030.0       3.1 miles   \n",
       "1        Netherlands   Amsterdam              1030.0       3.1 miles   \n",
       "2        Netherlands   Amsterdam              1030.0       3.1 miles   \n",
       "3        Netherlands   Amsterdam              1030.0       3.1 miles   \n",
       "4        Netherlands   Amsterdam              1030.0       3.1 miles   \n",
       "\n",
       "  center1label center2distance      center2label neighbourhood  price  \\\n",
       "0  City centre       3.6 miles  Montelbaanstoren     Amsterdam    172   \n",
       "1  City centre       3.6 miles  Montelbaanstoren     Amsterdam    122   \n",
       "2  City centre       3.6 miles  Montelbaanstoren     Amsterdam    122   \n",
       "3  City centre       3.6 miles  Montelbaanstoren     Amsterdam    552   \n",
       "4  City centre       3.6 miles  Montelbaanstoren     Amsterdam    122   \n",
       "\n",
       "          price_night  ...  accommodationtype  guestreviewsrating  \\\n",
       "0   price for 1 night  ...  _ACCOM_TYPE@Hotel              4.3 /5   \n",
       "1   price for 1 night  ...  _ACCOM_TYPE@Hotel              4.3 /5   \n",
       "2   price for 1 night  ...  _ACCOM_TYPE@Hotel              4.3 /5   \n",
       "3  price for 4 nights  ...  _ACCOM_TYPE@Hotel              4.3 /5   \n",
       "4   price for 1 night  ...  _ACCOM_TYPE@Hotel              4.3 /5   \n",
       "\n",
       "   scarce_room  hotel_id offer     offer_cat  year  month  weekend holiday  \n",
       "0            0       1.0     0   0% no offer  2017     11        1       0  \n",
       "1            0       1.0     1  15-50% offer  2018      1        1       0  \n",
       "2            0       1.0     1  15-50% offer  2017     12        0       1  \n",
       "3            0       1.0     1   1-15% offer  2017     12        0       1  \n",
       "4            0       1.0     1  15-50% offer  2018      2        1       0  \n",
       "\n",
       "[5 rows x 24 columns]"
      ]
     },
     "execution_count": 2,
     "metadata": {},
     "output_type": "execute_result"
    }
   ],
   "source": [
    "Data = pd.read_csv('Data\\hotelbookingdata.csv')\n",
    "Data.head()"
   ]
  },
  {
   "cell_type": "code",
   "execution_count": 3,
   "metadata": {},
   "outputs": [
    {
     "data": {
      "text/html": [
       "<div>\n",
       "<style scoped>\n",
       "    .dataframe tbody tr th:only-of-type {\n",
       "        vertical-align: middle;\n",
       "    }\n",
       "\n",
       "    .dataframe tbody tr th {\n",
       "        vertical-align: top;\n",
       "    }\n",
       "\n",
       "    .dataframe thead th {\n",
       "        text-align: right;\n",
       "    }\n",
       "</style>\n",
       "<table border=\"1\" class=\"dataframe\">\n",
       "  <thead>\n",
       "    <tr style=\"text-align: right;\">\n",
       "      <th></th>\n",
       "      <th>Country Name</th>\n",
       "      <th>Country Code</th>\n",
       "      <th>2020</th>\n",
       "      <th>Region</th>\n",
       "    </tr>\n",
       "  </thead>\n",
       "  <tbody>\n",
       "    <tr>\n",
       "      <th>0</th>\n",
       "      <td>Albania</td>\n",
       "      <td>ALB</td>\n",
       "      <td>5343.037704</td>\n",
       "      <td>Europe &amp; Central Asia</td>\n",
       "    </tr>\n",
       "    <tr>\n",
       "      <th>1</th>\n",
       "      <td>Andorra</td>\n",
       "      <td>AND</td>\n",
       "      <td>37207.222000</td>\n",
       "      <td>Europe &amp; Central Asia</td>\n",
       "    </tr>\n",
       "    <tr>\n",
       "      <th>2</th>\n",
       "      <td>Armenia</td>\n",
       "      <td>ARM</td>\n",
       "      <td>4505.867746</td>\n",
       "      <td>Europe &amp; Central Asia</td>\n",
       "    </tr>\n",
       "    <tr>\n",
       "      <th>3</th>\n",
       "      <td>Austria</td>\n",
       "      <td>AUT</td>\n",
       "      <td>48809.226880</td>\n",
       "      <td>Europe &amp; Central Asia</td>\n",
       "    </tr>\n",
       "    <tr>\n",
       "      <th>4</th>\n",
       "      <td>Azerbaijan</td>\n",
       "      <td>AZE</td>\n",
       "      <td>4229.910649</td>\n",
       "      <td>Europe &amp; Central Asia</td>\n",
       "    </tr>\n",
       "  </tbody>\n",
       "</table>\n",
       "</div>"
      ],
      "text/plain": [
       "  Country Name Country Code          2020                 Region\n",
       "0      Albania          ALB   5343.037704  Europe & Central Asia\n",
       "1      Andorra          AND  37207.222000  Europe & Central Asia\n",
       "2      Armenia          ARM   4505.867746  Europe & Central Asia\n",
       "3      Austria          AUT  48809.226880  Europe & Central Asia\n",
       "4   Azerbaijan          AZE   4229.910649  Europe & Central Asia"
      ]
     },
     "execution_count": 3,
     "metadata": {},
     "output_type": "execute_result"
    }
   ],
   "source": [
    "# Loading the GDP data for filtering\n",
    "gdp_df = pd.read_csv('Data\\GDP-Capita.csv')\n",
    "gdp_df.head()"
   ]
  },
  {
   "cell_type": "code",
   "execution_count": 4,
   "metadata": {},
   "outputs": [
    {
     "data": {
      "text/plain": [
       "count        57.000000\n",
       "mean      34478.285091\n",
       "std       37468.485426\n",
       "min         852.330230\n",
       "25%        7677.369141\n",
       "50%       22242.406420\n",
       "75%       49169.719340\n",
       "max      182537.304600\n",
       "Name: 2020, dtype: float64"
      ]
     },
     "execution_count": 4,
     "metadata": {},
     "output_type": "execute_result"
    }
   ],
   "source": [
    "# Describing the column 2020:\n",
    "gdp_df['2020'].describe()"
   ]
  },
  {
   "cell_type": "markdown",
   "metadata": {},
   "source": [
    "As we can see 25% of the countries in this catagory have a GDP per Capita higher than 50000$.\n",
    "These countries can be considered more similar in some ways and merged to a group."
   ]
  },
  {
   "cell_type": "code",
   "execution_count": 5,
   "metadata": {},
   "outputs": [
    {
     "data": {
      "text/html": [
       "<div>\n",
       "<style scoped>\n",
       "    .dataframe tbody tr th:only-of-type {\n",
       "        vertical-align: middle;\n",
       "    }\n",
       "\n",
       "    .dataframe tbody tr th {\n",
       "        vertical-align: top;\n",
       "    }\n",
       "\n",
       "    .dataframe thead th {\n",
       "        text-align: right;\n",
       "    }\n",
       "</style>\n",
       "<table border=\"1\" class=\"dataframe\">\n",
       "  <thead>\n",
       "    <tr style=\"text-align: right;\">\n",
       "      <th></th>\n",
       "      <th>addresscountryname</th>\n",
       "      <th>city_actual</th>\n",
       "      <th>rating_reviewcount</th>\n",
       "      <th>center1distance</th>\n",
       "      <th>center1label</th>\n",
       "      <th>center2distance</th>\n",
       "      <th>center2label</th>\n",
       "      <th>neighbourhood</th>\n",
       "      <th>price</th>\n",
       "      <th>price_night</th>\n",
       "      <th>...</th>\n",
       "      <th>guestreviewsrating</th>\n",
       "      <th>scarce_room</th>\n",
       "      <th>hotel_id</th>\n",
       "      <th>offer</th>\n",
       "      <th>offer_cat</th>\n",
       "      <th>year</th>\n",
       "      <th>month</th>\n",
       "      <th>weekend</th>\n",
       "      <th>holiday</th>\n",
       "      <th>GDP</th>\n",
       "    </tr>\n",
       "  </thead>\n",
       "  <tbody>\n",
       "    <tr>\n",
       "      <th>0</th>\n",
       "      <td>Netherlands</td>\n",
       "      <td>Amsterdam</td>\n",
       "      <td>1030.0</td>\n",
       "      <td>3.1 miles</td>\n",
       "      <td>City centre</td>\n",
       "      <td>3.6 miles</td>\n",
       "      <td>Montelbaanstoren</td>\n",
       "      <td>Amsterdam</td>\n",
       "      <td>172</td>\n",
       "      <td>price for 1 night</td>\n",
       "      <td>...</td>\n",
       "      <td>4.3 /5</td>\n",
       "      <td>0</td>\n",
       "      <td>1.0</td>\n",
       "      <td>0</td>\n",
       "      <td>0% no offer</td>\n",
       "      <td>2017</td>\n",
       "      <td>11</td>\n",
       "      <td>1</td>\n",
       "      <td>0</td>\n",
       "      <td>52162.57012</td>\n",
       "    </tr>\n",
       "    <tr>\n",
       "      <th>1</th>\n",
       "      <td>Netherlands</td>\n",
       "      <td>Amsterdam</td>\n",
       "      <td>1030.0</td>\n",
       "      <td>3.1 miles</td>\n",
       "      <td>City centre</td>\n",
       "      <td>3.6 miles</td>\n",
       "      <td>Montelbaanstoren</td>\n",
       "      <td>Amsterdam</td>\n",
       "      <td>122</td>\n",
       "      <td>price for 1 night</td>\n",
       "      <td>...</td>\n",
       "      <td>4.3 /5</td>\n",
       "      <td>0</td>\n",
       "      <td>1.0</td>\n",
       "      <td>1</td>\n",
       "      <td>15-50% offer</td>\n",
       "      <td>2018</td>\n",
       "      <td>1</td>\n",
       "      <td>1</td>\n",
       "      <td>0</td>\n",
       "      <td>52162.57012</td>\n",
       "    </tr>\n",
       "    <tr>\n",
       "      <th>2</th>\n",
       "      <td>Netherlands</td>\n",
       "      <td>Amsterdam</td>\n",
       "      <td>1030.0</td>\n",
       "      <td>3.1 miles</td>\n",
       "      <td>City centre</td>\n",
       "      <td>3.6 miles</td>\n",
       "      <td>Montelbaanstoren</td>\n",
       "      <td>Amsterdam</td>\n",
       "      <td>122</td>\n",
       "      <td>price for 1 night</td>\n",
       "      <td>...</td>\n",
       "      <td>4.3 /5</td>\n",
       "      <td>0</td>\n",
       "      <td>1.0</td>\n",
       "      <td>1</td>\n",
       "      <td>15-50% offer</td>\n",
       "      <td>2017</td>\n",
       "      <td>12</td>\n",
       "      <td>0</td>\n",
       "      <td>1</td>\n",
       "      <td>52162.57012</td>\n",
       "    </tr>\n",
       "    <tr>\n",
       "      <th>3</th>\n",
       "      <td>Netherlands</td>\n",
       "      <td>Amsterdam</td>\n",
       "      <td>1030.0</td>\n",
       "      <td>3.1 miles</td>\n",
       "      <td>City centre</td>\n",
       "      <td>3.6 miles</td>\n",
       "      <td>Montelbaanstoren</td>\n",
       "      <td>Amsterdam</td>\n",
       "      <td>552</td>\n",
       "      <td>price for 4 nights</td>\n",
       "      <td>...</td>\n",
       "      <td>4.3 /5</td>\n",
       "      <td>0</td>\n",
       "      <td>1.0</td>\n",
       "      <td>1</td>\n",
       "      <td>1-15% offer</td>\n",
       "      <td>2017</td>\n",
       "      <td>12</td>\n",
       "      <td>0</td>\n",
       "      <td>1</td>\n",
       "      <td>52162.57012</td>\n",
       "    </tr>\n",
       "    <tr>\n",
       "      <th>4</th>\n",
       "      <td>Netherlands</td>\n",
       "      <td>Amsterdam</td>\n",
       "      <td>1030.0</td>\n",
       "      <td>3.1 miles</td>\n",
       "      <td>City centre</td>\n",
       "      <td>3.6 miles</td>\n",
       "      <td>Montelbaanstoren</td>\n",
       "      <td>Amsterdam</td>\n",
       "      <td>122</td>\n",
       "      <td>price for 1 night</td>\n",
       "      <td>...</td>\n",
       "      <td>4.3 /5</td>\n",
       "      <td>0</td>\n",
       "      <td>1.0</td>\n",
       "      <td>1</td>\n",
       "      <td>15-50% offer</td>\n",
       "      <td>2018</td>\n",
       "      <td>2</td>\n",
       "      <td>1</td>\n",
       "      <td>0</td>\n",
       "      <td>52162.57012</td>\n",
       "    </tr>\n",
       "  </tbody>\n",
       "</table>\n",
       "<p>5 rows × 25 columns</p>\n",
       "</div>"
      ],
      "text/plain": [
       "  addresscountryname city_actual  rating_reviewcount center1distance  \\\n",
       "0        Netherlands   Amsterdam              1030.0       3.1 miles   \n",
       "1        Netherlands   Amsterdam              1030.0       3.1 miles   \n",
       "2        Netherlands   Amsterdam              1030.0       3.1 miles   \n",
       "3        Netherlands   Amsterdam              1030.0       3.1 miles   \n",
       "4        Netherlands   Amsterdam              1030.0       3.1 miles   \n",
       "\n",
       "  center1label center2distance      center2label neighbourhood  price  \\\n",
       "0  City centre       3.6 miles  Montelbaanstoren     Amsterdam    172   \n",
       "1  City centre       3.6 miles  Montelbaanstoren     Amsterdam    122   \n",
       "2  City centre       3.6 miles  Montelbaanstoren     Amsterdam    122   \n",
       "3  City centre       3.6 miles  Montelbaanstoren     Amsterdam    552   \n",
       "4  City centre       3.6 miles  Montelbaanstoren     Amsterdam    122   \n",
       "\n",
       "          price_night  ... guestreviewsrating  scarce_room  hotel_id  offer  \\\n",
       "0   price for 1 night  ...             4.3 /5            0       1.0      0   \n",
       "1   price for 1 night  ...             4.3 /5            0       1.0      1   \n",
       "2   price for 1 night  ...             4.3 /5            0       1.0      1   \n",
       "3  price for 4 nights  ...             4.3 /5            0       1.0      1   \n",
       "4   price for 1 night  ...             4.3 /5            0       1.0      1   \n",
       "\n",
       "      offer_cat  year  month  weekend  holiday          GDP  \n",
       "0   0% no offer  2017     11        1        0  52162.57012  \n",
       "1  15-50% offer  2018      1        1        0  52162.57012  \n",
       "2  15-50% offer  2017     12        0        1  52162.57012  \n",
       "3   1-15% offer  2017     12        0        1  52162.57012  \n",
       "4  15-50% offer  2018      2        1        0  52162.57012  \n",
       "\n",
       "[5 rows x 25 columns]"
      ]
     },
     "execution_count": 5,
     "metadata": {},
     "output_type": "execute_result"
    }
   ],
   "source": [
    "# mapping the GDP data to the hotel booking data\n",
    "Data['GDP'] = Data['addresscountryname'].map(gdp_df.set_index('Country Name')['2020'])\n",
    "Data.head()"
   ]
  },
  {
   "cell_type": "code",
   "execution_count": 6,
   "metadata": {},
   "outputs": [
    {
     "name": "stdout",
     "output_type": "stream",
     "text": [
      "26032\n",
      "['Slovakia' 'Cameroon' 'Turkey' 'Egypt' 'Russia' 'Czech Republic' 'Malta']\n"
     ]
    }
   ],
   "source": [
    "# Checking for null values in gdp column\n",
    "print(Data['GDP'].isnull().sum())\n",
    "# Checking which countries have a missing GDP value\n",
    "missing_gdp =Data[Data['GDP'].isnull()]['addresscountryname'].unique()\n",
    "print(missing_gdp)"
   ]
  },
  {
   "cell_type": "code",
   "execution_count": 7,
   "metadata": {},
   "outputs": [
    {
     "name": "stdout",
     "output_type": "stream",
     "text": [
      "Slovakia\n",
      "['Slovak Republic']\n",
      "Cameroon\n",
      "[]\n",
      "Turkey\n",
      "[]\n",
      "Egypt\n",
      "[]\n",
      "Russia\n",
      "['Russian Federation']\n",
      "Czech Republic\n",
      "['Czechia']\n",
      "Malta\n",
      "[]\n"
     ]
    }
   ],
   "source": [
    "# Checking to find the similar countries in the gdp data\n",
    "for i in missing_gdp:\n",
    "    print(i)\n",
    "    print(gdp_df[gdp_df['Country Name'].str.contains(i[:5])]['Country Name'].unique()) "
   ]
  },
  {
   "cell_type": "markdown",
   "metadata": {},
   "source": [
    "As we can see, for some countries (Slovakia, Russia, Czech Republic) we were able to find the equivalent country names in world bank dataset. \n",
    "We replace the missing gdp value in _Data_ df with the values from __gdp_df__ and equivalent countries. "
   ]
  },
  {
   "cell_type": "code",
   "execution_count": 8,
   "metadata": {},
   "outputs": [],
   "source": [
    "# Replacing the missing gdp values in Data with the values from gdp_df and similar countries\n",
    "for i in missing_gdp:\n",
    "    if len(gdp_df[gdp_df['Country Name'].str.contains(i[:5])]['2020'].values) > 0:\n",
    "        Data.loc[Data['addresscountryname'] == i, 'GDP'] = gdp_df[gdp_df['Country Name'].str.contains(i[:5])]['2020'].values[0]"
   ]
  },
  {
   "cell_type": "markdown",
   "metadata": {},
   "source": [
    "## Data Filtering based on the GDP\n",
    "* In this project we plan to predict to hotel prices in european countries which have a gdp per capita higher than 50000$. We filter the data considering this criteria."
   ]
  },
  {
   "cell_type": "code",
   "execution_count": 9,
   "metadata": {},
   "outputs": [
    {
     "data": {
      "text/plain": [
       "((7394, 25),\n",
       "   addresscountryname city_actual  rating_reviewcount center1distance  \\\n",
       " 0        Netherlands   Amsterdam              1030.0       3.1 miles   \n",
       " 1        Netherlands   Amsterdam              1030.0       3.1 miles   \n",
       " 2        Netherlands   Amsterdam              1030.0       3.1 miles   \n",
       " 3        Netherlands   Amsterdam              1030.0       3.1 miles   \n",
       " 4        Netherlands   Amsterdam              1030.0       3.1 miles   \n",
       " \n",
       "   center1label center2distance      center2label neighbourhood  price  \\\n",
       " 0  City centre       3.6 miles  Montelbaanstoren     Amsterdam    172   \n",
       " 1  City centre       3.6 miles  Montelbaanstoren     Amsterdam    122   \n",
       " 2  City centre       3.6 miles  Montelbaanstoren     Amsterdam    122   \n",
       " 3  City centre       3.6 miles  Montelbaanstoren     Amsterdam    552   \n",
       " 4  City centre       3.6 miles  Montelbaanstoren     Amsterdam    122   \n",
       " \n",
       "           price_night  ... guestreviewsrating  scarce_room  hotel_id  offer  \\\n",
       " 0   price for 1 night  ...             4.3 /5            0       1.0      0   \n",
       " 1   price for 1 night  ...             4.3 /5            0       1.0      1   \n",
       " 2   price for 1 night  ...             4.3 /5            0       1.0      1   \n",
       " 3  price for 4 nights  ...             4.3 /5            0       1.0      1   \n",
       " 4   price for 1 night  ...             4.3 /5            0       1.0      1   \n",
       " \n",
       "       offer_cat  year  month  weekend  holiday          GDP  \n",
       " 0   0% no offer  2017     11        1        0  52162.57012  \n",
       " 1  15-50% offer  2018      1        1        0  52162.57012  \n",
       " 2  15-50% offer  2017     12        0        1  52162.57012  \n",
       " 3   1-15% offer  2017     12        0        1  52162.57012  \n",
       " 4  15-50% offer  2018      2        1        0  52162.57012  \n",
       " \n",
       " [5 rows x 25 columns])"
      ]
     },
     "execution_count": 9,
     "metadata": {},
     "output_type": "execute_result"
    }
   ],
   "source": [
    "# Filtering the data based on the countries with GDP values higher than 50000$\n",
    "df = Data[Data['GDP'] > 50000]\n",
    "df.shape, df.head()"
   ]
  },
  {
   "cell_type": "markdown",
   "metadata": {},
   "source": [
    "## Data Cleaning\n",
    "In the process of data cleaning we need to pave the following steps:\n",
    "* __Inspect for Missing Values__: Check if there are any missing values in the columns that we intend to use.\n",
    "* __Handle Categorical Data__: Convert categorical columns like city_actual, neighbourhood, etc., into a format suitable for machine learning models (e.g., through one-hot encoding).\n",
    "* __Handle Numerical Data__: Convert distances from string to numerical format (e.g., center1distance). Also, scale or normalize numerical features if required.\n",
    "* __Feature Selection and Labels__: Decide which columns will be used as input and which column will be the output."
   ]
  },
  {
   "cell_type": "code",
   "execution_count": 130,
   "metadata": {},
   "outputs": [
    {
     "data": {
      "text/html": [
       "<div>\n",
       "<style scoped>\n",
       "    .dataframe tbody tr th:only-of-type {\n",
       "        vertical-align: middle;\n",
       "    }\n",
       "\n",
       "    .dataframe tbody tr th {\n",
       "        vertical-align: top;\n",
       "    }\n",
       "\n",
       "    .dataframe thead th {\n",
       "        text-align: right;\n",
       "    }\n",
       "</style>\n",
       "<table border=\"1\" class=\"dataframe\">\n",
       "  <thead>\n",
       "    <tr style=\"text-align: right;\">\n",
       "      <th></th>\n",
       "      <th>Data types</th>\n",
       "      <th>Unique values</th>\n",
       "      <th>Missing values</th>\n",
       "    </tr>\n",
       "  </thead>\n",
       "  <tbody>\n",
       "    <tr>\n",
       "      <th>rating2_ta</th>\n",
       "      <td>float64</td>\n",
       "      <td>8</td>\n",
       "      <td>400</td>\n",
       "    </tr>\n",
       "    <tr>\n",
       "      <th>rating2_ta_reviewcount</th>\n",
       "      <td>float64</td>\n",
       "      <td>773</td>\n",
       "      <td>400</td>\n",
       "    </tr>\n",
       "    <tr>\n",
       "      <th>rating_reviewcount</th>\n",
       "      <td>float64</td>\n",
       "      <td>604</td>\n",
       "      <td>189</td>\n",
       "    </tr>\n",
       "    <tr>\n",
       "      <th>guestreviewsrating</th>\n",
       "      <td>object</td>\n",
       "      <td>25</td>\n",
       "      <td>189</td>\n",
       "    </tr>\n",
       "    <tr>\n",
       "      <th>holiday</th>\n",
       "      <td>int64</td>\n",
       "      <td>2</td>\n",
       "      <td>0</td>\n",
       "    </tr>\n",
       "    <tr>\n",
       "      <th>weekend</th>\n",
       "      <td>int64</td>\n",
       "      <td>2</td>\n",
       "      <td>0</td>\n",
       "    </tr>\n",
       "    <tr>\n",
       "      <th>month</th>\n",
       "      <td>int64</td>\n",
       "      <td>8</td>\n",
       "      <td>0</td>\n",
       "    </tr>\n",
       "    <tr>\n",
       "      <th>year</th>\n",
       "      <td>int64</td>\n",
       "      <td>2</td>\n",
       "      <td>0</td>\n",
       "    </tr>\n",
       "    <tr>\n",
       "      <th>offer_cat</th>\n",
       "      <td>object</td>\n",
       "      <td>5</td>\n",
       "      <td>0</td>\n",
       "    </tr>\n",
       "    <tr>\n",
       "      <th>offer</th>\n",
       "      <td>int64</td>\n",
       "      <td>2</td>\n",
       "      <td>0</td>\n",
       "    </tr>\n",
       "    <tr>\n",
       "      <th>hotel_id</th>\n",
       "      <td>float64</td>\n",
       "      <td>1212</td>\n",
       "      <td>0</td>\n",
       "    </tr>\n",
       "    <tr>\n",
       "      <th>scarce_room</th>\n",
       "      <td>int64</td>\n",
       "      <td>2</td>\n",
       "      <td>0</td>\n",
       "    </tr>\n",
       "    <tr>\n",
       "      <th>accommodationtype</th>\n",
       "      <td>object</td>\n",
       "      <td>12</td>\n",
       "      <td>0</td>\n",
       "    </tr>\n",
       "    <tr>\n",
       "      <th>addresscountryname</th>\n",
       "      <td>object</td>\n",
       "      <td>4</td>\n",
       "      <td>0</td>\n",
       "    </tr>\n",
       "    <tr>\n",
       "      <th>city_actual</th>\n",
       "      <td>object</td>\n",
       "      <td>88</td>\n",
       "      <td>0</td>\n",
       "    </tr>\n",
       "    <tr>\n",
       "      <th>starrating</th>\n",
       "      <td>float64</td>\n",
       "      <td>10</td>\n",
       "      <td>0</td>\n",
       "    </tr>\n",
       "    <tr>\n",
       "      <th>s_city</th>\n",
       "      <td>object</td>\n",
       "      <td>5</td>\n",
       "      <td>0</td>\n",
       "    </tr>\n",
       "    <tr>\n",
       "      <th>price_night</th>\n",
       "      <td>object</td>\n",
       "      <td>2</td>\n",
       "      <td>0</td>\n",
       "    </tr>\n",
       "    <tr>\n",
       "      <th>price</th>\n",
       "      <td>int64</td>\n",
       "      <td>838</td>\n",
       "      <td>0</td>\n",
       "    </tr>\n",
       "    <tr>\n",
       "      <th>neighbourhood</th>\n",
       "      <td>object</td>\n",
       "      <td>112</td>\n",
       "      <td>0</td>\n",
       "    </tr>\n",
       "    <tr>\n",
       "      <th>center2label</th>\n",
       "      <td>object</td>\n",
       "      <td>5</td>\n",
       "      <td>0</td>\n",
       "    </tr>\n",
       "    <tr>\n",
       "      <th>center2distance</th>\n",
       "      <td>object</td>\n",
       "      <td>120</td>\n",
       "      <td>0</td>\n",
       "    </tr>\n",
       "    <tr>\n",
       "      <th>center1label</th>\n",
       "      <td>object</td>\n",
       "      <td>1</td>\n",
       "      <td>0</td>\n",
       "    </tr>\n",
       "    <tr>\n",
       "      <th>center1distance</th>\n",
       "      <td>object</td>\n",
       "      <td>109</td>\n",
       "      <td>0</td>\n",
       "    </tr>\n",
       "    <tr>\n",
       "      <th>GDP</th>\n",
       "      <td>float64</td>\n",
       "      <td>4</td>\n",
       "      <td>0</td>\n",
       "    </tr>\n",
       "  </tbody>\n",
       "</table>\n",
       "</div>"
      ],
      "text/plain": [
       "                       Data types  Unique values  Missing values\n",
       "rating2_ta                float64              8             400\n",
       "rating2_ta_reviewcount    float64            773             400\n",
       "rating_reviewcount        float64            604             189\n",
       "guestreviewsrating         object             25             189\n",
       "holiday                     int64              2               0\n",
       "weekend                     int64              2               0\n",
       "month                       int64              8               0\n",
       "year                        int64              2               0\n",
       "offer_cat                  object              5               0\n",
       "offer                       int64              2               0\n",
       "hotel_id                  float64           1212               0\n",
       "scarce_room                 int64              2               0\n",
       "accommodationtype          object             12               0\n",
       "addresscountryname         object              4               0\n",
       "city_actual                object             88               0\n",
       "starrating                float64             10               0\n",
       "s_city                     object              5               0\n",
       "price_night                object              2               0\n",
       "price                       int64            838               0\n",
       "neighbourhood              object            112               0\n",
       "center2label               object              5               0\n",
       "center2distance            object            120               0\n",
       "center1label               object              1               0\n",
       "center1distance            object            109               0\n",
       "GDP                       float64              4               0"
      ]
     },
     "execution_count": 130,
     "metadata": {},
     "output_type": "execute_result"
    }
   ],
   "source": [
    "# Checking the missing values\n",
    "missing_values = df.isnull().sum()\n",
    "\n",
    "# Checking the data types and unique values\n",
    "data_types = df.dtypes\n",
    "unique_values = df.nunique()\n",
    "\n",
    "# Summarizing the above results\n",
    "Data_summary = pd.DataFrame({'Data types': data_types, 'Unique values': unique_values, 'Missing values': missing_values})\n",
    "Data_summary.sort_values(by = 'Missing values', ascending = False)"
   ]
  },
  {
   "cell_type": "code",
   "execution_count": 17,
   "metadata": {},
   "outputs": [
    {
     "name": "stderr",
     "output_type": "stream",
     "text": [
      "C:\\Users\\PA\\AppData\\Local\\Temp\\ipykernel_19080\\249034060.py:2: SettingWithCopyWarning: \n",
      "A value is trying to be set on a copy of a slice from a DataFrame.\n",
      "Try using .loc[row_indexer,col_indexer] = value instead\n",
      "\n",
      "See the caveats in the documentation: https://pandas.pydata.org/pandas-docs/stable/user_guide/indexing.html#returning-a-view-versus-a-copy\n",
      "  df['guestreviewsrating'] = df['guestreviewsrating'].str.extract('(\\d+)')\n",
      "C:\\Users\\PA\\AppData\\Local\\Temp\\ipykernel_19080\\249034060.py:3: SettingWithCopyWarning: \n",
      "A value is trying to be set on a copy of a slice from a DataFrame.\n",
      "Try using .loc[row_indexer,col_indexer] = value instead\n",
      "\n",
      "See the caveats in the documentation: https://pandas.pydata.org/pandas-docs/stable/user_guide/indexing.html#returning-a-view-versus-a-copy\n",
      "  df['guestreviewsrating'] = df['guestreviewsrating'].astype(float)\n"
     ]
    }
   ],
   "source": [
    "# Extracting the guest score and converting it to float\n",
    "df['guestreviewsrating'] = df['guestreviewsrating'].str.extract('(\\d+)')\n",
    "df['guestreviewsrating'] = df['guestreviewsrating'].astype(float)"
   ]
  },
  {
   "cell_type": "code",
   "execution_count": 19,
   "metadata": {},
   "outputs": [
    {
     "name": "stderr",
     "output_type": "stream",
     "text": [
      "C:\\Users\\PA\\AppData\\Local\\Temp\\ipykernel_19080\\3504336932.py:2: SettingWithCopyWarning: \n",
      "A value is trying to be set on a copy of a slice from a DataFrame\n",
      "\n",
      "See the caveats in the documentation: https://pandas.pydata.org/pandas-docs/stable/user_guide/indexing.html#returning-a-view-versus-a-copy\n",
      "  df['rating2_ta'].fillna(df['rating2_ta'].mean(), inplace = True)\n",
      "C:\\Users\\PA\\AppData\\Local\\Temp\\ipykernel_19080\\3504336932.py:3: SettingWithCopyWarning: \n",
      "A value is trying to be set on a copy of a slice from a DataFrame\n",
      "\n",
      "See the caveats in the documentation: https://pandas.pydata.org/pandas-docs/stable/user_guide/indexing.html#returning-a-view-versus-a-copy\n",
      "  df['rating2_ta_reviewcount'].fillna(df['rating2_ta_reviewcount'].mean(), inplace = True)\n",
      "C:\\Users\\PA\\AppData\\Local\\Temp\\ipykernel_19080\\3504336932.py:4: SettingWithCopyWarning: \n",
      "A value is trying to be set on a copy of a slice from a DataFrame\n",
      "\n",
      "See the caveats in the documentation: https://pandas.pydata.org/pandas-docs/stable/user_guide/indexing.html#returning-a-view-versus-a-copy\n",
      "  df['rating_reviewcount'].fillna(df['rating_reviewcount'].mean(), inplace = True)\n",
      "C:\\Users\\PA\\AppData\\Local\\Temp\\ipykernel_19080\\3504336932.py:5: SettingWithCopyWarning: \n",
      "A value is trying to be set on a copy of a slice from a DataFrame\n",
      "\n",
      "See the caveats in the documentation: https://pandas.pydata.org/pandas-docs/stable/user_guide/indexing.html#returning-a-view-versus-a-copy\n",
      "  df['guestreviewsrating'].fillna(df['guestreviewsrating'].mean(), inplace = True)\n"
     ]
    }
   ],
   "source": [
    "# replacing the missing values in the rating columns with the mode values\n",
    "df['rating2_ta'].fillna(df['rating2_ta'].mean(), inplace = True)\n",
    "df['rating2_ta_reviewcount'].fillna(df['rating2_ta_reviewcount'].mean(), inplace = True)\n",
    "df['rating_reviewcount'].fillna(df['rating_reviewcount'].mean(), inplace = True)\n",
    "df['guestreviewsrating'].fillna(df['guestreviewsrating'].mean(), inplace = True)"
   ]
  },
  {
   "cell_type": "code",
   "execution_count": 20,
   "metadata": {},
   "outputs": [
    {
     "data": {
      "text/plain": [
       "addresscountryname        0\n",
       "city_actual               0\n",
       "rating_reviewcount        0\n",
       "center1distance           0\n",
       "center1label              0\n",
       "center2distance           0\n",
       "center2label              0\n",
       "neighbourhood             0\n",
       "price                     0\n",
       "price_night               0\n",
       "s_city                    0\n",
       "starrating                0\n",
       "rating2_ta                0\n",
       "rating2_ta_reviewcount    0\n",
       "accommodationtype         0\n",
       "guestreviewsrating        0\n",
       "scarce_room               0\n",
       "hotel_id                  0\n",
       "offer                     0\n",
       "offer_cat                 0\n",
       "year                      0\n",
       "month                     0\n",
       "weekend                   0\n",
       "holiday                   0\n",
       "GDP                       0\n",
       "dtype: int64"
      ]
     },
     "execution_count": 20,
     "metadata": {},
     "output_type": "execute_result"
    }
   ],
   "source": [
    "df.isnull().sum()"
   ]
  },
  {
   "cell_type": "markdown",
   "metadata": {},
   "source": [
    "# Feature Selection & ِData Cleaning\n",
    "In this step we are going to decide which variables to use in our prediction model.\n",
    "* Our target variable is _\"Price/Night\"_. We can derive this variable by dividing the price to __price_night__.\n",
    "* It seems trivial that accommodatin_type affects the price. (Type = Categorical)\n",
    "* Location variables (Country, City): Location is a key factor in pricing. (Type = Categorical)\n",
    "* Star_rating\n",
    "* rating, rating count\n",
    "* ratingta (advisor rating)\n",
    "* Distance, Distance alter\n",
    "* year, month\n",
    "* scarce room"
   ]
  },
  {
   "cell_type": "code",
   "execution_count": 132,
   "metadata": {},
   "outputs": [
    {
     "data": {
      "text/html": [
       "<div>\n",
       "<style scoped>\n",
       "    .dataframe tbody tr th:only-of-type {\n",
       "        vertical-align: middle;\n",
       "    }\n",
       "\n",
       "    .dataframe tbody tr th {\n",
       "        vertical-align: top;\n",
       "    }\n",
       "\n",
       "    .dataframe thead th {\n",
       "        text-align: right;\n",
       "    }\n",
       "</style>\n",
       "<table border=\"1\" class=\"dataframe\">\n",
       "  <thead>\n",
       "    <tr style=\"text-align: right;\">\n",
       "      <th></th>\n",
       "      <th>addresscountryname</th>\n",
       "      <th>city_actual</th>\n",
       "      <th>rating_reviewcount</th>\n",
       "      <th>center1distance</th>\n",
       "      <th>center1label</th>\n",
       "      <th>center2distance</th>\n",
       "      <th>center2label</th>\n",
       "      <th>neighbourhood</th>\n",
       "      <th>price</th>\n",
       "      <th>price_night</th>\n",
       "      <th>...</th>\n",
       "      <th>guestreviewsrating</th>\n",
       "      <th>scarce_room</th>\n",
       "      <th>hotel_id</th>\n",
       "      <th>offer</th>\n",
       "      <th>offer_cat</th>\n",
       "      <th>year</th>\n",
       "      <th>month</th>\n",
       "      <th>weekend</th>\n",
       "      <th>holiday</th>\n",
       "      <th>GDP</th>\n",
       "    </tr>\n",
       "  </thead>\n",
       "  <tbody>\n",
       "    <tr>\n",
       "      <th>0</th>\n",
       "      <td>Netherlands</td>\n",
       "      <td>Amsterdam</td>\n",
       "      <td>1030.0</td>\n",
       "      <td>3.1 miles</td>\n",
       "      <td>City centre</td>\n",
       "      <td>3.6 miles</td>\n",
       "      <td>Montelbaanstoren</td>\n",
       "      <td>Amsterdam</td>\n",
       "      <td>172</td>\n",
       "      <td>price for 1 night</td>\n",
       "      <td>...</td>\n",
       "      <td>4.3 /5</td>\n",
       "      <td>0</td>\n",
       "      <td>1.0</td>\n",
       "      <td>0</td>\n",
       "      <td>0% no offer</td>\n",
       "      <td>2017</td>\n",
       "      <td>11</td>\n",
       "      <td>1</td>\n",
       "      <td>0</td>\n",
       "      <td>52162.57012</td>\n",
       "    </tr>\n",
       "    <tr>\n",
       "      <th>1</th>\n",
       "      <td>Netherlands</td>\n",
       "      <td>Amsterdam</td>\n",
       "      <td>1030.0</td>\n",
       "      <td>3.1 miles</td>\n",
       "      <td>City centre</td>\n",
       "      <td>3.6 miles</td>\n",
       "      <td>Montelbaanstoren</td>\n",
       "      <td>Amsterdam</td>\n",
       "      <td>122</td>\n",
       "      <td>price for 1 night</td>\n",
       "      <td>...</td>\n",
       "      <td>4.3 /5</td>\n",
       "      <td>0</td>\n",
       "      <td>1.0</td>\n",
       "      <td>1</td>\n",
       "      <td>15-50% offer</td>\n",
       "      <td>2018</td>\n",
       "      <td>1</td>\n",
       "      <td>1</td>\n",
       "      <td>0</td>\n",
       "      <td>52162.57012</td>\n",
       "    </tr>\n",
       "    <tr>\n",
       "      <th>2</th>\n",
       "      <td>Netherlands</td>\n",
       "      <td>Amsterdam</td>\n",
       "      <td>1030.0</td>\n",
       "      <td>3.1 miles</td>\n",
       "      <td>City centre</td>\n",
       "      <td>3.6 miles</td>\n",
       "      <td>Montelbaanstoren</td>\n",
       "      <td>Amsterdam</td>\n",
       "      <td>122</td>\n",
       "      <td>price for 1 night</td>\n",
       "      <td>...</td>\n",
       "      <td>4.3 /5</td>\n",
       "      <td>0</td>\n",
       "      <td>1.0</td>\n",
       "      <td>1</td>\n",
       "      <td>15-50% offer</td>\n",
       "      <td>2017</td>\n",
       "      <td>12</td>\n",
       "      <td>0</td>\n",
       "      <td>1</td>\n",
       "      <td>52162.57012</td>\n",
       "    </tr>\n",
       "    <tr>\n",
       "      <th>3</th>\n",
       "      <td>Netherlands</td>\n",
       "      <td>Amsterdam</td>\n",
       "      <td>1030.0</td>\n",
       "      <td>3.1 miles</td>\n",
       "      <td>City centre</td>\n",
       "      <td>3.6 miles</td>\n",
       "      <td>Montelbaanstoren</td>\n",
       "      <td>Amsterdam</td>\n",
       "      <td>552</td>\n",
       "      <td>price for 4 nights</td>\n",
       "      <td>...</td>\n",
       "      <td>4.3 /5</td>\n",
       "      <td>0</td>\n",
       "      <td>1.0</td>\n",
       "      <td>1</td>\n",
       "      <td>1-15% offer</td>\n",
       "      <td>2017</td>\n",
       "      <td>12</td>\n",
       "      <td>0</td>\n",
       "      <td>1</td>\n",
       "      <td>52162.57012</td>\n",
       "    </tr>\n",
       "    <tr>\n",
       "      <th>4</th>\n",
       "      <td>Netherlands</td>\n",
       "      <td>Amsterdam</td>\n",
       "      <td>1030.0</td>\n",
       "      <td>3.1 miles</td>\n",
       "      <td>City centre</td>\n",
       "      <td>3.6 miles</td>\n",
       "      <td>Montelbaanstoren</td>\n",
       "      <td>Amsterdam</td>\n",
       "      <td>122</td>\n",
       "      <td>price for 1 night</td>\n",
       "      <td>...</td>\n",
       "      <td>4.3 /5</td>\n",
       "      <td>0</td>\n",
       "      <td>1.0</td>\n",
       "      <td>1</td>\n",
       "      <td>15-50% offer</td>\n",
       "      <td>2018</td>\n",
       "      <td>2</td>\n",
       "      <td>1</td>\n",
       "      <td>0</td>\n",
       "      <td>52162.57012</td>\n",
       "    </tr>\n",
       "  </tbody>\n",
       "</table>\n",
       "<p>5 rows × 25 columns</p>\n",
       "</div>"
      ],
      "text/plain": [
       "  addresscountryname city_actual  rating_reviewcount center1distance  \\\n",
       "0        Netherlands   Amsterdam              1030.0       3.1 miles   \n",
       "1        Netherlands   Amsterdam              1030.0       3.1 miles   \n",
       "2        Netherlands   Amsterdam              1030.0       3.1 miles   \n",
       "3        Netherlands   Amsterdam              1030.0       3.1 miles   \n",
       "4        Netherlands   Amsterdam              1030.0       3.1 miles   \n",
       "\n",
       "  center1label center2distance      center2label neighbourhood  price  \\\n",
       "0  City centre       3.6 miles  Montelbaanstoren     Amsterdam    172   \n",
       "1  City centre       3.6 miles  Montelbaanstoren     Amsterdam    122   \n",
       "2  City centre       3.6 miles  Montelbaanstoren     Amsterdam    122   \n",
       "3  City centre       3.6 miles  Montelbaanstoren     Amsterdam    552   \n",
       "4  City centre       3.6 miles  Montelbaanstoren     Amsterdam    122   \n",
       "\n",
       "          price_night  ... guestreviewsrating  scarce_room  hotel_id  offer  \\\n",
       "0   price for 1 night  ...             4.3 /5            0       1.0      0   \n",
       "1   price for 1 night  ...             4.3 /5            0       1.0      1   \n",
       "2   price for 1 night  ...             4.3 /5            0       1.0      1   \n",
       "3  price for 4 nights  ...             4.3 /5            0       1.0      1   \n",
       "4   price for 1 night  ...             4.3 /5            0       1.0      1   \n",
       "\n",
       "      offer_cat  year  month  weekend  holiday          GDP  \n",
       "0   0% no offer  2017     11        1        0  52162.57012  \n",
       "1  15-50% offer  2018      1        1        0  52162.57012  \n",
       "2  15-50% offer  2017     12        0        1  52162.57012  \n",
       "3   1-15% offer  2017     12        0        1  52162.57012  \n",
       "4  15-50% offer  2018      2        1        0  52162.57012  \n",
       "\n",
       "[5 rows x 25 columns]"
      ]
     },
     "execution_count": 132,
     "metadata": {},
     "output_type": "execute_result"
    }
   ],
   "source": [
    "df.head()"
   ]
  },
  {
   "cell_type": "markdown",
   "metadata": {},
   "source": [
    "### Defining the Target Variable\n",
    "* For this task we need to convert the __price_night__ variable to numerical values."
   ]
  },
  {
   "cell_type": "code",
   "execution_count": 133,
   "metadata": {},
   "outputs": [
    {
     "name": "stderr",
     "output_type": "stream",
     "text": [
      "C:\\Users\\PA\\AppData\\Local\\Temp\\ipykernel_11904\\1758452389.py:3: SettingWithCopyWarning: \n",
      "A value is trying to be set on a copy of a slice from a DataFrame.\n",
      "Try using .loc[row_indexer,col_indexer] = value instead\n",
      "\n",
      "See the caveats in the documentation: https://pandas.pydata.org/pandas-docs/stable/user_guide/indexing.html#returning-a-view-versus-a-copy\n",
      "  df['price_night'] = df['price_night'].apply(lambda x: re.findall(r'\\d+', str(x))[0])\n",
      "C:\\Users\\PA\\AppData\\Local\\Temp\\ipykernel_11904\\1758452389.py:6: SettingWithCopyWarning: \n",
      "A value is trying to be set on a copy of a slice from a DataFrame.\n",
      "Try using .loc[row_indexer,col_indexer] = value instead\n",
      "\n",
      "See the caveats in the documentation: https://pandas.pydata.org/pandas-docs/stable/user_guide/indexing.html#returning-a-view-versus-a-copy\n",
      "  df['price_night'] = pd.to_numeric(df['price_night'])\n",
      "C:\\Users\\PA\\AppData\\Local\\Temp\\ipykernel_11904\\1758452389.py:9: SettingWithCopyWarning: \n",
      "A value is trying to be set on a copy of a slice from a DataFrame.\n",
      "Try using .loc[row_indexer,col_indexer] = value instead\n",
      "\n",
      "See the caveats in the documentation: https://pandas.pydata.org/pandas-docs/stable/user_guide/indexing.html#returning-a-view-versus-a-copy\n",
      "  df['price_per_night'] = df['price']/df['price_night']\n"
     ]
    }
   ],
   "source": [
    "import re\n",
    "# Extract numerical values from \"price_night\" column\n",
    "df['price_night'] = df['price_night'].apply(lambda x: re.findall(r'\\d+', str(x))[0])\n",
    "\n",
    "# Convert the extracted values to numeric type\n",
    "df['price_night'] = pd.to_numeric(df['price_night'])\n",
    "\n",
    "# Creating target variable: price per night\n",
    "df['price_per_night'] = df['price']/df['price_night']"
   ]
  },
  {
   "cell_type": "markdown",
   "metadata": {},
   "source": [
    "### Accommodation Type"
   ]
  },
  {
   "cell_type": "code",
   "execution_count": 134,
   "metadata": {},
   "outputs": [
    {
     "name": "stdout",
     "output_type": "stream",
     "text": [
      "['_ACCOM_TYPE@Hotel' '_ACCOM_TYPE@Hostel' '_ACCOM_TYPE@Apartment'\n",
      " '_ACCOM_TYPE@Apart-hotel' '_ACCOM_TYPE@House boat' '_ACCOM_TYPE@Inn'\n",
      " '_ACCOM_TYPE@Guest House' '_ACCOM_TYPE@Bed and breakfast'\n",
      " '_ACCOM_TYPE@Castle' '_ACCOM_TYPE@Vacation home Condo'\n",
      " '_ACCOM_TYPE@Resort' '_ACCOM_TYPE@']\n"
     ]
    }
   ],
   "source": [
    "print(df['accommodationtype'].unique())"
   ]
  },
  {
   "cell_type": "code",
   "execution_count": 135,
   "metadata": {},
   "outputs": [
    {
     "name": "stderr",
     "output_type": "stream",
     "text": [
      "C:\\Users\\PA\\AppData\\Local\\Temp\\ipykernel_11904\\2666905615.py:1: SettingWithCopyWarning: \n",
      "A value is trying to be set on a copy of a slice from a DataFrame.\n",
      "Try using .loc[row_indexer,col_indexer] = value instead\n",
      "\n",
      "See the caveats in the documentation: https://pandas.pydata.org/pandas-docs/stable/user_guide/indexing.html#returning-a-view-versus-a-copy\n",
      "  df.loc[:, 'accommodationtype'] = df['accommodationtype'].str.split('@').str[1]\n"
     ]
    }
   ],
   "source": [
    "df.loc[:, 'accommodationtype'] = df['accommodationtype'].str.split('@').str[1]"
   ]
  },
  {
   "cell_type": "code",
   "execution_count": 136,
   "metadata": {},
   "outputs": [
    {
     "data": {
      "text/plain": [
       "array(['Hotel', 'Hostel', 'Apartment', 'Apart-hotel', 'House boat', 'Inn',\n",
       "       'Guest House', 'Bed and breakfast', 'Castle',\n",
       "       'Vacation home Condo', 'Resort', ''], dtype=object)"
      ]
     },
     "execution_count": 136,
     "metadata": {},
     "output_type": "execute_result"
    }
   ],
   "source": [
    "df['accommodationtype'].unique()"
   ]
  },
  {
   "cell_type": "code",
   "execution_count": 137,
   "metadata": {},
   "outputs": [],
   "source": [
    "# dropping the observations with df['accommodationtype']==''\n",
    "df = df[df['accommodationtype'] != '']"
   ]
  },
  {
   "cell_type": "code",
   "execution_count": 138,
   "metadata": {},
   "outputs": [
    {
     "data": {
      "text/plain": [
       "array(['Hotel', 'Hostel', 'Apartment', 'Apart-hotel', 'House boat', 'Inn',\n",
       "       'Guest House', 'Bed and breakfast', 'Castle',\n",
       "       'Vacation home Condo', 'Resort'], dtype=object)"
      ]
     },
     "execution_count": 138,
     "metadata": {},
     "output_type": "execute_result"
    }
   ],
   "source": [
    "df['accommodationtype'].unique()"
   ]
  },
  {
   "cell_type": "markdown",
   "metadata": {},
   "source": [
    "### Center Labels and Center Distances"
   ]
  },
  {
   "cell_type": "code",
   "execution_count": 139,
   "metadata": {},
   "outputs": [
    {
     "data": {
      "text/plain": [
       "array(['City centre'], dtype=object)"
      ]
     },
     "execution_count": 139,
     "metadata": {},
     "output_type": "execute_result"
    }
   ],
   "source": [
    "df['center1label'].unique()"
   ]
  },
  {
   "cell_type": "code",
   "execution_count": 140,
   "metadata": {},
   "outputs": [
    {
     "data": {
      "text/plain": [
       "array(['Montelbaanstoren', 'City Safari', 'Clontarf Castle',\n",
       "       'Port of Rotterdam', 'Eriksdalsbadet'], dtype=object)"
      ]
     },
     "execution_count": 140,
     "metadata": {},
     "output_type": "execute_result"
    }
   ],
   "source": [
    "df['center2label'].unique()"
   ]
  },
  {
   "cell_type": "markdown",
   "metadata": {},
   "source": [
    "* Center Labels do not seem to be very useful. We can drop them."
   ]
  },
  {
   "cell_type": "code",
   "execution_count": 141,
   "metadata": {},
   "outputs": [],
   "source": [
    "# Dropping the columns \"center1label\" and \"center2label\"\n",
    "df.drop(['center1label', 'center2label'], axis = 1, inplace = True)"
   ]
  },
  {
   "cell_type": "code",
   "execution_count": 142,
   "metadata": {},
   "outputs": [],
   "source": [
    "# Extracting the float values from the \"center1distance\" and \"center2distance\" columns\n",
    "df['center1distance'] = df['center1distance'].apply(lambda x: re.findall(r'\\d+\\.\\d+', str(x))[0] if re.findall(r'\\d+\\.\\d+', str(x)) else None)\n",
    "df['center2distance'] = df['center2distance'].apply(lambda x: re.findall(r'\\d+\\.\\d+', str(x))[0] if re.findall(r'\\d+\\.\\d+', str(x)) else None)\n",
    "# Converting the extracted values to numeric type\n",
    "df['center1distance'] = pd.to_numeric(df['center1distance'])\n",
    "df['center2distance'] = pd.to_numeric(df['center2distance'])"
   ]
  },
  {
   "cell_type": "markdown",
   "metadata": {},
   "source": [
    "## Ratings\n",
    "* Guest Review"
   ]
  },
  {
   "cell_type": "code",
   "execution_count": 143,
   "metadata": {},
   "outputs": [
    {
     "data": {
      "text/plain": [
       "array([4.3, 4.1, 3.5, 4.4, 4.8, 3.7, 3.9, 4.5, 2.9, 4.6, 2.7, 3.4, 3.2,\n",
       "       2.4, 4.9, 2.2, 2.5, 1.7, 1.3, 1.2])"
      ]
     },
     "execution_count": 143,
     "metadata": {},
     "output_type": "execute_result"
    }
   ],
   "source": [
    "# Extracting the float values from the \"guestreviewsrating\" column before the \" /\"\n",
    "df['guestreviewsrating'] = df['guestreviewsrating'].apply(lambda x: re.findall(r'\\d+\\.\\d+', str(x))[0] if re.findall(r'\\d+\\.\\d+', str(x)) else None)\n",
    "# converting the extracted values to numeric type\n",
    "df['guestreviewsrating'] = pd.to_numeric(df['guestreviewsrating'])\n",
    "#droping the observations with df['guestreviewsrating'] == None\n",
    "df = df[df['guestreviewsrating'].notna()]\n",
    "df['guestreviewsrating'].unique()"
   ]
  },
  {
   "cell_type": "markdown",
   "metadata": {},
   "source": [
    "### Offer_cat\n",
    "* This feature is a ordinal categorical variable and it seems the order of categories matters a lot in the pricing process. So, we need to use Label Encoding method to convert it to a variable that can be used in a regression model."
   ]
  },
  {
   "cell_type": "code",
   "execution_count": 144,
   "metadata": {},
   "outputs": [
    {
     "data": {
      "text/plain": [
       "array(['0% no offer', '15-50% offer', '1-15% offer', '50%-75% offer',\n",
       "       '75%+ offer '], dtype=object)"
      ]
     },
     "execution_count": 144,
     "metadata": {},
     "output_type": "execute_result"
    }
   ],
   "source": [
    "df['offer_cat'].unique()"
   ]
  },
  {
   "cell_type": "code",
   "execution_count": 145,
   "metadata": {},
   "outputs": [],
   "source": [
    "# Convert the offer_cat column to categorical type using LabelEncoder\n",
    "ordered_categories = {'0% no offer': 0, r'15-50% offer':1, r'1-15% offer':2, r'50%-75% offer':3, r'75%+ offer ':4}\n",
    "df['offer_cat'] = df['offer_cat'].map(ordered_categories)"
   ]
  },
  {
   "cell_type": "code",
   "execution_count": 146,
   "metadata": {},
   "outputs": [
    {
     "data": {
      "text/plain": [
       "array([0, 1, 2, 3, 4], dtype=int64)"
      ]
     },
     "execution_count": 146,
     "metadata": {},
     "output_type": "execute_result"
    }
   ],
   "source": [
    "df['offer_cat'].unique()"
   ]
  },
  {
   "cell_type": "code",
   "execution_count": null,
   "metadata": {},
   "outputs": [],
   "source": []
  }
 ],
 "metadata": {
  "kernelspec": {
   "display_name": "Python 3",
   "language": "python",
   "name": "python3"
  },
  "language_info": {
   "codemirror_mode": {
    "name": "ipython",
    "version": 3
   },
   "file_extension": ".py",
   "mimetype": "text/x-python",
   "name": "python",
   "nbconvert_exporter": "python",
   "pygments_lexer": "ipython3",
   "version": "3.10.9"
  }
 },
 "nbformat": 4,
 "nbformat_minor": 2
}
