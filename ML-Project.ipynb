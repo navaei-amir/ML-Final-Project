{
 "cells": [
  {
   "cell_type": "code",
   "execution_count": 92,
   "metadata": {},
   "outputs": [],
   "source": [
    "# Importing the libraries\n",
    "import pandas as pd\n",
    "import numpy as np\n",
    "import matplotlib.pyplot as plt"
   ]
  },
  {
   "cell_type": "code",
   "execution_count": 93,
   "metadata": {},
   "outputs": [
    {
     "data": {
      "text/html": [
       "<div>\n",
       "<style scoped>\n",
       "    .dataframe tbody tr th:only-of-type {\n",
       "        vertical-align: middle;\n",
       "    }\n",
       "\n",
       "    .dataframe tbody tr th {\n",
       "        vertical-align: top;\n",
       "    }\n",
       "\n",
       "    .dataframe thead th {\n",
       "        text-align: right;\n",
       "    }\n",
       "</style>\n",
       "<table border=\"1\" class=\"dataframe\">\n",
       "  <thead>\n",
       "    <tr style=\"text-align: right;\">\n",
       "      <th></th>\n",
       "      <th>addresscountryname</th>\n",
       "      <th>city_actual</th>\n",
       "      <th>rating_reviewcount</th>\n",
       "      <th>center1distance</th>\n",
       "      <th>center1label</th>\n",
       "      <th>center2distance</th>\n",
       "      <th>center2label</th>\n",
       "      <th>neighbourhood</th>\n",
       "      <th>price</th>\n",
       "      <th>price_night</th>\n",
       "      <th>...</th>\n",
       "      <th>accommodationtype</th>\n",
       "      <th>guestreviewsrating</th>\n",
       "      <th>scarce_room</th>\n",
       "      <th>hotel_id</th>\n",
       "      <th>offer</th>\n",
       "      <th>offer_cat</th>\n",
       "      <th>year</th>\n",
       "      <th>month</th>\n",
       "      <th>weekend</th>\n",
       "      <th>holiday</th>\n",
       "    </tr>\n",
       "  </thead>\n",
       "  <tbody>\n",
       "    <tr>\n",
       "      <th>0</th>\n",
       "      <td>Netherlands</td>\n",
       "      <td>Amsterdam</td>\n",
       "      <td>1030.00</td>\n",
       "      <td>3.1 miles</td>\n",
       "      <td>City centre</td>\n",
       "      <td>3.6 miles</td>\n",
       "      <td>Montelbaanstoren</td>\n",
       "      <td>Amsterdam</td>\n",
       "      <td>172</td>\n",
       "      <td>price for 1 night</td>\n",
       "      <td>...</td>\n",
       "      <td>_ACCOM_TYPE@Hotel</td>\n",
       "      <td>4.3 /5</td>\n",
       "      <td>0</td>\n",
       "      <td>1.00</td>\n",
       "      <td>0</td>\n",
       "      <td>0% no offer</td>\n",
       "      <td>2017</td>\n",
       "      <td>11</td>\n",
       "      <td>1</td>\n",
       "      <td>0</td>\n",
       "    </tr>\n",
       "    <tr>\n",
       "      <th>1</th>\n",
       "      <td>Netherlands</td>\n",
       "      <td>Amsterdam</td>\n",
       "      <td>1030.00</td>\n",
       "      <td>3.1 miles</td>\n",
       "      <td>City centre</td>\n",
       "      <td>3.6 miles</td>\n",
       "      <td>Montelbaanstoren</td>\n",
       "      <td>Amsterdam</td>\n",
       "      <td>122</td>\n",
       "      <td>price for 1 night</td>\n",
       "      <td>...</td>\n",
       "      <td>_ACCOM_TYPE@Hotel</td>\n",
       "      <td>4.3 /5</td>\n",
       "      <td>0</td>\n",
       "      <td>1.00</td>\n",
       "      <td>1</td>\n",
       "      <td>15-50% offer</td>\n",
       "      <td>2018</td>\n",
       "      <td>1</td>\n",
       "      <td>1</td>\n",
       "      <td>0</td>\n",
       "    </tr>\n",
       "    <tr>\n",
       "      <th>2</th>\n",
       "      <td>Netherlands</td>\n",
       "      <td>Amsterdam</td>\n",
       "      <td>1030.00</td>\n",
       "      <td>3.1 miles</td>\n",
       "      <td>City centre</td>\n",
       "      <td>3.6 miles</td>\n",
       "      <td>Montelbaanstoren</td>\n",
       "      <td>Amsterdam</td>\n",
       "      <td>122</td>\n",
       "      <td>price for 1 night</td>\n",
       "      <td>...</td>\n",
       "      <td>_ACCOM_TYPE@Hotel</td>\n",
       "      <td>4.3 /5</td>\n",
       "      <td>0</td>\n",
       "      <td>1.00</td>\n",
       "      <td>1</td>\n",
       "      <td>15-50% offer</td>\n",
       "      <td>2017</td>\n",
       "      <td>12</td>\n",
       "      <td>0</td>\n",
       "      <td>1</td>\n",
       "    </tr>\n",
       "    <tr>\n",
       "      <th>3</th>\n",
       "      <td>Netherlands</td>\n",
       "      <td>Amsterdam</td>\n",
       "      <td>1030.00</td>\n",
       "      <td>3.1 miles</td>\n",
       "      <td>City centre</td>\n",
       "      <td>3.6 miles</td>\n",
       "      <td>Montelbaanstoren</td>\n",
       "      <td>Amsterdam</td>\n",
       "      <td>552</td>\n",
       "      <td>price for 4 nights</td>\n",
       "      <td>...</td>\n",
       "      <td>_ACCOM_TYPE@Hotel</td>\n",
       "      <td>4.3 /5</td>\n",
       "      <td>0</td>\n",
       "      <td>1.00</td>\n",
       "      <td>1</td>\n",
       "      <td>1-15% offer</td>\n",
       "      <td>2017</td>\n",
       "      <td>12</td>\n",
       "      <td>0</td>\n",
       "      <td>1</td>\n",
       "    </tr>\n",
       "    <tr>\n",
       "      <th>4</th>\n",
       "      <td>Netherlands</td>\n",
       "      <td>Amsterdam</td>\n",
       "      <td>1030.00</td>\n",
       "      <td>3.1 miles</td>\n",
       "      <td>City centre</td>\n",
       "      <td>3.6 miles</td>\n",
       "      <td>Montelbaanstoren</td>\n",
       "      <td>Amsterdam</td>\n",
       "      <td>122</td>\n",
       "      <td>price for 1 night</td>\n",
       "      <td>...</td>\n",
       "      <td>_ACCOM_TYPE@Hotel</td>\n",
       "      <td>4.3 /5</td>\n",
       "      <td>0</td>\n",
       "      <td>1.00</td>\n",
       "      <td>1</td>\n",
       "      <td>15-50% offer</td>\n",
       "      <td>2018</td>\n",
       "      <td>2</td>\n",
       "      <td>1</td>\n",
       "      <td>0</td>\n",
       "    </tr>\n",
       "  </tbody>\n",
       "</table>\n",
       "<p>5 rows × 24 columns</p>\n",
       "</div>"
      ],
      "text/plain": [
       "  addresscountryname city_actual  rating_reviewcount center1distance  \\\n",
       "0        Netherlands   Amsterdam             1030.00       3.1 miles   \n",
       "1        Netherlands   Amsterdam             1030.00       3.1 miles   \n",
       "2        Netherlands   Amsterdam             1030.00       3.1 miles   \n",
       "3        Netherlands   Amsterdam             1030.00       3.1 miles   \n",
       "4        Netherlands   Amsterdam             1030.00       3.1 miles   \n",
       "\n",
       "  center1label center2distance      center2label neighbourhood  price  \\\n",
       "0  City centre       3.6 miles  Montelbaanstoren     Amsterdam    172   \n",
       "1  City centre       3.6 miles  Montelbaanstoren     Amsterdam    122   \n",
       "2  City centre       3.6 miles  Montelbaanstoren     Amsterdam    122   \n",
       "3  City centre       3.6 miles  Montelbaanstoren     Amsterdam    552   \n",
       "4  City centre       3.6 miles  Montelbaanstoren     Amsterdam    122   \n",
       "\n",
       "          price_night  ...  accommodationtype  guestreviewsrating  \\\n",
       "0   price for 1 night  ...  _ACCOM_TYPE@Hotel              4.3 /5   \n",
       "1   price for 1 night  ...  _ACCOM_TYPE@Hotel              4.3 /5   \n",
       "2   price for 1 night  ...  _ACCOM_TYPE@Hotel              4.3 /5   \n",
       "3  price for 4 nights  ...  _ACCOM_TYPE@Hotel              4.3 /5   \n",
       "4   price for 1 night  ...  _ACCOM_TYPE@Hotel              4.3 /5   \n",
       "\n",
       "   scarce_room  hotel_id offer     offer_cat  year  month  weekend holiday  \n",
       "0            0      1.00     0   0% no offer  2017     11        1       0  \n",
       "1            0      1.00     1  15-50% offer  2018      1        1       0  \n",
       "2            0      1.00     1  15-50% offer  2017     12        0       1  \n",
       "3            0      1.00     1   1-15% offer  2017     12        0       1  \n",
       "4            0      1.00     1  15-50% offer  2018      2        1       0  \n",
       "\n",
       "[5 rows x 24 columns]"
      ]
     },
     "execution_count": 93,
     "metadata": {},
     "output_type": "execute_result"
    }
   ],
   "source": [
    "Data = pd.read_csv('hotelbookingdata.csv')\n",
    "Data.head()"
   ]
  },
  {
   "cell_type": "code",
   "execution_count": 94,
   "metadata": {},
   "outputs": [
    {
     "data": {
      "text/html": [
       "<div>\n",
       "<style scoped>\n",
       "    .dataframe tbody tr th:only-of-type {\n",
       "        vertical-align: middle;\n",
       "    }\n",
       "\n",
       "    .dataframe tbody tr th {\n",
       "        vertical-align: top;\n",
       "    }\n",
       "\n",
       "    .dataframe thead th {\n",
       "        text-align: right;\n",
       "    }\n",
       "</style>\n",
       "<table border=\"1\" class=\"dataframe\">\n",
       "  <thead>\n",
       "    <tr style=\"text-align: right;\">\n",
       "      <th></th>\n",
       "      <th>Country Name</th>\n",
       "      <th>Country Code</th>\n",
       "      <th>2020</th>\n",
       "      <th>Region</th>\n",
       "    </tr>\n",
       "  </thead>\n",
       "  <tbody>\n",
       "    <tr>\n",
       "      <th>0</th>\n",
       "      <td>Albania</td>\n",
       "      <td>ALB</td>\n",
       "      <td>5343.04</td>\n",
       "      <td>Europe &amp; Central Asia</td>\n",
       "    </tr>\n",
       "    <tr>\n",
       "      <th>1</th>\n",
       "      <td>Andorra</td>\n",
       "      <td>AND</td>\n",
       "      <td>37207.22</td>\n",
       "      <td>Europe &amp; Central Asia</td>\n",
       "    </tr>\n",
       "    <tr>\n",
       "      <th>2</th>\n",
       "      <td>Armenia</td>\n",
       "      <td>ARM</td>\n",
       "      <td>4505.87</td>\n",
       "      <td>Europe &amp; Central Asia</td>\n",
       "    </tr>\n",
       "    <tr>\n",
       "      <th>3</th>\n",
       "      <td>Austria</td>\n",
       "      <td>AUT</td>\n",
       "      <td>48809.23</td>\n",
       "      <td>Europe &amp; Central Asia</td>\n",
       "    </tr>\n",
       "    <tr>\n",
       "      <th>4</th>\n",
       "      <td>Azerbaijan</td>\n",
       "      <td>AZE</td>\n",
       "      <td>4229.91</td>\n",
       "      <td>Europe &amp; Central Asia</td>\n",
       "    </tr>\n",
       "  </tbody>\n",
       "</table>\n",
       "</div>"
      ],
      "text/plain": [
       "  Country Name Country Code     2020                 Region\n",
       "0      Albania          ALB  5343.04  Europe & Central Asia\n",
       "1      Andorra          AND 37207.22  Europe & Central Asia\n",
       "2      Armenia          ARM  4505.87  Europe & Central Asia\n",
       "3      Austria          AUT 48809.23  Europe & Central Asia\n",
       "4   Azerbaijan          AZE  4229.91  Europe & Central Asia"
      ]
     },
     "execution_count": 94,
     "metadata": {},
     "output_type": "execute_result"
    }
   ],
   "source": [
    "# Loading the GDP data for filtering\n",
    "gdp_df = pd.read_csv('GDP-Capita.csv')\n",
    "gdp_df.head()"
   ]
  },
  {
   "cell_type": "code",
   "execution_count": 95,
   "metadata": {},
   "outputs": [
    {
     "data": {
      "text/plain": [
       "count       57.00\n",
       "mean     34478.29\n",
       "std      37468.49\n",
       "min        852.33\n",
       "25%       7677.37\n",
       "50%      22242.41\n",
       "75%      49169.72\n",
       "max     182537.30\n",
       "Name: 2020, dtype: float64"
      ]
     },
     "execution_count": 95,
     "metadata": {},
     "output_type": "execute_result"
    }
   ],
   "source": [
    "# Describing the column 2020:\n",
    "gdp_df['2020'].describe()"
   ]
  },
  {
   "cell_type": "markdown",
   "metadata": {},
   "source": [
    "As we can see 25% of the countries in this catagory have a GDP per Capita higher than 50000$.\n",
    "These countries can be considered more similar in some ways and merged to a group."
   ]
  },
  {
   "cell_type": "code",
   "execution_count": 96,
   "metadata": {},
   "outputs": [
    {
     "data": {
      "text/html": [
       "<div>\n",
       "<style scoped>\n",
       "    .dataframe tbody tr th:only-of-type {\n",
       "        vertical-align: middle;\n",
       "    }\n",
       "\n",
       "    .dataframe tbody tr th {\n",
       "        vertical-align: top;\n",
       "    }\n",
       "\n",
       "    .dataframe thead th {\n",
       "        text-align: right;\n",
       "    }\n",
       "</style>\n",
       "<table border=\"1\" class=\"dataframe\">\n",
       "  <thead>\n",
       "    <tr style=\"text-align: right;\">\n",
       "      <th></th>\n",
       "      <th>addresscountryname</th>\n",
       "      <th>city_actual</th>\n",
       "      <th>rating_reviewcount</th>\n",
       "      <th>center1distance</th>\n",
       "      <th>center1label</th>\n",
       "      <th>center2distance</th>\n",
       "      <th>center2label</th>\n",
       "      <th>neighbourhood</th>\n",
       "      <th>price</th>\n",
       "      <th>price_night</th>\n",
       "      <th>...</th>\n",
       "      <th>guestreviewsrating</th>\n",
       "      <th>scarce_room</th>\n",
       "      <th>hotel_id</th>\n",
       "      <th>offer</th>\n",
       "      <th>offer_cat</th>\n",
       "      <th>year</th>\n",
       "      <th>month</th>\n",
       "      <th>weekend</th>\n",
       "      <th>holiday</th>\n",
       "      <th>GDP</th>\n",
       "    </tr>\n",
       "  </thead>\n",
       "  <tbody>\n",
       "    <tr>\n",
       "      <th>0</th>\n",
       "      <td>Netherlands</td>\n",
       "      <td>Amsterdam</td>\n",
       "      <td>1030.00</td>\n",
       "      <td>3.1 miles</td>\n",
       "      <td>City centre</td>\n",
       "      <td>3.6 miles</td>\n",
       "      <td>Montelbaanstoren</td>\n",
       "      <td>Amsterdam</td>\n",
       "      <td>172</td>\n",
       "      <td>price for 1 night</td>\n",
       "      <td>...</td>\n",
       "      <td>4.3 /5</td>\n",
       "      <td>0</td>\n",
       "      <td>1.00</td>\n",
       "      <td>0</td>\n",
       "      <td>0% no offer</td>\n",
       "      <td>2017</td>\n",
       "      <td>11</td>\n",
       "      <td>1</td>\n",
       "      <td>0</td>\n",
       "      <td>52162.57</td>\n",
       "    </tr>\n",
       "    <tr>\n",
       "      <th>1</th>\n",
       "      <td>Netherlands</td>\n",
       "      <td>Amsterdam</td>\n",
       "      <td>1030.00</td>\n",
       "      <td>3.1 miles</td>\n",
       "      <td>City centre</td>\n",
       "      <td>3.6 miles</td>\n",
       "      <td>Montelbaanstoren</td>\n",
       "      <td>Amsterdam</td>\n",
       "      <td>122</td>\n",
       "      <td>price for 1 night</td>\n",
       "      <td>...</td>\n",
       "      <td>4.3 /5</td>\n",
       "      <td>0</td>\n",
       "      <td>1.00</td>\n",
       "      <td>1</td>\n",
       "      <td>15-50% offer</td>\n",
       "      <td>2018</td>\n",
       "      <td>1</td>\n",
       "      <td>1</td>\n",
       "      <td>0</td>\n",
       "      <td>52162.57</td>\n",
       "    </tr>\n",
       "    <tr>\n",
       "      <th>2</th>\n",
       "      <td>Netherlands</td>\n",
       "      <td>Amsterdam</td>\n",
       "      <td>1030.00</td>\n",
       "      <td>3.1 miles</td>\n",
       "      <td>City centre</td>\n",
       "      <td>3.6 miles</td>\n",
       "      <td>Montelbaanstoren</td>\n",
       "      <td>Amsterdam</td>\n",
       "      <td>122</td>\n",
       "      <td>price for 1 night</td>\n",
       "      <td>...</td>\n",
       "      <td>4.3 /5</td>\n",
       "      <td>0</td>\n",
       "      <td>1.00</td>\n",
       "      <td>1</td>\n",
       "      <td>15-50% offer</td>\n",
       "      <td>2017</td>\n",
       "      <td>12</td>\n",
       "      <td>0</td>\n",
       "      <td>1</td>\n",
       "      <td>52162.57</td>\n",
       "    </tr>\n",
       "    <tr>\n",
       "      <th>3</th>\n",
       "      <td>Netherlands</td>\n",
       "      <td>Amsterdam</td>\n",
       "      <td>1030.00</td>\n",
       "      <td>3.1 miles</td>\n",
       "      <td>City centre</td>\n",
       "      <td>3.6 miles</td>\n",
       "      <td>Montelbaanstoren</td>\n",
       "      <td>Amsterdam</td>\n",
       "      <td>552</td>\n",
       "      <td>price for 4 nights</td>\n",
       "      <td>...</td>\n",
       "      <td>4.3 /5</td>\n",
       "      <td>0</td>\n",
       "      <td>1.00</td>\n",
       "      <td>1</td>\n",
       "      <td>1-15% offer</td>\n",
       "      <td>2017</td>\n",
       "      <td>12</td>\n",
       "      <td>0</td>\n",
       "      <td>1</td>\n",
       "      <td>52162.57</td>\n",
       "    </tr>\n",
       "    <tr>\n",
       "      <th>4</th>\n",
       "      <td>Netherlands</td>\n",
       "      <td>Amsterdam</td>\n",
       "      <td>1030.00</td>\n",
       "      <td>3.1 miles</td>\n",
       "      <td>City centre</td>\n",
       "      <td>3.6 miles</td>\n",
       "      <td>Montelbaanstoren</td>\n",
       "      <td>Amsterdam</td>\n",
       "      <td>122</td>\n",
       "      <td>price for 1 night</td>\n",
       "      <td>...</td>\n",
       "      <td>4.3 /5</td>\n",
       "      <td>0</td>\n",
       "      <td>1.00</td>\n",
       "      <td>1</td>\n",
       "      <td>15-50% offer</td>\n",
       "      <td>2018</td>\n",
       "      <td>2</td>\n",
       "      <td>1</td>\n",
       "      <td>0</td>\n",
       "      <td>52162.57</td>\n",
       "    </tr>\n",
       "  </tbody>\n",
       "</table>\n",
       "<p>5 rows × 25 columns</p>\n",
       "</div>"
      ],
      "text/plain": [
       "  addresscountryname city_actual  rating_reviewcount center1distance  \\\n",
       "0        Netherlands   Amsterdam             1030.00       3.1 miles   \n",
       "1        Netherlands   Amsterdam             1030.00       3.1 miles   \n",
       "2        Netherlands   Amsterdam             1030.00       3.1 miles   \n",
       "3        Netherlands   Amsterdam             1030.00       3.1 miles   \n",
       "4        Netherlands   Amsterdam             1030.00       3.1 miles   \n",
       "\n",
       "  center1label center2distance      center2label neighbourhood  price  \\\n",
       "0  City centre       3.6 miles  Montelbaanstoren     Amsterdam    172   \n",
       "1  City centre       3.6 miles  Montelbaanstoren     Amsterdam    122   \n",
       "2  City centre       3.6 miles  Montelbaanstoren     Amsterdam    122   \n",
       "3  City centre       3.6 miles  Montelbaanstoren     Amsterdam    552   \n",
       "4  City centre       3.6 miles  Montelbaanstoren     Amsterdam    122   \n",
       "\n",
       "          price_night  ... guestreviewsrating  scarce_room  hotel_id  offer  \\\n",
       "0   price for 1 night  ...             4.3 /5            0      1.00      0   \n",
       "1   price for 1 night  ...             4.3 /5            0      1.00      1   \n",
       "2   price for 1 night  ...             4.3 /5            0      1.00      1   \n",
       "3  price for 4 nights  ...             4.3 /5            0      1.00      1   \n",
       "4   price for 1 night  ...             4.3 /5            0      1.00      1   \n",
       "\n",
       "      offer_cat  year  month  weekend  holiday      GDP  \n",
       "0   0% no offer  2017     11        1        0 52162.57  \n",
       "1  15-50% offer  2018      1        1        0 52162.57  \n",
       "2  15-50% offer  2017     12        0        1 52162.57  \n",
       "3   1-15% offer  2017     12        0        1 52162.57  \n",
       "4  15-50% offer  2018      2        1        0 52162.57  \n",
       "\n",
       "[5 rows x 25 columns]"
      ]
     },
     "execution_count": 96,
     "metadata": {},
     "output_type": "execute_result"
    }
   ],
   "source": [
    "# mapping the GDP data to the hotel booking data\n",
    "Data['GDP'] = Data['addresscountryname'].map(gdp_df.set_index('Country Name')['2020'])\n",
    "Data.head()"
   ]
  },
  {
   "cell_type": "code",
   "execution_count": 97,
   "metadata": {},
   "outputs": [
    {
     "name": "stdout",
     "output_type": "stream",
     "text": [
      "26032\n",
      "['Slovakia' 'Cameroon' 'Turkey' 'Egypt' 'Russia' 'Czech Republic' 'Malta']\n"
     ]
    }
   ],
   "source": [
    "# Checking for null values in gdp column\n",
    "print(Data['GDP'].isnull().sum())\n",
    "# Checking which countries have a missing GDP value\n",
    "missing_gdp =Data[Data['GDP'].isnull()]['addresscountryname'].unique()\n",
    "print(missing_gdp)"
   ]
  },
  {
   "cell_type": "code",
   "execution_count": 98,
   "metadata": {},
   "outputs": [
    {
     "name": "stdout",
     "output_type": "stream",
     "text": [
      "Slovakia\n",
      "['Slovak Republic']\n",
      "Cameroon\n",
      "[]\n",
      "Turkey\n",
      "[]\n",
      "Egypt\n",
      "[]\n",
      "Russia\n",
      "['Russian Federation']\n",
      "Czech Republic\n",
      "['Czechia']\n",
      "Malta\n",
      "[]\n"
     ]
    }
   ],
   "source": [
    "# Checking to find the similar countries in the gdp data\n",
    "for i in missing_gdp:\n",
    "    print(i)\n",
    "    print(gdp_df[gdp_df['Country Name'].str.contains(i[:5])]['Country Name'].unique()) "
   ]
  },
  {
   "cell_type": "markdown",
   "metadata": {},
   "source": [
    "As we can see, for some countries (Slovakia, Russia, Czech Republic) we were able to find the equivalent country names in world bank dataset. \n",
    "We replace the missing gdp value in _Data_ df with the values from __gdp_df__ and equivalent countries. "
   ]
  },
  {
   "cell_type": "code",
   "execution_count": 99,
   "metadata": {},
   "outputs": [],
   "source": [
    "# Replacing the missing gdp values in Data with the values from gdp_df and similar countries\n",
    "for i in missing_gdp:\n",
    "    if len(gdp_df[gdp_df['Country Name'].str.contains(i[:5])]['2020'].values) > 0:\n",
    "        Data.loc[Data['addresscountryname'] == i, 'GDP'] = gdp_df[gdp_df['Country Name'].str.contains(i[:5])]['2020'].values[0]"
   ]
  },
  {
   "cell_type": "markdown",
   "metadata": {},
   "source": [
    "## Data Filtering based on the GDP\n",
    "* In this project we plan to predict to hotel prices in european countries which have a gdp per capita higher than 50000$. We filter the data considering this criteria."
   ]
  },
  {
   "cell_type": "code",
   "execution_count": 100,
   "metadata": {},
   "outputs": [
    {
     "data": {
      "text/html": [
       "<div>\n",
       "<style scoped>\n",
       "    .dataframe tbody tr th:only-of-type {\n",
       "        vertical-align: middle;\n",
       "    }\n",
       "\n",
       "    .dataframe tbody tr th {\n",
       "        vertical-align: top;\n",
       "    }\n",
       "\n",
       "    .dataframe thead th {\n",
       "        text-align: right;\n",
       "    }\n",
       "</style>\n",
       "<table border=\"1\" class=\"dataframe\">\n",
       "  <thead>\n",
       "    <tr style=\"text-align: right;\">\n",
       "      <th></th>\n",
       "      <th>addresscountryname</th>\n",
       "      <th>city_actual</th>\n",
       "      <th>rating_reviewcount</th>\n",
       "      <th>center1distance</th>\n",
       "      <th>center1label</th>\n",
       "      <th>center2distance</th>\n",
       "      <th>center2label</th>\n",
       "      <th>neighbourhood</th>\n",
       "      <th>price</th>\n",
       "      <th>price_night</th>\n",
       "      <th>...</th>\n",
       "      <th>guestreviewsrating</th>\n",
       "      <th>scarce_room</th>\n",
       "      <th>hotel_id</th>\n",
       "      <th>offer</th>\n",
       "      <th>offer_cat</th>\n",
       "      <th>year</th>\n",
       "      <th>month</th>\n",
       "      <th>weekend</th>\n",
       "      <th>holiday</th>\n",
       "      <th>GDP</th>\n",
       "    </tr>\n",
       "  </thead>\n",
       "  <tbody>\n",
       "    <tr>\n",
       "      <th>0</th>\n",
       "      <td>Netherlands</td>\n",
       "      <td>Amsterdam</td>\n",
       "      <td>1030.00</td>\n",
       "      <td>3.1 miles</td>\n",
       "      <td>City centre</td>\n",
       "      <td>3.6 miles</td>\n",
       "      <td>Montelbaanstoren</td>\n",
       "      <td>Amsterdam</td>\n",
       "      <td>172</td>\n",
       "      <td>price for 1 night</td>\n",
       "      <td>...</td>\n",
       "      <td>4.3 /5</td>\n",
       "      <td>0</td>\n",
       "      <td>1.00</td>\n",
       "      <td>0</td>\n",
       "      <td>0% no offer</td>\n",
       "      <td>2017</td>\n",
       "      <td>11</td>\n",
       "      <td>1</td>\n",
       "      <td>0</td>\n",
       "      <td>52162.57</td>\n",
       "    </tr>\n",
       "    <tr>\n",
       "      <th>1</th>\n",
       "      <td>Netherlands</td>\n",
       "      <td>Amsterdam</td>\n",
       "      <td>1030.00</td>\n",
       "      <td>3.1 miles</td>\n",
       "      <td>City centre</td>\n",
       "      <td>3.6 miles</td>\n",
       "      <td>Montelbaanstoren</td>\n",
       "      <td>Amsterdam</td>\n",
       "      <td>122</td>\n",
       "      <td>price for 1 night</td>\n",
       "      <td>...</td>\n",
       "      <td>4.3 /5</td>\n",
       "      <td>0</td>\n",
       "      <td>1.00</td>\n",
       "      <td>1</td>\n",
       "      <td>15-50% offer</td>\n",
       "      <td>2018</td>\n",
       "      <td>1</td>\n",
       "      <td>1</td>\n",
       "      <td>0</td>\n",
       "      <td>52162.57</td>\n",
       "    </tr>\n",
       "    <tr>\n",
       "      <th>2</th>\n",
       "      <td>Netherlands</td>\n",
       "      <td>Amsterdam</td>\n",
       "      <td>1030.00</td>\n",
       "      <td>3.1 miles</td>\n",
       "      <td>City centre</td>\n",
       "      <td>3.6 miles</td>\n",
       "      <td>Montelbaanstoren</td>\n",
       "      <td>Amsterdam</td>\n",
       "      <td>122</td>\n",
       "      <td>price for 1 night</td>\n",
       "      <td>...</td>\n",
       "      <td>4.3 /5</td>\n",
       "      <td>0</td>\n",
       "      <td>1.00</td>\n",
       "      <td>1</td>\n",
       "      <td>15-50% offer</td>\n",
       "      <td>2017</td>\n",
       "      <td>12</td>\n",
       "      <td>0</td>\n",
       "      <td>1</td>\n",
       "      <td>52162.57</td>\n",
       "    </tr>\n",
       "    <tr>\n",
       "      <th>3</th>\n",
       "      <td>Netherlands</td>\n",
       "      <td>Amsterdam</td>\n",
       "      <td>1030.00</td>\n",
       "      <td>3.1 miles</td>\n",
       "      <td>City centre</td>\n",
       "      <td>3.6 miles</td>\n",
       "      <td>Montelbaanstoren</td>\n",
       "      <td>Amsterdam</td>\n",
       "      <td>552</td>\n",
       "      <td>price for 4 nights</td>\n",
       "      <td>...</td>\n",
       "      <td>4.3 /5</td>\n",
       "      <td>0</td>\n",
       "      <td>1.00</td>\n",
       "      <td>1</td>\n",
       "      <td>1-15% offer</td>\n",
       "      <td>2017</td>\n",
       "      <td>12</td>\n",
       "      <td>0</td>\n",
       "      <td>1</td>\n",
       "      <td>52162.57</td>\n",
       "    </tr>\n",
       "    <tr>\n",
       "      <th>4</th>\n",
       "      <td>Netherlands</td>\n",
       "      <td>Amsterdam</td>\n",
       "      <td>1030.00</td>\n",
       "      <td>3.1 miles</td>\n",
       "      <td>City centre</td>\n",
       "      <td>3.6 miles</td>\n",
       "      <td>Montelbaanstoren</td>\n",
       "      <td>Amsterdam</td>\n",
       "      <td>122</td>\n",
       "      <td>price for 1 night</td>\n",
       "      <td>...</td>\n",
       "      <td>4.3 /5</td>\n",
       "      <td>0</td>\n",
       "      <td>1.00</td>\n",
       "      <td>1</td>\n",
       "      <td>15-50% offer</td>\n",
       "      <td>2018</td>\n",
       "      <td>2</td>\n",
       "      <td>1</td>\n",
       "      <td>0</td>\n",
       "      <td>52162.57</td>\n",
       "    </tr>\n",
       "  </tbody>\n",
       "</table>\n",
       "<p>5 rows × 25 columns</p>\n",
       "</div>"
      ],
      "text/plain": [
       "  addresscountryname city_actual  rating_reviewcount center1distance  \\\n",
       "0        Netherlands   Amsterdam             1030.00       3.1 miles   \n",
       "1        Netherlands   Amsterdam             1030.00       3.1 miles   \n",
       "2        Netherlands   Amsterdam             1030.00       3.1 miles   \n",
       "3        Netherlands   Amsterdam             1030.00       3.1 miles   \n",
       "4        Netherlands   Amsterdam             1030.00       3.1 miles   \n",
       "\n",
       "  center1label center2distance      center2label neighbourhood  price  \\\n",
       "0  City centre       3.6 miles  Montelbaanstoren     Amsterdam    172   \n",
       "1  City centre       3.6 miles  Montelbaanstoren     Amsterdam    122   \n",
       "2  City centre       3.6 miles  Montelbaanstoren     Amsterdam    122   \n",
       "3  City centre       3.6 miles  Montelbaanstoren     Amsterdam    552   \n",
       "4  City centre       3.6 miles  Montelbaanstoren     Amsterdam    122   \n",
       "\n",
       "          price_night  ... guestreviewsrating  scarce_room  hotel_id  offer  \\\n",
       "0   price for 1 night  ...             4.3 /5            0      1.00      0   \n",
       "1   price for 1 night  ...             4.3 /5            0      1.00      1   \n",
       "2   price for 1 night  ...             4.3 /5            0      1.00      1   \n",
       "3  price for 4 nights  ...             4.3 /5            0      1.00      1   \n",
       "4   price for 1 night  ...             4.3 /5            0      1.00      1   \n",
       "\n",
       "      offer_cat  year  month  weekend  holiday      GDP  \n",
       "0   0% no offer  2017     11        1        0 52162.57  \n",
       "1  15-50% offer  2018      1        1        0 52162.57  \n",
       "2  15-50% offer  2017     12        0        1 52162.57  \n",
       "3   1-15% offer  2017     12        0        1 52162.57  \n",
       "4  15-50% offer  2018      2        1        0 52162.57  \n",
       "\n",
       "[5 rows x 25 columns]"
      ]
     },
     "execution_count": 100,
     "metadata": {},
     "output_type": "execute_result"
    }
   ],
   "source": [
    "# Filtering the data based on the countries with GDP values higher than 40000$ and lower than 60000$\n",
    "df = Data[(Data['GDP'] > 40000) & (Data['GDP'] < 60000)]\n",
    "df.head()\n"
   ]
  },
  {
   "cell_type": "markdown",
   "metadata": {},
   "source": [
    "## Data Cleaning\n",
    "In the process of data cleaning we need to pave the following steps:\n",
    "* __Inspect for Missing Values__: Check if there are any missing values in the columns that we intend to use.\n",
    "* __Handle Categorical Data__: Convert categorical columns like city_actual, neighbourhood, etc., into a format suitable for machine learning models (e.g., through one-hot encoding).\n",
    "* __Handle Numerical Data__: Convert distances from string to numerical format (e.g., center1distance). Also, scale or normalize numerical features if required.\n",
    "* __Feature Selection and Labels__: Decide which columns will be used as input and which column will be the output."
   ]
  },
  {
   "cell_type": "code",
   "execution_count": 101,
   "metadata": {},
   "outputs": [
    {
     "data": {
      "text/html": [
       "<div>\n",
       "<style scoped>\n",
       "    .dataframe tbody tr th:only-of-type {\n",
       "        vertical-align: middle;\n",
       "    }\n",
       "\n",
       "    .dataframe tbody tr th {\n",
       "        vertical-align: top;\n",
       "    }\n",
       "\n",
       "    .dataframe thead th {\n",
       "        text-align: right;\n",
       "    }\n",
       "</style>\n",
       "<table border=\"1\" class=\"dataframe\">\n",
       "  <thead>\n",
       "    <tr style=\"text-align: right;\">\n",
       "      <th></th>\n",
       "      <th>Data types</th>\n",
       "      <th>Unique values</th>\n",
       "      <th>Missing values</th>\n",
       "    </tr>\n",
       "  </thead>\n",
       "  <tbody>\n",
       "    <tr>\n",
       "      <th>rating2_ta</th>\n",
       "      <td>float64</td>\n",
       "      <td>9</td>\n",
       "      <td>2776</td>\n",
       "    </tr>\n",
       "    <tr>\n",
       "      <th>rating2_ta_reviewcount</th>\n",
       "      <td>float64</td>\n",
       "      <td>1615</td>\n",
       "      <td>2776</td>\n",
       "    </tr>\n",
       "    <tr>\n",
       "      <th>rating_reviewcount</th>\n",
       "      <td>float64</td>\n",
       "      <td>896</td>\n",
       "      <td>1338</td>\n",
       "    </tr>\n",
       "    <tr>\n",
       "      <th>guestreviewsrating</th>\n",
       "      <td>object</td>\n",
       "      <td>28</td>\n",
       "      <td>1338</td>\n",
       "    </tr>\n",
       "    <tr>\n",
       "      <th>holiday</th>\n",
       "      <td>int64</td>\n",
       "      <td>2</td>\n",
       "      <td>0</td>\n",
       "    </tr>\n",
       "    <tr>\n",
       "      <th>weekend</th>\n",
       "      <td>int64</td>\n",
       "      <td>2</td>\n",
       "      <td>0</td>\n",
       "    </tr>\n",
       "    <tr>\n",
       "      <th>month</th>\n",
       "      <td>int64</td>\n",
       "      <td>8</td>\n",
       "      <td>0</td>\n",
       "    </tr>\n",
       "    <tr>\n",
       "      <th>year</th>\n",
       "      <td>int64</td>\n",
       "      <td>2</td>\n",
       "      <td>0</td>\n",
       "    </tr>\n",
       "    <tr>\n",
       "      <th>offer_cat</th>\n",
       "      <td>object</td>\n",
       "      <td>5</td>\n",
       "      <td>0</td>\n",
       "    </tr>\n",
       "    <tr>\n",
       "      <th>offer</th>\n",
       "      <td>int64</td>\n",
       "      <td>2</td>\n",
       "      <td>0</td>\n",
       "    </tr>\n",
       "    <tr>\n",
       "      <th>hotel_id</th>\n",
       "      <td>float64</td>\n",
       "      <td>5017</td>\n",
       "      <td>0</td>\n",
       "    </tr>\n",
       "    <tr>\n",
       "      <th>scarce_room</th>\n",
       "      <td>int64</td>\n",
       "      <td>2</td>\n",
       "      <td>0</td>\n",
       "    </tr>\n",
       "    <tr>\n",
       "      <th>accommodationtype</th>\n",
       "      <td>object</td>\n",
       "      <td>16</td>\n",
       "      <td>0</td>\n",
       "    </tr>\n",
       "    <tr>\n",
       "      <th>addresscountryname</th>\n",
       "      <td>object</td>\n",
       "      <td>7</td>\n",
       "      <td>0</td>\n",
       "    </tr>\n",
       "    <tr>\n",
       "      <th>city_actual</th>\n",
       "      <td>object</td>\n",
       "      <td>191</td>\n",
       "      <td>0</td>\n",
       "    </tr>\n",
       "    <tr>\n",
       "      <th>starrating</th>\n",
       "      <td>float64</td>\n",
       "      <td>10</td>\n",
       "      <td>0</td>\n",
       "    </tr>\n",
       "    <tr>\n",
       "      <th>s_city</th>\n",
       "      <td>object</td>\n",
       "      <td>13</td>\n",
       "      <td>0</td>\n",
       "    </tr>\n",
       "    <tr>\n",
       "      <th>price_night</th>\n",
       "      <td>object</td>\n",
       "      <td>2</td>\n",
       "      <td>0</td>\n",
       "    </tr>\n",
       "    <tr>\n",
       "      <th>price</th>\n",
       "      <td>int64</td>\n",
       "      <td>1357</td>\n",
       "      <td>0</td>\n",
       "    </tr>\n",
       "    <tr>\n",
       "      <th>neighbourhood</th>\n",
       "      <td>object</td>\n",
       "      <td>382</td>\n",
       "      <td>0</td>\n",
       "    </tr>\n",
       "    <tr>\n",
       "      <th>center2label</th>\n",
       "      <td>object</td>\n",
       "      <td>13</td>\n",
       "      <td>0</td>\n",
       "    </tr>\n",
       "    <tr>\n",
       "      <th>center2distance</th>\n",
       "      <td>object</td>\n",
       "      <td>147</td>\n",
       "      <td>0</td>\n",
       "    </tr>\n",
       "    <tr>\n",
       "      <th>center1label</th>\n",
       "      <td>object</td>\n",
       "      <td>1</td>\n",
       "      <td>0</td>\n",
       "    </tr>\n",
       "    <tr>\n",
       "      <th>center1distance</th>\n",
       "      <td>object</td>\n",
       "      <td>142</td>\n",
       "      <td>0</td>\n",
       "    </tr>\n",
       "    <tr>\n",
       "      <th>GDP</th>\n",
       "      <td>float64</td>\n",
       "      <td>7</td>\n",
       "      <td>0</td>\n",
       "    </tr>\n",
       "  </tbody>\n",
       "</table>\n",
       "</div>"
      ],
      "text/plain": [
       "                       Data types  Unique values  Missing values\n",
       "rating2_ta                float64              9            2776\n",
       "rating2_ta_reviewcount    float64           1615            2776\n",
       "rating_reviewcount        float64            896            1338\n",
       "guestreviewsrating         object             28            1338\n",
       "holiday                     int64              2               0\n",
       "weekend                     int64              2               0\n",
       "month                       int64              8               0\n",
       "year                        int64              2               0\n",
       "offer_cat                  object              5               0\n",
       "offer                       int64              2               0\n",
       "hotel_id                  float64           5017               0\n",
       "scarce_room                 int64              2               0\n",
       "accommodationtype          object             16               0\n",
       "addresscountryname         object              7               0\n",
       "city_actual                object            191               0\n",
       "starrating                float64             10               0\n",
       "s_city                     object             13               0\n",
       "price_night                object              2               0\n",
       "price                       int64           1357               0\n",
       "neighbourhood              object            382               0\n",
       "center2label               object             13               0\n",
       "center2distance            object            147               0\n",
       "center1label               object              1               0\n",
       "center1distance            object            142               0\n",
       "GDP                       float64              7               0"
      ]
     },
     "execution_count": 101,
     "metadata": {},
     "output_type": "execute_result"
    }
   ],
   "source": [
    "# Checking the missing values\n",
    "missing_values = df.isnull().sum()\n",
    "\n",
    "# Checking the data types and unique values\n",
    "data_types = df.dtypes\n",
    "unique_values = df.nunique()\n",
    "\n",
    "# Summarizing the above results\n",
    "Data_summary = pd.DataFrame({'Data types': data_types, 'Unique values': unique_values, 'Missing values': missing_values})\n",
    "Data_summary.sort_values(by = 'Missing values', ascending = False)"
   ]
  },
  {
   "cell_type": "code",
   "execution_count": 102,
   "metadata": {},
   "outputs": [
    {
     "name": "stderr",
     "output_type": "stream",
     "text": [
      "<>:2: DeprecationWarning: invalid escape sequence '\\d'\n",
      "<>:2: DeprecationWarning: invalid escape sequence '\\d'\n",
      "C:\\Users\\PA\\AppData\\Local\\Temp\\ipykernel_16840\\1729537003.py:2: DeprecationWarning: invalid escape sequence '\\d'\n",
      "  df['guestreviewsrating'] = df['guestreviewsrating'].str.extract('(\\d+)')\n",
      "C:\\Users\\PA\\AppData\\Local\\Temp\\ipykernel_16840\\1729537003.py:2: SettingWithCopyWarning: \n",
      "A value is trying to be set on a copy of a slice from a DataFrame.\n",
      "Try using .loc[row_indexer,col_indexer] = value instead\n",
      "\n",
      "See the caveats in the documentation: https://pandas.pydata.org/pandas-docs/stable/user_guide/indexing.html#returning-a-view-versus-a-copy\n",
      "  df['guestreviewsrating'] = df['guestreviewsrating'].str.extract('(\\d+)')\n",
      "C:\\Users\\PA\\AppData\\Local\\Temp\\ipykernel_16840\\1729537003.py:3: SettingWithCopyWarning: \n",
      "A value is trying to be set on a copy of a slice from a DataFrame.\n",
      "Try using .loc[row_indexer,col_indexer] = value instead\n",
      "\n",
      "See the caveats in the documentation: https://pandas.pydata.org/pandas-docs/stable/user_guide/indexing.html#returning-a-view-versus-a-copy\n",
      "  df['guestreviewsrating'] = df['guestreviewsrating'].astype(float)\n"
     ]
    }
   ],
   "source": [
    "# Extracting the guest score and converting it to float\n",
    "df['guestreviewsrating'] = df['guestreviewsrating'].str.extract('(\\d+)')\n",
    "df['guestreviewsrating'] = df['guestreviewsrating'].astype(float)"
   ]
  },
  {
   "cell_type": "code",
   "execution_count": 103,
   "metadata": {},
   "outputs": [
    {
     "name": "stderr",
     "output_type": "stream",
     "text": [
      "C:\\Users\\PA\\AppData\\Local\\Temp\\ipykernel_16840\\3504336932.py:2: SettingWithCopyWarning: \n",
      "A value is trying to be set on a copy of a slice from a DataFrame\n",
      "\n",
      "See the caveats in the documentation: https://pandas.pydata.org/pandas-docs/stable/user_guide/indexing.html#returning-a-view-versus-a-copy\n",
      "  df['rating2_ta'].fillna(df['rating2_ta'].mean(), inplace = True)\n",
      "C:\\Users\\PA\\AppData\\Local\\Temp\\ipykernel_16840\\3504336932.py:3: SettingWithCopyWarning: \n",
      "A value is trying to be set on a copy of a slice from a DataFrame\n",
      "\n",
      "See the caveats in the documentation: https://pandas.pydata.org/pandas-docs/stable/user_guide/indexing.html#returning-a-view-versus-a-copy\n",
      "  df['rating2_ta_reviewcount'].fillna(df['rating2_ta_reviewcount'].mean(), inplace = True)\n",
      "C:\\Users\\PA\\AppData\\Local\\Temp\\ipykernel_16840\\3504336932.py:4: SettingWithCopyWarning: \n",
      "A value is trying to be set on a copy of a slice from a DataFrame\n",
      "\n",
      "See the caveats in the documentation: https://pandas.pydata.org/pandas-docs/stable/user_guide/indexing.html#returning-a-view-versus-a-copy\n",
      "  df['rating_reviewcount'].fillna(df['rating_reviewcount'].mean(), inplace = True)\n",
      "C:\\Users\\PA\\AppData\\Local\\Temp\\ipykernel_16840\\3504336932.py:5: SettingWithCopyWarning: \n",
      "A value is trying to be set on a copy of a slice from a DataFrame\n",
      "\n",
      "See the caveats in the documentation: https://pandas.pydata.org/pandas-docs/stable/user_guide/indexing.html#returning-a-view-versus-a-copy\n",
      "  df['guestreviewsrating'].fillna(df['guestreviewsrating'].mean(), inplace = True)\n"
     ]
    }
   ],
   "source": [
    "# replacing the missing values in the rating columns with the mode values\n",
    "df['rating2_ta'].fillna(df['rating2_ta'].mean(), inplace = True)\n",
    "df['rating2_ta_reviewcount'].fillna(df['rating2_ta_reviewcount'].mean(), inplace = True)\n",
    "df['rating_reviewcount'].fillna(df['rating_reviewcount'].mean(), inplace = True)\n",
    "df['guestreviewsrating'].fillna(df['guestreviewsrating'].mean(), inplace = True)"
   ]
  },
  {
   "cell_type": "code",
   "execution_count": 104,
   "metadata": {},
   "outputs": [
    {
     "data": {
      "text/plain": [
       "addresscountryname        0\n",
       "city_actual               0\n",
       "rating_reviewcount        0\n",
       "center1distance           0\n",
       "center1label              0\n",
       "center2distance           0\n",
       "center2label              0\n",
       "neighbourhood             0\n",
       "price                     0\n",
       "price_night               0\n",
       "s_city                    0\n",
       "starrating                0\n",
       "rating2_ta                0\n",
       "rating2_ta_reviewcount    0\n",
       "accommodationtype         0\n",
       "guestreviewsrating        0\n",
       "scarce_room               0\n",
       "hotel_id                  0\n",
       "offer                     0\n",
       "offer_cat                 0\n",
       "year                      0\n",
       "month                     0\n",
       "weekend                   0\n",
       "holiday                   0\n",
       "GDP                       0\n",
       "dtype: int64"
      ]
     },
     "execution_count": 104,
     "metadata": {},
     "output_type": "execute_result"
    }
   ],
   "source": [
    "df.isnull().sum()"
   ]
  },
  {
   "cell_type": "markdown",
   "metadata": {},
   "source": [
    "# Feature Selection & ِData Cleaning\n",
    "In this step we are going to decide which variables to use in our prediction model.\n",
    "* Our target variable is _\"Price/Night\"_. We can derive this variable by dividing the price to __price_night__.\n",
    "* It seems trivial that accommodatin_type affects the price. (Type = Categorical)\n",
    "* Location variables (Country, City): Location is a key factor in pricing. (Type = Categorical)\n",
    "* Star_rating\n",
    "* rating, rating count\n",
    "* ratingta (advisor rating)\n",
    "* Distance, Distance alter\n",
    "* year, month\n",
    "* scarce room"
   ]
  },
  {
   "cell_type": "code",
   "execution_count": 105,
   "metadata": {},
   "outputs": [
    {
     "data": {
      "text/html": [
       "<div>\n",
       "<style scoped>\n",
       "    .dataframe tbody tr th:only-of-type {\n",
       "        vertical-align: middle;\n",
       "    }\n",
       "\n",
       "    .dataframe tbody tr th {\n",
       "        vertical-align: top;\n",
       "    }\n",
       "\n",
       "    .dataframe thead th {\n",
       "        text-align: right;\n",
       "    }\n",
       "</style>\n",
       "<table border=\"1\" class=\"dataframe\">\n",
       "  <thead>\n",
       "    <tr style=\"text-align: right;\">\n",
       "      <th></th>\n",
       "      <th>addresscountryname</th>\n",
       "      <th>city_actual</th>\n",
       "      <th>rating_reviewcount</th>\n",
       "      <th>center1distance</th>\n",
       "      <th>center1label</th>\n",
       "      <th>center2distance</th>\n",
       "      <th>center2label</th>\n",
       "      <th>neighbourhood</th>\n",
       "      <th>price</th>\n",
       "      <th>price_night</th>\n",
       "      <th>...</th>\n",
       "      <th>guestreviewsrating</th>\n",
       "      <th>scarce_room</th>\n",
       "      <th>hotel_id</th>\n",
       "      <th>offer</th>\n",
       "      <th>offer_cat</th>\n",
       "      <th>year</th>\n",
       "      <th>month</th>\n",
       "      <th>weekend</th>\n",
       "      <th>holiday</th>\n",
       "      <th>GDP</th>\n",
       "    </tr>\n",
       "  </thead>\n",
       "  <tbody>\n",
       "    <tr>\n",
       "      <th>0</th>\n",
       "      <td>Netherlands</td>\n",
       "      <td>Amsterdam</td>\n",
       "      <td>1030.00</td>\n",
       "      <td>3.1 miles</td>\n",
       "      <td>City centre</td>\n",
       "      <td>3.6 miles</td>\n",
       "      <td>Montelbaanstoren</td>\n",
       "      <td>Amsterdam</td>\n",
       "      <td>172</td>\n",
       "      <td>price for 1 night</td>\n",
       "      <td>...</td>\n",
       "      <td>4.00</td>\n",
       "      <td>0</td>\n",
       "      <td>1.00</td>\n",
       "      <td>0</td>\n",
       "      <td>0% no offer</td>\n",
       "      <td>2017</td>\n",
       "      <td>11</td>\n",
       "      <td>1</td>\n",
       "      <td>0</td>\n",
       "      <td>52162.57</td>\n",
       "    </tr>\n",
       "    <tr>\n",
       "      <th>1</th>\n",
       "      <td>Netherlands</td>\n",
       "      <td>Amsterdam</td>\n",
       "      <td>1030.00</td>\n",
       "      <td>3.1 miles</td>\n",
       "      <td>City centre</td>\n",
       "      <td>3.6 miles</td>\n",
       "      <td>Montelbaanstoren</td>\n",
       "      <td>Amsterdam</td>\n",
       "      <td>122</td>\n",
       "      <td>price for 1 night</td>\n",
       "      <td>...</td>\n",
       "      <td>4.00</td>\n",
       "      <td>0</td>\n",
       "      <td>1.00</td>\n",
       "      <td>1</td>\n",
       "      <td>15-50% offer</td>\n",
       "      <td>2018</td>\n",
       "      <td>1</td>\n",
       "      <td>1</td>\n",
       "      <td>0</td>\n",
       "      <td>52162.57</td>\n",
       "    </tr>\n",
       "    <tr>\n",
       "      <th>2</th>\n",
       "      <td>Netherlands</td>\n",
       "      <td>Amsterdam</td>\n",
       "      <td>1030.00</td>\n",
       "      <td>3.1 miles</td>\n",
       "      <td>City centre</td>\n",
       "      <td>3.6 miles</td>\n",
       "      <td>Montelbaanstoren</td>\n",
       "      <td>Amsterdam</td>\n",
       "      <td>122</td>\n",
       "      <td>price for 1 night</td>\n",
       "      <td>...</td>\n",
       "      <td>4.00</td>\n",
       "      <td>0</td>\n",
       "      <td>1.00</td>\n",
       "      <td>1</td>\n",
       "      <td>15-50% offer</td>\n",
       "      <td>2017</td>\n",
       "      <td>12</td>\n",
       "      <td>0</td>\n",
       "      <td>1</td>\n",
       "      <td>52162.57</td>\n",
       "    </tr>\n",
       "    <tr>\n",
       "      <th>3</th>\n",
       "      <td>Netherlands</td>\n",
       "      <td>Amsterdam</td>\n",
       "      <td>1030.00</td>\n",
       "      <td>3.1 miles</td>\n",
       "      <td>City centre</td>\n",
       "      <td>3.6 miles</td>\n",
       "      <td>Montelbaanstoren</td>\n",
       "      <td>Amsterdam</td>\n",
       "      <td>552</td>\n",
       "      <td>price for 4 nights</td>\n",
       "      <td>...</td>\n",
       "      <td>4.00</td>\n",
       "      <td>0</td>\n",
       "      <td>1.00</td>\n",
       "      <td>1</td>\n",
       "      <td>1-15% offer</td>\n",
       "      <td>2017</td>\n",
       "      <td>12</td>\n",
       "      <td>0</td>\n",
       "      <td>1</td>\n",
       "      <td>52162.57</td>\n",
       "    </tr>\n",
       "    <tr>\n",
       "      <th>4</th>\n",
       "      <td>Netherlands</td>\n",
       "      <td>Amsterdam</td>\n",
       "      <td>1030.00</td>\n",
       "      <td>3.1 miles</td>\n",
       "      <td>City centre</td>\n",
       "      <td>3.6 miles</td>\n",
       "      <td>Montelbaanstoren</td>\n",
       "      <td>Amsterdam</td>\n",
       "      <td>122</td>\n",
       "      <td>price for 1 night</td>\n",
       "      <td>...</td>\n",
       "      <td>4.00</td>\n",
       "      <td>0</td>\n",
       "      <td>1.00</td>\n",
       "      <td>1</td>\n",
       "      <td>15-50% offer</td>\n",
       "      <td>2018</td>\n",
       "      <td>2</td>\n",
       "      <td>1</td>\n",
       "      <td>0</td>\n",
       "      <td>52162.57</td>\n",
       "    </tr>\n",
       "  </tbody>\n",
       "</table>\n",
       "<p>5 rows × 25 columns</p>\n",
       "</div>"
      ],
      "text/plain": [
       "  addresscountryname city_actual  rating_reviewcount center1distance  \\\n",
       "0        Netherlands   Amsterdam             1030.00       3.1 miles   \n",
       "1        Netherlands   Amsterdam             1030.00       3.1 miles   \n",
       "2        Netherlands   Amsterdam             1030.00       3.1 miles   \n",
       "3        Netherlands   Amsterdam             1030.00       3.1 miles   \n",
       "4        Netherlands   Amsterdam             1030.00       3.1 miles   \n",
       "\n",
       "  center1label center2distance      center2label neighbourhood  price  \\\n",
       "0  City centre       3.6 miles  Montelbaanstoren     Amsterdam    172   \n",
       "1  City centre       3.6 miles  Montelbaanstoren     Amsterdam    122   \n",
       "2  City centre       3.6 miles  Montelbaanstoren     Amsterdam    122   \n",
       "3  City centre       3.6 miles  Montelbaanstoren     Amsterdam    552   \n",
       "4  City centre       3.6 miles  Montelbaanstoren     Amsterdam    122   \n",
       "\n",
       "          price_night  ... guestreviewsrating  scarce_room  hotel_id  offer  \\\n",
       "0   price for 1 night  ...               4.00            0      1.00      0   \n",
       "1   price for 1 night  ...               4.00            0      1.00      1   \n",
       "2   price for 1 night  ...               4.00            0      1.00      1   \n",
       "3  price for 4 nights  ...               4.00            0      1.00      1   \n",
       "4   price for 1 night  ...               4.00            0      1.00      1   \n",
       "\n",
       "      offer_cat  year  month  weekend  holiday      GDP  \n",
       "0   0% no offer  2017     11        1        0 52162.57  \n",
       "1  15-50% offer  2018      1        1        0 52162.57  \n",
       "2  15-50% offer  2017     12        0        1 52162.57  \n",
       "3   1-15% offer  2017     12        0        1 52162.57  \n",
       "4  15-50% offer  2018      2        1        0 52162.57  \n",
       "\n",
       "[5 rows x 25 columns]"
      ]
     },
     "execution_count": 105,
     "metadata": {},
     "output_type": "execute_result"
    }
   ],
   "source": [
    "df.head()"
   ]
  },
  {
   "cell_type": "markdown",
   "metadata": {},
   "source": [
    "### Defining the Target Variable\n",
    "* For this task we need to convert the __price_night__ variable to numerical values."
   ]
  },
  {
   "cell_type": "code",
   "execution_count": 106,
   "metadata": {},
   "outputs": [
    {
     "name": "stderr",
     "output_type": "stream",
     "text": [
      "C:\\Users\\PA\\AppData\\Local\\Temp\\ipykernel_16840\\1758452389.py:3: SettingWithCopyWarning: \n",
      "A value is trying to be set on a copy of a slice from a DataFrame.\n",
      "Try using .loc[row_indexer,col_indexer] = value instead\n",
      "\n",
      "See the caveats in the documentation: https://pandas.pydata.org/pandas-docs/stable/user_guide/indexing.html#returning-a-view-versus-a-copy\n",
      "  df['price_night'] = df['price_night'].apply(lambda x: re.findall(r'\\d+', str(x))[0])\n",
      "C:\\Users\\PA\\AppData\\Local\\Temp\\ipykernel_16840\\1758452389.py:6: SettingWithCopyWarning: \n",
      "A value is trying to be set on a copy of a slice from a DataFrame.\n",
      "Try using .loc[row_indexer,col_indexer] = value instead\n",
      "\n",
      "See the caveats in the documentation: https://pandas.pydata.org/pandas-docs/stable/user_guide/indexing.html#returning-a-view-versus-a-copy\n",
      "  df['price_night'] = pd.to_numeric(df['price_night'])\n",
      "C:\\Users\\PA\\AppData\\Local\\Temp\\ipykernel_16840\\1758452389.py:9: SettingWithCopyWarning: \n",
      "A value is trying to be set on a copy of a slice from a DataFrame.\n",
      "Try using .loc[row_indexer,col_indexer] = value instead\n",
      "\n",
      "See the caveats in the documentation: https://pandas.pydata.org/pandas-docs/stable/user_guide/indexing.html#returning-a-view-versus-a-copy\n",
      "  df['price_per_night'] = df['price']/df['price_night']\n"
     ]
    }
   ],
   "source": [
    "import re\n",
    "# Extract numerical values from \"price_night\" column\n",
    "df['price_night'] = df['price_night'].apply(lambda x: re.findall(r'\\d+', str(x))[0])\n",
    "\n",
    "# Convert the extracted values to numeric type\n",
    "df['price_night'] = pd.to_numeric(df['price_night'])\n",
    "\n",
    "# Creating target variable: price per night\n",
    "df['price_per_night'] = df['price']/df['price_night']"
   ]
  },
  {
   "cell_type": "markdown",
   "metadata": {},
   "source": [
    "### Accommodation Type"
   ]
  },
  {
   "cell_type": "code",
   "execution_count": 107,
   "metadata": {},
   "outputs": [
    {
     "name": "stdout",
     "output_type": "stream",
     "text": [
      "['_ACCOM_TYPE@Hotel' '_ACCOM_TYPE@Hostel' '_ACCOM_TYPE@Apartment'\n",
      " '_ACCOM_TYPE@Apart-hotel' '_ACCOM_TYPE@House boat' '_ACCOM_TYPE@Inn'\n",
      " '_ACCOM_TYPE@Guest House' '_ACCOM_TYPE@Bed and breakfast'\n",
      " '_ACCOM_TYPE@Pension' '_ACCOM_TYPE@Motel'\n",
      " '_ACCOM_TYPE@Vacation home Condo' '_ACCOM_TYPE@Villa'\n",
      " '_ACCOM_TYPE@Resort' '_ACCOM_TYPE@' '_ACCOM_TYPE@Chalet'\n",
      " '_ACCOM_TYPE@Cottage']\n"
     ]
    }
   ],
   "source": [
    "print(df['accommodationtype'].unique())"
   ]
  },
  {
   "cell_type": "code",
   "execution_count": 108,
   "metadata": {},
   "outputs": [
    {
     "name": "stderr",
     "output_type": "stream",
     "text": [
      "C:\\Users\\PA\\AppData\\Local\\Temp\\ipykernel_16840\\2666905615.py:1: SettingWithCopyWarning: \n",
      "A value is trying to be set on a copy of a slice from a DataFrame.\n",
      "Try using .loc[row_indexer,col_indexer] = value instead\n",
      "\n",
      "See the caveats in the documentation: https://pandas.pydata.org/pandas-docs/stable/user_guide/indexing.html#returning-a-view-versus-a-copy\n",
      "  df.loc[:, 'accommodationtype'] = df['accommodationtype'].str.split('@').str[1]\n"
     ]
    }
   ],
   "source": [
    "df.loc[:, 'accommodationtype'] = df['accommodationtype'].str.split('@').str[1]"
   ]
  },
  {
   "cell_type": "code",
   "execution_count": 109,
   "metadata": {},
   "outputs": [
    {
     "data": {
      "text/plain": [
       "array(['Hotel', 'Hostel', 'Apartment', 'Apart-hotel', 'House boat', 'Inn',\n",
       "       'Guest House', 'Bed and breakfast', 'Pension', 'Motel',\n",
       "       'Vacation home Condo', 'Villa', 'Resort', '', 'Chalet', 'Cottage'],\n",
       "      dtype=object)"
      ]
     },
     "execution_count": 109,
     "metadata": {},
     "output_type": "execute_result"
    }
   ],
   "source": [
    "df['accommodationtype'].unique()"
   ]
  },
  {
   "cell_type": "code",
   "execution_count": 110,
   "metadata": {},
   "outputs": [],
   "source": [
    "# dropping the observations with df['accommodationtype']==''\n",
    "df = df[df['accommodationtype'] != '']"
   ]
  },
  {
   "cell_type": "markdown",
   "metadata": {},
   "source": [
    "### Center Labels and Center Distances"
   ]
  },
  {
   "cell_type": "code",
   "execution_count": 111,
   "metadata": {},
   "outputs": [
    {
     "data": {
      "text/plain": [
       "array(['City centre'], dtype=object)"
      ]
     },
     "execution_count": 111,
     "metadata": {},
     "output_type": "execute_result"
    }
   ],
   "source": [
    "df['center1label'].unique()"
   ]
  },
  {
   "cell_type": "code",
   "execution_count": 112,
   "metadata": {},
   "outputs": [
    {
     "data": {
      "text/plain": [
       "array(['Montelbaanstoren', 'Stasi Prison', 'Birmingham Duddeston Station',\n",
       "       'Magritte Museum', 'Glasgow Westerton Station', 'Japanese Garden',\n",
       "       'Kaisaniemi Botanical Garden',\n",
       "       'Wimbledon Park Underground Station', 'Munich East Station',\n",
       "       'Port of Rotterdam', 'Smaragd II Ski Lift', 'Eriksdalsbadet',\n",
       "       'Donauturm'], dtype=object)"
      ]
     },
     "execution_count": 112,
     "metadata": {},
     "output_type": "execute_result"
    }
   ],
   "source": [
    "df['center2label'].unique()"
   ]
  },
  {
   "cell_type": "markdown",
   "metadata": {},
   "source": [
    "* Center Labels do not seem to be very useful. We can drop them."
   ]
  },
  {
   "cell_type": "code",
   "execution_count": 113,
   "metadata": {},
   "outputs": [],
   "source": [
    "# Dropping the columns \"center1label\" and \"center2label\"\n",
    "df.drop(['center1label', 'center2label'], axis = 1, inplace = True)"
   ]
  },
  {
   "cell_type": "markdown",
   "metadata": {},
   "source": [
    "* Extracting the numerical values of center-distance columns."
   ]
  },
  {
   "cell_type": "code",
   "execution_count": 114,
   "metadata": {},
   "outputs": [],
   "source": [
    "# Extracting the float values from the \"center1distance\" and \"center2distance\" columns\n",
    "df['center1distance'] = df['center1distance'].apply(lambda x: re.findall(r'\\d+\\.\\d+', str(x))[0] if re.findall(r'\\d+\\.\\d+', str(x)) else 0)\n",
    "df['center2distance'] = df['center2distance'].apply(lambda x: re.findall(r'\\d+\\.\\d+', str(x))[0] if re.findall(r'\\d+\\.\\d+', str(x)) else 0)\n",
    "\n",
    "# Converting the extracted values to numeric type\n",
    "df['center1distance'] = pd.to_numeric(df['center1distance'])\n",
    "df['center2distance'] = pd.to_numeric(df['center2distance'])"
   ]
  },
  {
   "cell_type": "code",
   "execution_count": 115,
   "metadata": {},
   "outputs": [
    {
     "data": {
      "text/plain": [
       "addresscountryname        0\n",
       "city_actual               0\n",
       "rating_reviewcount        0\n",
       "center1distance           0\n",
       "center2distance           0\n",
       "neighbourhood             0\n",
       "price                     0\n",
       "price_night               0\n",
       "s_city                    0\n",
       "starrating                0\n",
       "rating2_ta                0\n",
       "rating2_ta_reviewcount    0\n",
       "accommodationtype         0\n",
       "guestreviewsrating        0\n",
       "scarce_room               0\n",
       "hotel_id                  0\n",
       "offer                     0\n",
       "offer_cat                 0\n",
       "year                      0\n",
       "month                     0\n",
       "weekend                   0\n",
       "holiday                   0\n",
       "GDP                       0\n",
       "price_per_night           0\n",
       "dtype: int64"
      ]
     },
     "execution_count": 115,
     "metadata": {},
     "output_type": "execute_result"
    }
   ],
   "source": [
    "# checking for missing values\n",
    "df.isnull().sum()"
   ]
  },
  {
   "cell_type": "markdown",
   "metadata": {},
   "source": [
    "## Ratings\n",
    "* Guest Review"
   ]
  },
  {
   "cell_type": "code",
   "execution_count": 116,
   "metadata": {},
   "outputs": [
    {
     "data": {
      "text/plain": [
       "array([4.        , 3.        , 2.        , 3.49104049, 5.        ,\n",
       "       1.        ])"
      ]
     },
     "execution_count": 116,
     "metadata": {},
     "output_type": "execute_result"
    }
   ],
   "source": [
    "# Extracting the float values from the \"guestreviewsrating\" column before the \" /\"\n",
    "df['guestreviewsrating'] = df['guestreviewsrating'].apply(lambda x: re.findall(r'\\d+\\.\\d+', str(x))[0] if re.findall(r'\\d+\\.\\d+', str(x)) else None)\n",
    "\n",
    "# converting the extracted values to numeric type\n",
    "df['guestreviewsrating'] = pd.to_numeric(df['guestreviewsrating'])\n",
    "\n",
    "#droping the observations with df['guestreviewsrating'] == None\n",
    "df = df[df['guestreviewsrating'].notna()]\n",
    "\n",
    "df['guestreviewsrating'].unique()"
   ]
  },
  {
   "cell_type": "markdown",
   "metadata": {},
   "source": [
    "### Offer_cat\n",
    "* This feature is a ordinal categorical variable and it seems the order of categories matters a lot in the pricing process. So, we need to use Label Encoding method to convert it to a variable that can be used in a regression model."
   ]
  },
  {
   "cell_type": "code",
   "execution_count": 117,
   "metadata": {},
   "outputs": [
    {
     "data": {
      "text/plain": [
       "array(['0% no offer', '15-50% offer', '1-15% offer', '50%-75% offer',\n",
       "       '75%+ offer '], dtype=object)"
      ]
     },
     "execution_count": 117,
     "metadata": {},
     "output_type": "execute_result"
    }
   ],
   "source": [
    "df['offer_cat'].unique()"
   ]
  },
  {
   "cell_type": "code",
   "execution_count": 118,
   "metadata": {},
   "outputs": [],
   "source": [
    "# Convert the offer_cat column to categorical type using LabelEncoder\n",
    "ordered_categories = {'0% no offer': 0, r'15-50% offer':.33, r'1-15% offer':.08, r'50%-75% offer':.63, r'75%+ offer ':.88}\n",
    "df['offer_cat'] = df['offer_cat'].map(ordered_categories)"
   ]
  },
  {
   "cell_type": "code",
   "execution_count": 119,
   "metadata": {},
   "outputs": [
    {
     "data": {
      "text/plain": [
       "array([0.  , 0.33, 0.08, 0.63, 0.88])"
      ]
     },
     "execution_count": 119,
     "metadata": {},
     "output_type": "execute_result"
    }
   ],
   "source": [
    "df['offer_cat'].unique()"
   ]
  },
  {
   "cell_type": "code",
   "execution_count": 120,
   "metadata": {},
   "outputs": [
    {
     "data": {
      "text/plain": [
       "addresscountryname        0\n",
       "city_actual               0\n",
       "rating_reviewcount        0\n",
       "center1distance           0\n",
       "center2distance           0\n",
       "neighbourhood             0\n",
       "price                     0\n",
       "price_night               0\n",
       "s_city                    0\n",
       "starrating                0\n",
       "rating2_ta                0\n",
       "rating2_ta_reviewcount    0\n",
       "accommodationtype         0\n",
       "guestreviewsrating        0\n",
       "scarce_room               0\n",
       "hotel_id                  0\n",
       "offer                     0\n",
       "offer_cat                 0\n",
       "year                      0\n",
       "month                     0\n",
       "weekend                   0\n",
       "holiday                   0\n",
       "GDP                       0\n",
       "price_per_night           0\n",
       "dtype: int64"
      ]
     },
     "execution_count": 120,
     "metadata": {},
     "output_type": "execute_result"
    }
   ],
   "source": [
    "# checking for missing values\n",
    "df.isnull().sum()"
   ]
  },
  {
   "cell_type": "markdown",
   "metadata": {},
   "source": [
    "* We can update the price based on the offer and get the real price."
   ]
  },
  {
   "cell_type": "code",
   "execution_count": 121,
   "metadata": {},
   "outputs": [],
   "source": [
    "# inducing the real price by subtracting the offer from the price\n",
    "df['real_price'] = df['price_per_night'] - df['price_per_night']*df['offer_cat']"
   ]
  },
  {
   "cell_type": "code",
   "execution_count": 122,
   "metadata": {},
   "outputs": [],
   "source": [
    "df.to_csv('cleaned_hotel1.csv', index = False)"
   ]
  },
  {
   "cell_type": "markdown",
   "metadata": {},
   "source": [
    "### Dropping unnecessary columns"
   ]
  },
  {
   "cell_type": "code",
   "execution_count": 123,
   "metadata": {},
   "outputs": [],
   "source": [
    "# Dropping the columns that are not needed for the model anymore\n",
    "df.drop(['neighbourhood', 'price', 'price_night', 's_city', 'hotel_id', 'offer', 'GDP', \"price_per_night\", \"offer_cat\"], axis = 1, inplace = True)"
   ]
  },
  {
   "cell_type": "code",
   "execution_count": 124,
   "metadata": {},
   "outputs": [
    {
     "data": {
      "text/plain": [
       "addresscountryname         object\n",
       "city_actual                object\n",
       "rating_reviewcount        float64\n",
       "center1distance           float64\n",
       "center2distance           float64\n",
       "starrating                float64\n",
       "rating2_ta                float64\n",
       "rating2_ta_reviewcount    float64\n",
       "accommodationtype          object\n",
       "guestreviewsrating        float64\n",
       "scarce_room                 int64\n",
       "year                        int64\n",
       "month                       int64\n",
       "weekend                     int64\n",
       "holiday                     int64\n",
       "real_price                float64\n",
       "dtype: object"
      ]
     },
     "execution_count": 124,
     "metadata": {},
     "output_type": "execute_result"
    }
   ],
   "source": [
    "df.dtypes"
   ]
  },
  {
   "cell_type": "code",
   "execution_count": 125,
   "metadata": {},
   "outputs": [
    {
     "data": {
      "image/png": "[encoded data removed]",
      "text/plain": [
       "<Figure size 600x400 with 1 Axes>"
      ]
     },
     "metadata": {},
     "output_type": "display_data"
    }
   ],
   "source": [
    "# Checking the distribution of the \"cities\" in the data\n",
    "df['city_actual'].value_counts()[:20].plot(kind = 'bar', figsize = (6, 4))\n",
    "plt.title('Distribution of the top 20 cities in the data')\n",
    "plt.xlabel('Cities')\n",
    "plt.ylabel('Frequency')\n",
    "plt.show()"
   ]
  },
  {
   "cell_type": "code",
   "execution_count": 126,
   "metadata": {},
   "outputs": [
    {
     "data": {
      "image/png": "[encoded data removed]",
      "text/plain": [
       "<Figure size 600x400 with 1 Axes>"
      ]
     },
     "metadata": {},
     "output_type": "display_data"
    }
   ],
   "source": [
    "# Checking the distribution of the \"accommodationtype\" in the data\n",
    "df['accommodationtype'].value_counts().plot(kind = 'bar', figsize = (6, 4))\n",
    "plt.title('Distribution of the accommodation types in the data')\n",
    "plt.xlabel('Accommodation types')\n",
    "plt.ylabel('Frequency')\n",
    "plt.show()"
   ]
  },
  {
   "cell_type": "code",
   "execution_count": 127,
   "metadata": {},
   "outputs": [
    {
     "data": {
      "image/png": "[encoded data removed]",
      "text/plain": [
       "<Figure size 500x300 with 1 Axes>"
      ]
     },
     "metadata": {},
     "output_type": "display_data"
    },
    {
     "data": {
      "image/png": "[encoded data removed]",
      "text/plain": [
       "<Figure size 500x300 with 1 Axes>"
      ]
     },
     "metadata": {},
     "output_type": "display_data"
    }
   ],
   "source": [
    "# Checking the distribution of the \"year\" and \"month\" in the data\n",
    "df['year'].value_counts().plot(kind = 'bar', figsize = (5, 3), edgecolor = 'black')\n",
    "plt.title('Distribution of the years in the data')\n",
    "plt.xlabel('Years')\n",
    "plt.ylabel('Frequency')\n",
    "plt.show()\n",
    "\n",
    "df['month'].value_counts().plot(kind = 'bar', figsize = (5, 3), edgecolor = 'black')\n",
    "plt.title('Distribution of the months in the data')\n",
    "plt.xlabel('Months')\n",
    "plt.ylabel('Frequency')\n",
    "plt.show()"
   ]
  },
  {
   "cell_type": "code",
   "execution_count": 128,
   "metadata": {},
   "outputs": [
    {
     "data": {
      "image/png": "[encoded data removed]",
      "text/plain": [
       "<Figure size 500x300 with 1 Axes>"
      ]
     },
     "metadata": {},
     "output_type": "display_data"
    }
   ],
   "source": [
    "# Plotting the distribution of the \"guestreviewsrating\" in the data\n",
    "df['guestreviewsrating'].hist(figsize = (5, 3), edgecolor = 'black')\n",
    "plt.title('Distribution of the guest reviews rating in the data')\n",
    "plt.xlabel('Guest reviews rating')\n",
    "plt.ylabel('Frequency')\n",
    "plt.show()"
   ]
  },
  {
   "cell_type": "code",
   "execution_count": 129,
   "metadata": {},
   "outputs": [
    {
     "data": {
      "image/png": "[encoded data removed]",
      "text/plain": [
       "<Figure size 500x300 with 1 Axes>"
      ]
     },
     "metadata": {},
     "output_type": "display_data"
    }
   ],
   "source": [
    "# Plottign the distribution of the \"rating2_ta\" in the data\n",
    "df['rating2_ta'].hist(figsize = (5, 3), edgecolor = 'black')\n",
    "plt.title('Distribution of the rating2_ta in the data')\n",
    "plt.xlabel('Rating2_ta')\n",
    "plt.ylabel('Frequency')\n",
    "plt.show()"
   ]
  },
  {
   "cell_type": "code",
   "execution_count": 130,
   "metadata": {},
   "outputs": [
    {
     "data": {
      "image/png": "[encoded data removed]",
      "text/plain": [
       "<Figure size 500x300 with 1 Axes>"
      ]
     },
     "metadata": {},
     "output_type": "display_data"
    }
   ],
   "source": [
    "# plotting the distribution of the \"center1distance\" in the data\n",
    "df['center1distance'].hist(figsize = (5, 3), edgecolor = 'black')\n",
    "plt.title('Distribution of the center1distance in the data')\n",
    "plt.xlabel('Center1distance')\n",
    "plt.ylabel('Frequency')\n",
    "plt.show()"
   ]
  },
  {
   "cell_type": "code",
   "execution_count": 131,
   "metadata": {},
   "outputs": [],
   "source": [
    "# Extracting the table of variables and the number of their unique values\n",
    "unique_values = df.nunique()\n",
    "unique_values = pd.DataFrame(unique_values)\n",
    "unique_values.reset_index(inplace = True)\n",
    "unique_values.columns = ['Variables', 'Unique_values']\n",
    "unique_values.sort_values(by = 'Unique_values', ascending = False, inplace = True)\n",
    "\n",
    "# adding the data types to the table\n",
    "unique_values['Data_types'] = df.dtypes.values\n",
    "\n",
    "# storing the table in a csv file\n",
    "unique_values.to_csv('unique_values.csv', index = False)"
   ]
  },
  {
   "cell_type": "markdown",
   "metadata": {},
   "source": [
    "### Converting the type of categorical columns"
   ]
  },
  {
   "cell_type": "code",
   "execution_count": 132,
   "metadata": {},
   "outputs": [],
   "source": [
    "# Creating a list of categorical columns\n",
    "cat_cols = df.select_dtypes(include = 'object').columns\n",
    "# adding \"year\", \"month\", \"weekend\" and \"holiday\" to the list of categorical columns\n",
    "cat_cols = cat_cols.append(pd.Index(['year', 'month', 'weekend', 'holiday', 'scarce_room']))\n",
    "\n",
    "# Converting the above columns to categorical type\n",
    "for col in cat_cols:\n",
    "    df[col] = df[col].astype('category')"
   ]
  },
  {
   "cell_type": "code",
   "execution_count": 133,
   "metadata": {},
   "outputs": [
    {
     "data": {
      "text/plain": [
       "(35087, 16)"
      ]
     },
     "execution_count": 133,
     "metadata": {},
     "output_type": "execute_result"
    }
   ],
   "source": [
    "df.shape"
   ]
  },
  {
   "cell_type": "code",
   "execution_count": 134,
   "metadata": {},
   "outputs": [],
   "source": [
    "# Converting the categorical columns to dummy variables\n",
    "df = pd.get_dummies(df, columns= cat_cols , drop_first = True)"
   ]
  },
  {
   "cell_type": "code",
   "execution_count": 135,
   "metadata": {},
   "outputs": [
    {
     "data": {
      "text/html": [
       "<div>\n",
       "<style scoped>\n",
       "    .dataframe tbody tr th:only-of-type {\n",
       "        vertical-align: middle;\n",
       "    }\n",
       "\n",
       "    .dataframe tbody tr th {\n",
       "        vertical-align: top;\n",
       "    }\n",
       "\n",
       "    .dataframe thead th {\n",
       "        text-align: right;\n",
       "    }\n",
       "</style>\n",
       "<table border=\"1\" class=\"dataframe\">\n",
       "  <thead>\n",
       "    <tr style=\"text-align: right;\">\n",
       "      <th></th>\n",
       "      <th>rating_reviewcount</th>\n",
       "      <th>center1distance</th>\n",
       "      <th>center2distance</th>\n",
       "      <th>starrating</th>\n",
       "      <th>rating2_ta</th>\n",
       "      <th>rating2_ta_reviewcount</th>\n",
       "      <th>guestreviewsrating</th>\n",
       "      <th>real_price</th>\n",
       "      <th>addresscountryname_Belgium</th>\n",
       "      <th>addresscountryname_Finland</th>\n",
       "      <th>...</th>\n",
       "      <th>month_2</th>\n",
       "      <th>month_3</th>\n",
       "      <th>month_4</th>\n",
       "      <th>month_5</th>\n",
       "      <th>month_6</th>\n",
       "      <th>month_11</th>\n",
       "      <th>month_12</th>\n",
       "      <th>weekend_1</th>\n",
       "      <th>holiday_1</th>\n",
       "      <th>scarce_room_1</th>\n",
       "    </tr>\n",
       "  </thead>\n",
       "  <tbody>\n",
       "    <tr>\n",
       "      <th>0</th>\n",
       "      <td>1030.00</td>\n",
       "      <td>3.10</td>\n",
       "      <td>3.60</td>\n",
       "      <td>4.00</td>\n",
       "      <td>4.00</td>\n",
       "      <td>1115.00</td>\n",
       "      <td>4.00</td>\n",
       "      <td>172.00</td>\n",
       "      <td>0</td>\n",
       "      <td>0</td>\n",
       "      <td>...</td>\n",
       "      <td>0</td>\n",
       "      <td>0</td>\n",
       "      <td>0</td>\n",
       "      <td>0</td>\n",
       "      <td>0</td>\n",
       "      <td>1</td>\n",
       "      <td>0</td>\n",
       "      <td>1</td>\n",
       "      <td>0</td>\n",
       "      <td>0</td>\n",
       "    </tr>\n",
       "    <tr>\n",
       "      <th>1</th>\n",
       "      <td>1030.00</td>\n",
       "      <td>3.10</td>\n",
       "      <td>3.60</td>\n",
       "      <td>4.00</td>\n",
       "      <td>4.00</td>\n",
       "      <td>1115.00</td>\n",
       "      <td>4.00</td>\n",
       "      <td>81.74</td>\n",
       "      <td>0</td>\n",
       "      <td>0</td>\n",
       "      <td>...</td>\n",
       "      <td>0</td>\n",
       "      <td>0</td>\n",
       "      <td>0</td>\n",
       "      <td>0</td>\n",
       "      <td>0</td>\n",
       "      <td>0</td>\n",
       "      <td>0</td>\n",
       "      <td>1</td>\n",
       "      <td>0</td>\n",
       "      <td>0</td>\n",
       "    </tr>\n",
       "    <tr>\n",
       "      <th>2</th>\n",
       "      <td>1030.00</td>\n",
       "      <td>3.10</td>\n",
       "      <td>3.60</td>\n",
       "      <td>4.00</td>\n",
       "      <td>4.00</td>\n",
       "      <td>1115.00</td>\n",
       "      <td>4.00</td>\n",
       "      <td>81.74</td>\n",
       "      <td>0</td>\n",
       "      <td>0</td>\n",
       "      <td>...</td>\n",
       "      <td>0</td>\n",
       "      <td>0</td>\n",
       "      <td>0</td>\n",
       "      <td>0</td>\n",
       "      <td>0</td>\n",
       "      <td>0</td>\n",
       "      <td>1</td>\n",
       "      <td>0</td>\n",
       "      <td>1</td>\n",
       "      <td>0</td>\n",
       "    </tr>\n",
       "    <tr>\n",
       "      <th>3</th>\n",
       "      <td>1030.00</td>\n",
       "      <td>3.10</td>\n",
       "      <td>3.60</td>\n",
       "      <td>4.00</td>\n",
       "      <td>4.00</td>\n",
       "      <td>1115.00</td>\n",
       "      <td>4.00</td>\n",
       "      <td>126.96</td>\n",
       "      <td>0</td>\n",
       "      <td>0</td>\n",
       "      <td>...</td>\n",
       "      <td>0</td>\n",
       "      <td>0</td>\n",
       "      <td>0</td>\n",
       "      <td>0</td>\n",
       "      <td>0</td>\n",
       "      <td>0</td>\n",
       "      <td>1</td>\n",
       "      <td>0</td>\n",
       "      <td>1</td>\n",
       "      <td>0</td>\n",
       "    </tr>\n",
       "    <tr>\n",
       "      <th>4</th>\n",
       "      <td>1030.00</td>\n",
       "      <td>3.10</td>\n",
       "      <td>3.60</td>\n",
       "      <td>4.00</td>\n",
       "      <td>4.00</td>\n",
       "      <td>1115.00</td>\n",
       "      <td>4.00</td>\n",
       "      <td>81.74</td>\n",
       "      <td>0</td>\n",
       "      <td>0</td>\n",
       "      <td>...</td>\n",
       "      <td>1</td>\n",
       "      <td>0</td>\n",
       "      <td>0</td>\n",
       "      <td>0</td>\n",
       "      <td>0</td>\n",
       "      <td>0</td>\n",
       "      <td>0</td>\n",
       "      <td>1</td>\n",
       "      <td>0</td>\n",
       "      <td>0</td>\n",
       "    </tr>\n",
       "  </tbody>\n",
       "</table>\n",
       "<p>5 rows × 229 columns</p>\n",
       "</div>"
      ],
      "text/plain": [
       "   rating_reviewcount  center1distance  center2distance  starrating  \\\n",
       "0             1030.00             3.10             3.60        4.00   \n",
       "1             1030.00             3.10             3.60        4.00   \n",
       "2             1030.00             3.10             3.60        4.00   \n",
       "3             1030.00             3.10             3.60        4.00   \n",
       "4             1030.00             3.10             3.60        4.00   \n",
       "\n",
       "   rating2_ta  rating2_ta_reviewcount  guestreviewsrating  real_price  \\\n",
       "0        4.00                 1115.00                4.00      172.00   \n",
       "1        4.00                 1115.00                4.00       81.74   \n",
       "2        4.00                 1115.00                4.00       81.74   \n",
       "3        4.00                 1115.00                4.00      126.96   \n",
       "4        4.00                 1115.00                4.00       81.74   \n",
       "\n",
       "   addresscountryname_Belgium  addresscountryname_Finland  ...  month_2  \\\n",
       "0                           0                           0  ...        0   \n",
       "1                           0                           0  ...        0   \n",
       "2                           0                           0  ...        0   \n",
       "3                           0                           0  ...        0   \n",
       "4                           0                           0  ...        1   \n",
       "\n",
       "   month_3  month_4  month_5  month_6  month_11  month_12  weekend_1  \\\n",
       "0        0        0        0        0         1         0          1   \n",
       "1        0        0        0        0         0         0          1   \n",
       "2        0        0        0        0         0         1          0   \n",
       "3        0        0        0        0         0         1          0   \n",
       "4        0        0        0        0         0         0          1   \n",
       "\n",
       "   holiday_1  scarce_room_1  \n",
       "0          0              0  \n",
       "1          0              0  \n",
       "2          1              0  \n",
       "3          1              0  \n",
       "4          0              0  \n",
       "\n",
       "[5 rows x 229 columns]"
      ]
     },
     "execution_count": 135,
     "metadata": {},
     "output_type": "execute_result"
    }
   ],
   "source": [
    "df.head()"
   ]
  },
  {
   "cell_type": "code",
   "execution_count": 136,
   "metadata": {},
   "outputs": [],
   "source": [
    "df.to_csv('cleaned_hotel2.csv', index = False)"
   ]
  },
  {
   "cell_type": "code",
   "execution_count": 137,
   "metadata": {},
   "outputs": [
    {
     "data": {
      "image/png": "[encoded data removed]",
      "text/plain": [
       "<Figure size 640x480 with 1 Axes>"
      ]
     },
     "metadata": {},
     "output_type": "display_data"
    }
   ],
   "source": [
    "# checking distribution of target variable by histogram\n",
    "plt.hist(df['real_price'], bins = 80, edgecolor = 'black')\n",
    "plt.xlabel('Price')\n",
    "plt.xlim(0,1600)\n",
    "plt.ylabel('Count')\n",
    "plt.title('Distribution of hotel prices')\n",
    "plt.show()\n"
   ]
  },
  {
   "cell_type": "markdown",
   "metadata": {},
   "source": [
    "### Separating Target variable and features, test and train sets."
   ]
  },
  {
   "cell_type": "code",
   "execution_count": 138,
   "metadata": {},
   "outputs": [],
   "source": [
    "# Split the data into features and target\n",
    "X = df.drop('real_price', axis = 1)\n",
    "y = df['real_price']\n",
    "\n",
    "# Split the data into train and test sets\n",
    "from sklearn.model_selection import train_test_split\n",
    "X_train, X_test, y_train, y_test = train_test_split(X,y, test_size = .2, random_state = 42)"
   ]
  },
  {
   "cell_type": "code",
   "execution_count": 139,
   "metadata": {},
   "outputs": [],
   "source": [
    "# Scaling the data\n",
    "from sklearn.preprocessing import StandardScaler\n",
    "scaler = StandardScaler()\n",
    "X_train_scaled = scaler.fit_transform(X_train)\n",
    "X_test_scaled = scaler.transform(X_test)"
   ]
  },
  {
   "cell_type": "code",
   "execution_count": 141,
   "metadata": {},
   "outputs": [
    {
     "name": "stdout",
     "output_type": "stream",
     "text": [
      "Mean of the real price:  127.7835923082404\n",
      "Standard deviation of the real price:  113.05468564221064\n"
     ]
    }
   ],
   "source": [
    "# checking the mean and standard deviation of the real_price\n",
    "print('Mean of the real price: ', np.mean(y_train))\n",
    "print('Standard deviation of the real price: ', np.std(y_train))"
   ]
  },
  {
   "cell_type": "code",
   "execution_count": 143,
   "metadata": {},
   "outputs": [
    {
     "name": "stdout",
     "output_type": "stream",
     "text": [
      "Baseline model performance on the training data: \n",
      " MSE: 12781.36194565926 \n",
      " RMSE:  113.0546856422115 \n",
      " MAE:  66.96729878530493 \n",
      " R2:  -1.4876988529977098e-14\n",
      "Baseline model performance on the test data: \n",
      " MSE: 11879.493276641402 \n",
      " RMSE:  108.99308820581882 \n",
      " MAE:  67.07968226773656 \n",
      " R2:  -9.28604319947457e-05\n"
     ]
    }
   ],
   "source": [
    "# Building the baseline model: using the mean of the real_price as the prediction\n",
    "baseline_pred = np.repeat(np.mean(y_train), len(y_test))\n",
    "\n",
    "# Checking the model performance on the training data\n",
    "from sklearn.metrics import mean_squared_error\n",
    "baseline_train_mse = mean_squared_error(y_train, np.repeat(np.mean(y_train), len(y_train)))\n",
    "baseline__train_rmse = np.sqrt(baseline_train_mse)\n",
    "baseline__train_mae = np.mean(np.abs(y_train - np.repeat(np.mean(y_train), len(y_train))))\n",
    "baseline_train_r2 = 1 - (baseline_train_mse/np.var(y_train))\n",
    "print('Baseline model performance on the training data:', '\\n', 'MSE:', baseline_train_mse, '\\n',  'RMSE: ', baseline__train_rmse, '\\n', 'MAE: ', baseline__train_mae, '\\n', 'R2: ', baseline_train_r2)\n",
    "\n",
    "# Checking the model performance on the test data\n",
    "baseline_test_mse = mean_squared_error(y_test, baseline_pred)\n",
    "baseline__test_rmse = np.sqrt(baseline_test_mse)\n",
    "baseline__test_mae = np.mean(np.abs(y_test - baseline_pred))\n",
    "baseline_test_r2 = 1 - (baseline_test_mse/np.var(y_test))\n",
    "print('Baseline model performance on the test data:', '\\n', 'MSE:', baseline_test_mse, '\\n', 'RMSE: ', baseline__test_rmse, '\\n', 'MAE: ', baseline__test_mae, '\\n', 'R2: ', baseline_test_r2)\n"
   ]
  },
  {
   "cell_type": "code",
   "execution_count": 144,
   "metadata": {},
   "outputs": [
    {
     "data": {
      "image/png": "[encoded data removed]",
      "text/plain": [
       "<Figure size 640x480 with 1 Axes>"
      ]
     },
     "metadata": {},
     "output_type": "display_data"
    }
   ],
   "source": [
    "# Plotting y_test and y_pred to understand the spread\n",
    "plt.scatter(y_test, baseline_pred)\n",
    "plt.xlabel('Actual price')\n",
    "plt.ylabel('Predicted price')\n",
    "plt.title('Baseline model predictions')\n",
    "plt.show()"
   ]
  },
  {
   "cell_type": "markdown",
   "metadata": {},
   "source": [
    "# Model 1: OLS Regression"
   ]
  },
  {
   "cell_type": "markdown",
   "metadata": {},
   "source": [
    "* We will try several OLS models with different levels of complexity.\n",
    "* At the first step we implement a model with some of the features on the right hand side. "
   ]
  },
  {
   "cell_type": "code",
   "execution_count": 49,
   "metadata": {},
   "outputs": [],
   "source": [
    "from sklearn.linear_model import LinearRegression\n",
    "from sklearn.metrics import mean_squared_error\n",
    "\n",
    "# Choosing some features to use in the model including all the dummies that start with \"accommodationtype\", \"city_actual_\" and center1distance\tcenter2distance\tstarrating\trating2_ta\trating2_ta_reviewcount\tweekend_1\tholiday_1\tscarce_room_1\n",
    "features = ['center1distance', 'center2distance', 'starrating', 'rating2_ta', 'rating2_ta_reviewcount', 'weekend_1', 'holiday_1', 'scarce_room_1']\n",
    "\n",
    "for i in df.columns:\n",
    "    if i.startswith('accommodationtype') or i.startswith('city_actual_'):\n",
    "        features.append(i)"
   ]
  },
  {
   "cell_type": "code",
   "execution_count": 50,
   "metadata": {},
   "outputs": [
    {
     "name": "stdout",
     "output_type": "stream",
     "text": [
      "Training MSE: 9638.92895824917\n",
      "Test MSE: 8866.510712512048\n"
     ]
    }
   ],
   "source": [
    "# defining a model with the above features\n",
    "OLS_model0 = LinearRegression()\n",
    "OLS_model0.fit(X_train_scaled[:,[X.columns.get_loc(i) for i in features]], y_train)\n",
    "\n",
    "# Checking the model performance on the training data\n",
    "y_pred = OLS_model0.predict(X_train_scaled[:,[X.columns.get_loc(i) for i in features]])\n",
    "ols0_train_mse = mean_squared_error(y_train, y_pred)\n",
    "ols0_train_rmse = np.sqrt(ols0_train_mse)\n",
    "ols0_train_mae = np.mean(np.abs(y_train - y_pred))\n",
    "ols0_train_r2 = OLS_model0.score(X_train_scaled[:,[X.columns.get_loc(i) for i in features]], y_train)\n",
    "print('Training MSE:', ols0_train_mse)\n",
    "\n",
    "# Checking the model performance on the test data\n",
    "y_pred = OLS_model0.predict(X_test_scaled[:,[X.columns.get_loc(i) for i in features]])\n",
    "ols0_test_mse = mean_squared_error(y_test, y_pred)\n",
    "ols0_test_rmse = np.sqrt(ols0_test_mse)\n",
    "ols0_test_mae = np.mean(np.abs(y_test - y_pred))\n",
    "ols0_test_r2 = OLS_model0.score(X_test_scaled[:,[X.columns.get_loc(i) for i in features]], y_test)\n",
    "print('Test MSE:', ols0_test_mse)"
   ]
  },
  {
   "cell_type": "code",
   "execution_count": 51,
   "metadata": {},
   "outputs": [
    {
     "data": {
      "image/png": "[encoded data removed]",
      "text/plain": [
       "<Figure size 640x480 with 1 Axes>"
      ]
     },
     "metadata": {},
     "output_type": "display_data"
    }
   ],
   "source": [
    "# Plotting y_test and y_pred to understand the spread\n",
    "plt.scatter(y_test, y_pred)\n",
    "plt.xlabel('y_test')\n",
    "plt.ylabel('y_pred_test')\n",
    "plt.xlim(0, 1500)\n",
    "plt.ylim(0, 1500)\n",
    "plt.show()"
   ]
  },
  {
   "cell_type": "markdown",
   "metadata": {},
   "source": [
    "# OLS with all the features"
   ]
  },
  {
   "cell_type": "code",
   "execution_count": 52,
   "metadata": {},
   "outputs": [
    {
     "name": "stdout",
     "output_type": "stream",
     "text": [
      "Training MSE: 9400.643039304774\n",
      "Test MSE: 8659.33685376817\n"
     ]
    }
   ],
   "source": [
    "# Creating a linear regression model\n",
    "ols_model = LinearRegression()\n",
    "# Fitting the model to the training data\n",
    "ols_model.fit(X_train_scaled, y_train)\n",
    "\n",
    "# Checking the model performance on the training data\n",
    "y_train_pred = ols_model.predict(X_train_scaled)\n",
    "ols_train_mse = mean_squared_error(y_train, y_train_pred)\n",
    "ols_train_rmse = np.sqrt(ols_train_mse)\n",
    "ols_train_mae = np.mean(np.abs(y_train - y_train_pred))\n",
    "ols_train_r2 = ols_model.score(X_train_scaled, y_train)\n",
    "print('Training MSE:', ols_train_mse, '\\n', 'Training RMSE:', ols_train_rmse, '\\n', 'Training MAE:', ols_train_mae, '\\n', 'Training R2:', ols_train_r2)\n",
    "\n",
    "# Checking the model performance on the test data\n",
    "y_test_pred = ols_model.predict(X_test_scaled)\n",
    "ols_test_mse = mean_squared_error(y_test, y_test_pred)\n",
    "ols_test_rmse = np.sqrt(ols_test_mse)\n",
    "ols_test_mae = np.mean(np.abs(y_test - y_test_pred))\n",
    "ols_test_r2 = ols_model.score(X_test_scaled, y_test)\n",
    "print('Test MSE:', ols_test_mse, '\\n', 'Test RMSE:', ols_test_rmse, '\\n', 'Test MAE:', ols_test_mae, '\\n', 'Test R2:', ols_test_r2)"
   ]
  },
  {
   "cell_type": "code",
   "execution_count": 53,
   "metadata": {},
   "outputs": [
    {
     "data": {
      "text/html": [
       "<div>\n",
       "<style scoped>\n",
       "    .dataframe tbody tr th:only-of-type {\n",
       "        vertical-align: middle;\n",
       "    }\n",
       "\n",
       "    .dataframe tbody tr th {\n",
       "        vertical-align: top;\n",
       "    }\n",
       "\n",
       "    .dataframe thead th {\n",
       "        text-align: right;\n",
       "    }\n",
       "</style>\n",
       "<table border=\"1\" class=\"dataframe\">\n",
       "  <thead>\n",
       "    <tr style=\"text-align: right;\">\n",
       "      <th></th>\n",
       "      <th>feature</th>\n",
       "      <th>importance</th>\n",
       "    </tr>\n",
       "  </thead>\n",
       "  <tbody>\n",
       "    <tr>\n",
       "      <th>7</th>\n",
       "      <td>addresscountryname_Belgium</td>\n",
       "      <td>7.681872e+13</td>\n",
       "    </tr>\n",
       "    <tr>\n",
       "      <th>81</th>\n",
       "      <td>city_actual_Helsinki</td>\n",
       "      <td>3.930798e+13</td>\n",
       "    </tr>\n",
       "    <tr>\n",
       "      <th>217</th>\n",
       "      <td>year_2018</td>\n",
       "      <td>3.277827e+13</td>\n",
       "    </tr>\n",
       "    <tr>\n",
       "      <th>11</th>\n",
       "      <td>addresscountryname_Sweden</td>\n",
       "      <td>3.122685e+13</td>\n",
       "    </tr>\n",
       "    <tr>\n",
       "      <th>223</th>\n",
       "      <td>month_11</td>\n",
       "      <td>2.695436e+13</td>\n",
       "    </tr>\n",
       "    <tr>\n",
       "      <th>...</th>\n",
       "      <td>...</td>\n",
       "      <td>...</td>\n",
       "    </tr>\n",
       "    <tr>\n",
       "      <th>10</th>\n",
       "      <td>addresscountryname_Netherlands</td>\n",
       "      <td>-1.656212e+13</td>\n",
       "    </tr>\n",
       "    <tr>\n",
       "      <th>30</th>\n",
       "      <td>city_actual_Berlin</td>\n",
       "      <td>-1.829471e+13</td>\n",
       "    </tr>\n",
       "    <tr>\n",
       "      <th>164</th>\n",
       "      <td>city_actual_Stockholm</td>\n",
       "      <td>-2.460639e+13</td>\n",
       "    </tr>\n",
       "    <tr>\n",
       "      <th>8</th>\n",
       "      <td>addresscountryname_Finland</td>\n",
       "      <td>-4.441021e+13</td>\n",
       "    </tr>\n",
       "    <tr>\n",
       "      <th>37</th>\n",
       "      <td>city_actual_Brussels</td>\n",
       "      <td>-7.379619e+13</td>\n",
       "    </tr>\n",
       "  </tbody>\n",
       "</table>\n",
       "<p>228 rows × 2 columns</p>\n",
       "</div>"
      ],
      "text/plain": [
       "                            feature    importance\n",
       "7        addresscountryname_Belgium  7.681872e+13\n",
       "81             city_actual_Helsinki  3.930798e+13\n",
       "217                       year_2018  3.277827e+13\n",
       "11        addresscountryname_Sweden  3.122685e+13\n",
       "223                        month_11  2.695436e+13\n",
       "..                              ...           ...\n",
       "10   addresscountryname_Netherlands -1.656212e+13\n",
       "30               city_actual_Berlin -1.829471e+13\n",
       "164           city_actual_Stockholm -2.460639e+13\n",
       "8        addresscountryname_Finland -4.441021e+13\n",
       "37             city_actual_Brussels -7.379619e+13\n",
       "\n",
       "[228 rows x 2 columns]"
      ]
     },
     "execution_count": 53,
     "metadata": {},
     "output_type": "execute_result"
    }
   ],
   "source": [
    "# Importance of the features in the OLS model\n",
    "ols_coef = pd.DataFrame({'feature': X_train.columns, 'importance': ols_model.coef_})\n",
    "ols_coef.sort_values('importance', ascending = False)"
   ]
  },
  {
   "cell_type": "code",
   "execution_count": 54,
   "metadata": {},
   "outputs": [
    {
     "data": {
      "image/png": "[encoded data removed]",
      "text/plain": [
       "<Figure size 640x480 with 1 Axes>"
      ]
     },
     "metadata": {},
     "output_type": "display_data"
    }
   ],
   "source": [
    "# Plotting y_test and y_pred to understand the spread\n",
    "plt.scatter(y_test, y_test_pred)\n",
    "plt.xlabel('y_test')\n",
    "plt.ylabel('y_pred_test')\n",
    "plt.xlim(0, 1500)\n",
    "plt.ylim(0, 1500)\n",
    "plt.title('OLS model')\n",
    "plt.show()\n"
   ]
  },
  {
   "cell_type": "markdown",
   "metadata": {},
   "source": [
    "# LASSO regression"
   ]
  },
  {
   "cell_type": "code",
   "execution_count": 55,
   "metadata": {},
   "outputs": [],
   "source": [
    "# choosing the best alpha value for LASSO regression\n",
    "\n",
    "import warnings\n",
    "from sklearn.exceptions import ConvergenceWarning\n",
    "from sklearn.linear_model import LassoCV\n",
    "warnings.filterwarnings(\"ignore\", category=ConvergenceWarning)\n",
    "\n",
    "# Lasso- Parameter tuning\n",
    "alphas = np.logspace(-6, 2, 100)\n",
    "lasso_cv = LassoCV(alphas=alphas, cv=5)\n",
    "lasso_cv.fit(X_train, y_train)\n",
    "# Stoing the best lambda value\n",
    "selected_alpha = lasso_cv.alpha_\n",
    "\n",
    "warnings.resetwarnings()"
   ]
  },
  {
   "cell_type": "code",
   "execution_count": 56,
   "metadata": {},
   "outputs": [
    {
     "name": "stderr",
     "output_type": "stream",
     "text": [
      "c:\\Users\\PA\\anaconda3\\lib\\site-packages\\sklearn\\linear_model\\_coordinate_descent.py:631: ConvergenceWarning: Objective did not converge. You might want to increase the number of iterations, check the scale of the features or consider increasing regularisation. Duality gap: 8.818e+07, tolerance: 3.588e+04\n",
      "  model = cd_fast.enet_coordinate_descent(\n"
     ]
    },
    {
     "data": {
      "text/html": [
       "<style>#sk-container-id-1 {color: black;background-color: white;}#sk-container-id-1 pre{padding: 0;}#sk-container-id-1 div.sk-toggleable {background-color: white;}#sk-container-id-1 label.sk-toggleable__label {cursor: pointer;display: block;width: 100%;margin-bottom: 0;padding: 0.3em;box-sizing: border-box;text-align: center;}#sk-container-id-1 label.sk-toggleable__label-arrow:before {content: \"▸\";float: left;margin-right: 0.25em;color: #696969;}#sk-container-id-1 label.sk-toggleable__label-arrow:hover:before {color: black;}#sk-container-id-1 div.sk-estimator:hover label.sk-toggleable__label-arrow:before {color: black;}#sk-container-id-1 div.sk-toggleable__content {max-height: 0;max-width: 0;overflow: hidden;text-align: left;background-color: #f0f8ff;}#sk-container-id-1 div.sk-toggleable__content pre {margin: 0.2em;color: black;border-radius: 0.25em;background-color: #f0f8ff;}#sk-container-id-1 input.sk-toggleable__control:checked~div.sk-toggleable__content {max-height: 200px;max-width: 100%;overflow: auto;}#sk-container-id-1 input.sk-toggleable__control:checked~label.sk-toggleable__label-arrow:before {content: \"▾\";}#sk-container-id-1 div.sk-estimator input.sk-toggleable__control:checked~label.sk-toggleable__label {background-color: #d4ebff;}#sk-container-id-1 div.sk-label input.sk-toggleable__control:checked~label.sk-toggleable__label {background-color: #d4ebff;}#sk-container-id-1 input.sk-hidden--visually {border: 0;clip: rect(1px 1px 1px 1px);clip: rect(1px, 1px, 1px, 1px);height: 1px;margin: -1px;overflow: hidden;padding: 0;position: absolute;width: 1px;}#sk-container-id-1 div.sk-estimator {font-family: monospace;background-color: #f0f8ff;border: 1px dotted black;border-radius: 0.25em;box-sizing: border-box;margin-bottom: 0.5em;}#sk-container-id-1 div.sk-estimator:hover {background-color: #d4ebff;}#sk-container-id-1 div.sk-parallel-item::after {content: \"\";width: 100%;border-bottom: 1px solid gray;flex-grow: 1;}#sk-container-id-1 div.sk-label:hover label.sk-toggleable__label {background-color: #d4ebff;}#sk-container-id-1 div.sk-serial::before {content: \"\";position: absolute;border-left: 1px solid gray;box-sizing: border-box;top: 0;bottom: 0;left: 50%;z-index: 0;}#sk-container-id-1 div.sk-serial {display: flex;flex-direction: column;align-items: center;background-color: white;padding-right: 0.2em;padding-left: 0.2em;position: relative;}#sk-container-id-1 div.sk-item {position: relative;z-index: 1;}#sk-container-id-1 div.sk-parallel {display: flex;align-items: stretch;justify-content: center;background-color: white;position: relative;}#sk-container-id-1 div.sk-item::before, #sk-container-id-1 div.sk-parallel-item::before {content: \"\";position: absolute;border-left: 1px solid gray;box-sizing: border-box;top: 0;bottom: 0;left: 50%;z-index: -1;}#sk-container-id-1 div.sk-parallel-item {display: flex;flex-direction: column;z-index: 1;position: relative;background-color: white;}#sk-container-id-1 div.sk-parallel-item:first-child::after {align-self: flex-end;width: 50%;}#sk-container-id-1 div.sk-parallel-item:last-child::after {align-self: flex-start;width: 50%;}#sk-container-id-1 div.sk-parallel-item:only-child::after {width: 0;}#sk-container-id-1 div.sk-dashed-wrapped {border: 1px dashed gray;margin: 0 0.4em 0.5em 0.4em;box-sizing: border-box;padding-bottom: 0.4em;background-color: white;}#sk-container-id-1 div.sk-label label {font-family: monospace;font-weight: bold;display: inline-block;line-height: 1.2em;}#sk-container-id-1 div.sk-label-container {text-align: center;}#sk-container-id-1 div.sk-container {/* jupyter's `normalize.less` sets `[hidden] { display: none; }` but bootstrap.min.css set `[hidden] { display: none !important; }` so we also need the `!important` here to be able to override the default hidden behavior on the sphinx rendered scikit-learn.org. See: https://github.com/scikit-learn/scikit-learn/issues/21755 */display: inline-block !important;position: relative;}#sk-container-id-1 div.sk-text-repr-fallback {display: none;}</style><div id=\"sk-container-id-1\" class=\"sk-top-container\"><div class=\"sk-text-repr-fallback\"><pre>Lasso(alpha=0.0006734150657750829)</pre><b>In a Jupyter environment, please rerun this cell to show the HTML representation or trust the notebook. <br />On GitHub, the HTML representation is unable to render, please try loading this page with nbviewer.org.</b></div><div class=\"sk-container\" hidden><div class=\"sk-item\"><div class=\"sk-estimator sk-toggleable\"><input class=\"sk-toggleable__control sk-hidden--visually\" id=\"sk-estimator-id-1\" type=\"checkbox\" checked><label for=\"sk-estimator-id-1\" class=\"sk-toggleable__label sk-toggleable__label-arrow\">Lasso</label><div class=\"sk-toggleable__content\"><pre>Lasso(alpha=0.0006734150657750829)</pre></div></div></div></div></div>"
      ],
      "text/plain": [
       "Lasso(alpha=0.0006734150657750829)"
      ]
     },
     "execution_count": 56,
     "metadata": {},
     "output_type": "execute_result"
    }
   ],
   "source": [
    "from sklearn.linear_model import Lasso\n",
    "\n",
    "\n",
    "best_lasso_model = Lasso(alpha=selected_alpha)\n",
    "best_lasso_model.fit(X_train_scaled, y_train)"
   ]
  },
  {
   "cell_type": "code",
   "execution_count": null,
   "metadata": {},
   "outputs": [],
   "source": [
    "# getting the features from the LASSO model that have a non-zero coefficient\n",
    "lasso_coef = pd.DataFrame({'feature': X_train.columns, 'importance': best_lasso_model.coef_})\n",
    "lasso_coef = lasso_coef[lasso_coef['importance'] != 0]\n",
    "lasso_coef.sort_values('importance', ascending = False, inplace = True)\n",
    "\n",
    "# running the OLS model with the features from the LASSO model that have a non-zero coefficient\n",
    "lasso_ols_model = LinearRegression()\n",
    "lasso_ols_model.fit(X_train_scaled[:,[X.columns.get_loc(i) for i in lasso_coef['feature']]], y_train)\n",
    "\n",
    "# Checking the model performance on the training data\n",
    "y_train_pred = lasso_ols_model.predict(X_train_scaled[:,[X.columns.get_loc(i) for i in lasso_coef['feature']]])\n",
    "lasso_ols_train_mse = mean_squared_error(y_train, y_train_pred)\n",
    "lasso_ols_train_rmse = np.sqrt(lasso_ols_train_mse)\n",
    "lasso_ols_train_mae = np.mean(np.abs(y_train - y_train_pred))\n",
    "lasso_ols_train_r2 = lasso_ols_model.score(X_train_scaled[:,[X.columns.get_loc(i) for i in lasso_coef['feature']]], y_train)\n",
    "print('Training MSE:', lasso_ols_train_mse, '\\n', 'Training RMSE:', lasso_ols_train_rmse, '\\n', 'Training MAE:', lasso_ols_train_mae, '\\n', 'Training R2:', lasso_ols_train_r2)\n",
    "\n",
    "# Checking the model performance on the test data\n",
    "y_test_pred = lasso_ols_model.predict(X_test_scaled[:,[X.columns.get_loc(i) for i in lasso_coef['feature']]])\n",
    "lasso_ols_test_mse = mean_squared_error(y_test, y_test_pred)\n",
    "lasso_ols_test_rmse = np.sqrt(lasso_ols_test_mse)\n",
    "lasso_ols_test_mae = np.mean(np.abs(y_test - y_test_pred))\n",
    "lasso_ols_test_r2 = lasso_ols_model.score(X_test_scaled[:,[X.columns.get_loc(i) for i in lasso_coef['feature']]], y_test)\n",
    "print('Test MSE:', lasso_ols_test_mse, '\\n', 'Test RMSE:', lasso_ols_test_rmse, '\\n', 'Test MAE:', lasso_ols_test_mae, '\\n', 'Test R2:', lasso_ols_test_r2)"
   ]
  },
  {
   "cell_type": "code",
   "execution_count": 59,
   "metadata": {},
   "outputs": [
    {
     "data": {
      "image/png": "[encoded data removed]",
      "text/plain": [
       "<Figure size 640x480 with 1 Axes>"
      ]
     },
     "metadata": {},
     "output_type": "display_data"
    }
   ],
   "source": [
    "# Plotting y_test and y_pred to understand the spread\n",
    "plt.scatter(y_test, y_test_pred)\n",
    "plt.xlabel('y_test')\n",
    "plt.ylabel('y_pred_test')\n",
    "plt.xlim(0, 1500)\n",
    "plt.ylim(0, 1500)\n",
    "plt.title('Lasso Regression')\n",
    "plt.show()\n"
   ]
  },
  {
   "cell_type": "markdown",
   "metadata": {},
   "source": [
    "# Regression Tree"
   ]
  },
  {
   "cell_type": "code",
   "execution_count": 80,
   "metadata": {},
   "outputs": [
    {
     "name": "stdout",
     "output_type": "stream",
     "text": [
      "Training MSE: 172.47517385672893\n",
      "Test MSE: 7549.662588474899\n"
     ]
    }
   ],
   "source": [
    "from sklearn.tree import DecisionTreeRegressor\n",
    "\n",
    "# Creating a decision tree regression model\n",
    "dtree_model = DecisionTreeRegressor(random_state=42)\n",
    "# Fitting the model to the training data\n",
    "dtree_model.fit(X_train_scaled, y_train)\n",
    "\n",
    "# Checking the model performance on the training data\n",
    "y_train_pred = dtree_model.predict(X_train_scaled)\n",
    "dtree_train_mse = mean_squared_error(y_train, y_train_pred)\n",
    "dtree_train_rmse = np.sqrt(dtree_train_mse)\n",
    "dtree_train_mae = np.mean(np.abs(y_train - y_train_pred))\n",
    "dtree_train_r2 = dtree_model.score(X_train_scaled, y_train)\n",
    "print('Training MSE:', dtree_train_mse, '\\n', 'Training RMSE:', dtree_train_rmse, '\\n', 'Training MAE:', dtree_train_mae, '\\n', 'Training R2:', dtree_train_r2)\n",
    "\n",
    "# Checking the model performance on the test data\n",
    "y_test_pred = dtree_model.predict(X_test_scaled)\n",
    "dtree_test_mse = mean_squared_error(y_test, y_test_pred)\n",
    "dtree_test_rmse = np.sqrt(dtree_test_mse)\n",
    "dtree_test_mae = np.mean(np.abs(y_test - y_test_pred))\n",
    "dtree_test_r2 = dtree_model.score(X_test_scaled, y_test)\n",
    "print('Test MSE:', dtree_test_mse, '\\n', 'Test RMSE:', dtree_test_rmse, '\\n', 'Test MAE:', dtree_test_mae, '\\n', 'Test R2:', dtree_test_r2)"
   ]
  },
  {
   "cell_type": "code",
   "execution_count": 81,
   "metadata": {},
   "outputs": [
    {
     "data": {
      "image/png": "[encoded data removed]",
      "text/plain": [
       "<Figure size 640x480 with 1 Axes>"
      ]
     },
     "metadata": {},
     "output_type": "display_data"
    }
   ],
   "source": [
    "# Plotting y_test and y_pred to understand the spread\n",
    "plt.scatter(y_test, y_test_pred)\n",
    "plt.xlabel('y_test')\n",
    "plt.ylabel('y_pred_test')\n",
    "plt.title('Decision Tree Regression')\n",
    "plt.show()"
   ]
  },
  {
   "cell_type": "code",
   "execution_count": 72,
   "metadata": {},
   "outputs": [],
   "source": [
    "# implementing the regression tree with hyperparameter tuning using random search\n",
    "from sklearn.model_selection import RandomizedSearchCV\n",
    "from sklearn.model_selection import GridSearchCV\n",
    "# defining the grid of parameters\n",
    "param_grid = {'max_depth': np.arange(3, 10), 'min_samples_leaf': np.arange(5, 20), 'min_samples_split': np.arange(5, 20)}\n",
    "# defining the model\n",
    "dtree_model_cv = DecisionTreeRegressor(random_state=42)\n",
    "# defining the random search\n",
    "dtree_cv = RandomizedSearchCV(dtree_model_cv, param_grid, cv = 5)\n",
    "\n",
    "# fitting the model to the training data\n",
    "dtree_cv.fit(X_train_scaled, y_train)\n",
    "# storing the best parameters\n",
    "best_params = dtree_cv.best_params_"
   ]
  },
  {
   "cell_type": "code",
   "execution_count": 77,
   "metadata": {},
   "outputs": [
    {
     "name": "stdout",
     "output_type": "stream",
     "text": [
      "Training MSE: 8214.10843754803\n",
      "Test MSE: 7599.008725884286\n"
     ]
    }
   ],
   "source": [
    "# Creating a decision tree regression model with the best parameters\n",
    "dtree_model_best = DecisionTreeRegressor(random_state=42, **best_params)\n",
    "# Fitting the model to the training data\n",
    "dtree_model_best.fit(X_train_scaled, y_train)\n",
    "\n",
    "# Checking the model performance on the training data\n",
    "y_train_pred = dtree_model_best.predict(X_train_scaled)\n",
    "dtree_tuned_train_mse = mean_squared_error(y_train, y_train_pred)\n",
    "dtree_tuned_train_rmse = np.sqrt(dtree_train_mse)\n",
    "dtree_tuned_train_mae = np.mean(np.abs(y_train - y_train_pred))\n",
    "dtree_tuned_train_r2 = dtree_model_best.score(X_train_scaled, y_train)\n",
    "print('Training MSE:', dtree_tuned_train_mse, '\\n', 'Training RMSE:', dtree_tuned_train_rmse, '\\n', 'Training MAE:', dtree_tuned_train_mae, '\\n', 'Training R2:', dtree_tuned_train_r2)\n",
    "\n",
    "# Checking the model performance on the test data\n",
    "y_test_pred = dtree_model_best.predict(X_test_scaled)\n",
    "dtree_tuned_test_mse = mean_squared_error(y_test, y_test_pred)\n",
    "dtree_tuned_test_rmse = np.sqrt(dtree_test_mse)\n",
    "dtree_tuned_test_mae = np.mean(np.abs(y_test - y_test_pred))\n",
    "dtree_tuned_test_r2 = dtree_model_best.score(X_test_scaled, y_test)\n",
    "print('Test MSE:', dtree_tuned_test_mse, '\\n', 'Test RMSE:', dtree_tuned_test_rmse, '\\n', 'Test MAE:', dtree_tuned_test_mae, '\\n', 'Test R2:', dtree_tuned_test_r2)"
   ]
  },
  {
   "cell_type": "code",
   "execution_count": 78,
   "metadata": {},
   "outputs": [
    {
     "data": {
      "image/png": "[encoded data removed]",
      "text/plain": [
       "<Figure size 640x480 with 1 Axes>"
      ]
     },
     "metadata": {},
     "output_type": "display_data"
    }
   ],
   "source": [
    "# Plotting y_test and y_pred to understand the spread\n",
    "plt.scatter(y_test, y_test_pred)\n",
    "plt.xlabel('y_test')\n",
    "plt.ylabel('y_pred_test')\n",
    "plt.title('Regression Tree - Tuned')\n",
    "plt.show()"
   ]
  },
  {
   "cell_type": "markdown",
   "metadata": {},
   "source": [
    "# K-Nearest Neighbors (KNN) Model"
   ]
  },
  {
   "cell_type": "code",
   "execution_count": 62,
   "metadata": {},
   "outputs": [
    {
     "name": "stdout",
     "output_type": "stream",
     "text": [
      "Training MSE: 5992.30064510623\n",
      "Test MSE: 7938.871531778961\n"
     ]
    }
   ],
   "source": [
    "from sklearn.neighbors import KNeighborsRegressor\n",
    "\n",
    "# Creating a KNN regression model\n",
    "knn_model = KNeighborsRegressor()\n",
    "# Fitting the model to the training data\n",
    "knn_model.fit(X_train_scaled, y_train)\n",
    "\n",
    "# Checking the model performance on the training data\n",
    "y_train_pred = knn_model.predict(X_train_scaled)\n",
    "knn_train_mse = mean_squared_error(y_train, y_train_pred)\n",
    "knn_train_rmse = np.sqrt(knn_train_mse)\n",
    "knn_train_mae = np.mean(np.abs(y_train - y_train_pred))\n",
    "knn_train_r2 = knn_model.score(X_train_scaled, y_train)\n",
    "print('Training MSE:', knn_train_mse, '\\n', 'Training RMSE:', knn_train_rmse, '\\n', 'Training MAE:', knn_train_mae, '\\n', 'Training R2:', knn_train_r2)\n",
    "\n",
    "# Checking the model performance on the test data\n",
    "y_test_pred = knn_model.predict(X_test_scaled)\n",
    "knn_test_mse = mean_squared_error(y_test, y_test_pred)\n",
    "knn_test_rmse = np.sqrt(knn_test_mse)\n",
    "knn_test_mae = np.mean(np.abs(y_test - y_test_pred))\n",
    "knn_test_r2 = knn_model.score(X_test_scaled, y_test)\n",
    "print('Test MSE:', knn_test_mse, '\\n', 'Test RMSE:', knn_test_rmse, '\\n', 'Test MAE:', knn_test_mae, '\\n', 'Test R2:', knn_test_r2)\n"
   ]
  },
  {
   "cell_type": "code",
   "execution_count": 63,
   "metadata": {},
   "outputs": [
    {
     "data": {
      "image/png": "[encoded data removed]",
      "text/plain": [
       "<Figure size 640x480 with 1 Axes>"
      ]
     },
     "metadata": {},
     "output_type": "display_data"
    }
   ],
   "source": [
    "# Plotting y_test and y_pred to understand the spread\n",
    "plt.scatter(y_test, y_test_pred)\n",
    "plt.xlabel('y_test')\n",
    "plt.ylabel('y_pred_test')\n",
    "plt.title('KNN Regression')\n",
    "plt.show()"
   ]
  },
  {
   "cell_type": "code",
   "execution_count": 82,
   "metadata": {},
   "outputs": [],
   "source": [
    "# implementing the KNN regression with hyperparameter tuning using random search\n",
    "from sklearn.model_selection import RandomizedSearchCV\n",
    "from sklearn.model_selection import GridSearchCV\n",
    "# defining the grid of parameters\n",
    "param_grid = {'n_neighbors': np.arange(1, 20), 'weights': ['uniform', 'distance']}\n",
    "# defining the model\n",
    "knn_model_cv = KNeighborsRegressor()\n",
    "# defining the random search\n",
    "knn_cv = RandomizedSearchCV(knn_model_cv, param_grid, cv = 5)\n",
    "\n",
    "# fitting the model to the training data\n",
    "knn_cv.fit(X_train_scaled, y_train)\n",
    "# storing the best parameters\n",
    "best_params = knn_cv.best_params_"
   ]
  },
  {
   "cell_type": "code",
   "execution_count": 83,
   "metadata": {},
   "outputs": [
    {
     "name": "stdout",
     "output_type": "stream",
     "text": [
      "Training MSE: 172.52895335088468\n",
      "Test MSE: 6964.229032445324\n"
     ]
    }
   ],
   "source": [
    "# Creating a KNN regression model with the best parameters\n",
    "knn_model_best = KNeighborsRegressor(**best_params)\n",
    "# Fitting the model to the training data\n",
    "knn_model_best.fit(X_train_scaled, y_train)\n",
    "\n",
    "# Checking the model performance on the training data\n",
    "y_train_pred = knn_model_best.predict(X_train_scaled)\n",
    "knn_tuned_train_mse = mean_squared_error(y_train, y_train_pred)\n",
    "knn_tuned_train_rmse = np.sqrt(knn_tuned_train_mse)\n",
    "knn_tuned_train_mae = np.mean(np.abs(y_train - y_train_pred))\n",
    "knn_tuned_train_r2 = knn_model_best.score(X_train_scaled, y_train)\n",
    "print('Training MSE:', knn_tuned_train_mse, '\\n', 'Training RMSE:', knn_tuned_train_rmse, '\\n', 'Training MAE:', knn_tuned_train_mae, '\\n', 'Training R2:', knn_tuned_train_r2)\n",
    "\n",
    "# Checking the model performance on the test data\n",
    "y_test_pred = knn_model_best.predict(X_test_scaled)\n",
    "knn_tuned_test_mse = mean_squared_error(y_test, y_test_pred)\n",
    "knn_tuned_test_rmse = np.sqrt(knn_tuned_test_mse)\n",
    "knn_tuned_test_mae = np.mean(np.abs(y_test - y_test_pred))\n",
    "knn_tuned_test_r2 = knn_model_best.score(X_test_scaled, y_test)\n",
    "print('Test MSE:', knn_tuned_test_mse, '\\n', 'Test RMSE:', knn_tuned_test_rmse, '\\n', 'Test MAE:', knn_tuned_test_mae, '\\n', 'Test R2:', knn_tuned_test_r2)"
   ]
  },
  {
   "cell_type": "code",
   "execution_count": 84,
   "metadata": {},
   "outputs": [
    {
     "data": {
      "image/png": "[encoded data removed]",
      "text/plain": [
       "<Figure size 640x480 with 1 Axes>"
      ]
     },
     "metadata": {},
     "output_type": "display_data"
    }
   ],
   "source": [
    "# Plotting y_test and y_pred to understand the spread\n",
    "plt.scatter(y_test, y_test_pred)\n",
    "plt.xlabel('y_test')\n",
    "plt.ylabel('y_pred_test')\n",
    "plt.title('KNN regression - Tuned')\n",
    "plt.show()"
   ]
  },
  {
   "cell_type": "markdown",
   "metadata": {},
   "source": [
    "# Random Forest"
   ]
  },
  {
   "cell_type": "code",
   "execution_count": 64,
   "metadata": {},
   "outputs": [
    {
     "name": "stdout",
     "output_type": "stream",
     "text": [
      "Training MSE: 994.8907340019726\n",
      "Test MSE: 4388.162459733058\n"
     ]
    }
   ],
   "source": [
    "from sklearn.ensemble import RandomForestRegressor\n",
    "\n",
    "# Creating a random forest regression model\n",
    "rf_model = RandomForestRegressor(n_estimators=100, random_state=42)\n",
    "# Fitting the model to the training data\n",
    "rf_model.fit(X_train_scaled, y_train)\n",
    "\n",
    "# Checking the model performance on the training data\n",
    "y_train_pred = rf_model.predict(X_train_scaled)\n",
    "rf_train_mse = mean_squared_error(y_train, y_train_pred)\n",
    "rf_train_rmse = np.sqrt(rf_train_mse)\n",
    "rf_train_mae = np.mean(np.abs(y_train - y_train_pred))\n",
    "rf_train_r2 = rf_model.score(X_train_scaled, y_train)\n",
    "print('Training MSE:', rf_train_mse, '\\n', 'Training RMSE:', rf_train_rmse, '\\n', 'Training MAE:', rf_train_mae, '\\n', 'Training R2:', rf_train_r2)\n",
    "\n",
    "# Checking the model performance on the test data\n",
    "y_test_pred = rf_model.predict(X_test_scaled)\n",
    "rf_test_mse = mean_squared_error(y_test, y_test_pred)\n",
    "rf_test_rmse = np.sqrt(rf_test_mse)\n",
    "rf_test_mae = np.mean(np.abs(y_test - y_test_pred))\n",
    "rf_test_r2 = rf_model.score(X_test_scaled, y_test)\n",
    "print('Test MSE:', rf_test_mse, '\\n', 'Test RMSE:', rf_test_rmse, '\\n', 'Test MAE:', rf_test_mae, '\\n', 'Test R2:', rf_test_r2)"
   ]
  },
  {
   "cell_type": "code",
   "execution_count": 65,
   "metadata": {},
   "outputs": [
    {
     "data": {
      "image/png": "[encoded data removed]",
      "text/plain": [
       "<Figure size 640x480 with 1 Axes>"
      ]
     },
     "metadata": {},
     "output_type": "display_data"
    }
   ],
   "source": [
    "# Plotting y_test and y_pred to understand the spread\n",
    "plt.scatter(y_test, y_test_pred)\n",
    "plt.xlabel('y_test')\n",
    "plt.ylabel('y_pred_test')\n",
    "plt.title('Random Forest Regression')\n",
    "plt.show()"
   ]
  },
  {
   "cell_type": "code",
   "execution_count": 86,
   "metadata": {},
   "outputs": [
    {
     "name": "stderr",
     "output_type": "stream",
     "text": [
      "c:\\Users\\PA\\anaconda3\\lib\\site-packages\\sklearn\\model_selection\\_search.py:305: UserWarning: The total space of parameters 8 is smaller than n_iter=10. Running 8 iterations. For exhaustive searches, use GridSearchCV.\n",
      "  warnings.warn(\n"
     ]
    }
   ],
   "source": [
    "# implementing the random forest regression with hyperparameter tuning using random search\n",
    "from sklearn.model_selection import RandomizedSearchCV\n",
    "from sklearn.model_selection import GridSearchCV\n",
    "# defining the grid of parameters\n",
    "param_grid = {\"n_estimators\": np.arange(100, 300, 100), \"max_features\": ['sqrt', 'log2'], 'bootstrap': [True, False]}\n",
    "# defining the model\n",
    "rf_model_cv = RandomForestRegressor(random_state=42)\n",
    "# defining the random search\n",
    "rf_cv = RandomizedSearchCV(rf_model_cv, param_grid, cv = 5)\n",
    "\n",
    "# fitting the model to the training data\n",
    "rf_cv.fit(X_train_scaled, y_train)\n",
    "# storing the best parameters\n",
    "best_params = rf_cv.best_params_"
   ]
  },
  {
   "cell_type": "code",
   "execution_count": 87,
   "metadata": {},
   "outputs": [
    {
     "name": "stdout",
     "output_type": "stream",
     "text": [
      "Training MSE: 976.3587455170549\n",
      "Test MSE: 4568.8399544921285\n"
     ]
    }
   ],
   "source": [
    "# Creating a random forest regression model with the best parameters\n",
    "rf_model_best = RandomForestRegressor(**best_params)\n",
    "# Fitting the model to the training data\n",
    "rf_model_best.fit(X_train_scaled, y_train)\n",
    "\n",
    "# Checking the model performance on the training data\n",
    "y_train_pred = rf_model_best.predict(X_train_scaled)\n",
    "rf_tuned_train_mse = mean_squared_error(y_train, y_train_pred)\n",
    "rf_tuned_train_rmse = np.sqrt(rf_tuned_train_mse)\n",
    "rf_tuned_train_mae = np.mean(np.abs(y_train - y_train_pred))\n",
    "rf_tuned_train_r2 = rf_model_best.score(X_train_scaled, y_train)\n",
    "print('Training MSE:', rf_tuned_train_mse, '\\n', 'Training RMSE:', rf_tuned_train_rmse, '\\n', 'Training MAE:', rf_tuned_train_mae, '\\n', 'Training R2:', rf_tuned_train_r2)\n",
    "\n",
    "# Checking the model performance on the test data\n",
    "y_test_pred = rf_model_best.predict(X_test_scaled)\n",
    "rf_tuned_test_mse = mean_squared_error(y_test, y_test_pred)\n",
    "rf_tuned_test_rmse = np.sqrt(rf_tuned_test_mse)\n",
    "rf_tuned_test_mae = np.mean(np.abs(y_test - y_test_pred))\n",
    "rf_tuned_test_r2 = rf_model_best.score(X_test_scaled, y_test)\n",
    "print('Test MSE:', rf_tuned_test_mse, '\\n', 'Test RMSE:', rf_tuned_test_rmse, '\\n', 'Test MAE:', rf_tuned_test_mae, '\\n', 'Test R2:', rf_tuned_test_r2)\n"
   ]
  },
  {
   "cell_type": "code",
   "execution_count": 90,
   "metadata": {},
   "outputs": [
    {
     "data": {
      "text/html": [
       "<div>\n",
       "<style scoped>\n",
       "    .dataframe tbody tr th:only-of-type {\n",
       "        vertical-align: middle;\n",
       "    }\n",
       "\n",
       "    .dataframe tbody tr th {\n",
       "        vertical-align: top;\n",
       "    }\n",
       "\n",
       "    .dataframe thead th {\n",
       "        text-align: right;\n",
       "    }\n",
       "</style>\n",
       "<table border=\"1\" class=\"dataframe\">\n",
       "  <thead>\n",
       "    <tr style=\"text-align: right;\">\n",
       "      <th></th>\n",
       "      <th>Model</th>\n",
       "      <th>Training MSE</th>\n",
       "      <th>Test MSE</th>\n",
       "      <th>Training RMSE</th>\n",
       "      <th>Test RMSE</th>\n",
       "      <th>Training MAE</th>\n",
       "      <th>Test MAE</th>\n",
       "      <th>Training R2</th>\n",
       "      <th>Test R2</th>\n",
       "    </tr>\n",
       "  </thead>\n",
       "  <tbody>\n",
       "    <tr>\n",
       "      <th>6</th>\n",
       "      <td>Random Forest</td>\n",
       "      <td>994.89</td>\n",
       "      <td>4388.16</td>\n",
       "      <td>31.54</td>\n",
       "      <td>66.24</td>\n",
       "      <td>13.61</td>\n",
       "      <td>33.19</td>\n",
       "      <td>0.92</td>\n",
       "      <td>0.63</td>\n",
       "    </tr>\n",
       "    <tr>\n",
       "      <th>7</th>\n",
       "      <td>Random Forest - Tuned</td>\n",
       "      <td>976.36</td>\n",
       "      <td>4568.84</td>\n",
       "      <td>31.25</td>\n",
       "      <td>67.59</td>\n",
       "      <td>14.75</td>\n",
       "      <td>36.81</td>\n",
       "      <td>0.92</td>\n",
       "      <td>0.62</td>\n",
       "    </tr>\n",
       "    <tr>\n",
       "      <th>5</th>\n",
       "      <td>KNN - Tuned</td>\n",
       "      <td>172.53</td>\n",
       "      <td>6964.23</td>\n",
       "      <td>13.14</td>\n",
       "      <td>83.45</td>\n",
       "      <td>2.06</td>\n",
       "      <td>44.27</td>\n",
       "      <td>0.99</td>\n",
       "      <td>0.41</td>\n",
       "    </tr>\n",
       "    <tr>\n",
       "      <th>2</th>\n",
       "      <td>Decision Tree</td>\n",
       "      <td>172.48</td>\n",
       "      <td>7549.66</td>\n",
       "      <td>13.13</td>\n",
       "      <td>86.89</td>\n",
       "      <td>2.06</td>\n",
       "      <td>41.81</td>\n",
       "      <td>0.99</td>\n",
       "      <td>0.36</td>\n",
       "    </tr>\n",
       "    <tr>\n",
       "      <th>3</th>\n",
       "      <td>Decision Tree- Tuned</td>\n",
       "      <td>8214.11</td>\n",
       "      <td>7599.01</td>\n",
       "      <td>90.63</td>\n",
       "      <td>87.17</td>\n",
       "      <td>50.67</td>\n",
       "      <td>51.73</td>\n",
       "      <td>0.36</td>\n",
       "      <td>0.36</td>\n",
       "    </tr>\n",
       "    <tr>\n",
       "      <th>4</th>\n",
       "      <td>KNN</td>\n",
       "      <td>5992.30</td>\n",
       "      <td>7938.87</td>\n",
       "      <td>77.41</td>\n",
       "      <td>89.10</td>\n",
       "      <td>40.22</td>\n",
       "      <td>48.99</td>\n",
       "      <td>0.53</td>\n",
       "      <td>0.33</td>\n",
       "    </tr>\n",
       "    <tr>\n",
       "      <th>1</th>\n",
       "      <td>LASSO</td>\n",
       "      <td>9400.65</td>\n",
       "      <td>8659.19</td>\n",
       "      <td>96.96</td>\n",
       "      <td>93.05</td>\n",
       "      <td>53.99</td>\n",
       "      <td>54.22</td>\n",
       "      <td>0.26</td>\n",
       "      <td>0.27</td>\n",
       "    </tr>\n",
       "    <tr>\n",
       "      <th>0</th>\n",
       "      <td>OLS</td>\n",
       "      <td>9400.64</td>\n",
       "      <td>8659.34</td>\n",
       "      <td>96.96</td>\n",
       "      <td>93.06</td>\n",
       "      <td>53.99</td>\n",
       "      <td>54.23</td>\n",
       "      <td>0.26</td>\n",
       "      <td>0.27</td>\n",
       "    </tr>\n",
       "  </tbody>\n",
       "</table>\n",
       "</div>"
      ],
      "text/plain": [
       "                   Model  Training MSE  Test MSE  Training RMSE  Test RMSE  \\\n",
       "6          Random Forest        994.89   4388.16          31.54      66.24   \n",
       "7  Random Forest - Tuned        976.36   4568.84          31.25      67.59   \n",
       "5            KNN - Tuned        172.53   6964.23          13.14      83.45   \n",
       "2          Decision Tree        172.48   7549.66          13.13      86.89   \n",
       "3   Decision Tree- Tuned       8214.11   7599.01          90.63      87.17   \n",
       "4                    KNN       5992.30   7938.87          77.41      89.10   \n",
       "1                  LASSO       9400.65   8659.19          96.96      93.05   \n",
       "0                    OLS       9400.64   8659.34          96.96      93.06   \n",
       "\n",
       "   Training MAE  Test MAE  Training R2  Test R2  \n",
       "6         13.61     33.19         0.92     0.63  \n",
       "7         14.75     36.81         0.92     0.62  \n",
       "5          2.06     44.27         0.99     0.41  \n",
       "2          2.06     41.81         0.99     0.36  \n",
       "3         50.67     51.73         0.36     0.36  \n",
       "4         40.22     48.99         0.53     0.33  \n",
       "1         53.99     54.22         0.26     0.27  \n",
       "0         53.99     54.23         0.26     0.27  "
      ]
     },
     "execution_count": 90,
     "metadata": {},
     "output_type": "execute_result"
    }
   ],
   "source": [
    "# Creating a table of the model performances including the tuned models and un-tuned models\n",
    "model_performance = pd.DataFrame({'Model': ['Dummy','OLS', 'LASSO', 'Decision Tree', 'Decision Tree- Tuned', 'KNN','KNN - Tuned', 'Random Forest', 'Random Forest - Tuned'],\n",
    "                                    'Training MSE': [dummy_train_mse, ols_train_mse, lasso_train_mse, dtree_train_mse, dtree_tuned_train_mse, knn_train_mse, knn_tuned_train_mse, rf_train_mse, rf_tuned_train_mse],\n",
    "                                    'Test MSE': [dummy_test_mse, ols_test_mse, lasso_test_mse, dtree_test_mse, dtree_tuned_test_mse, knn_test_mse, knn_tuned_test_mse, rf_test_mse, rf_tuned_test_mse],\n",
    "                                    'Training RMSE': [dummy_train_rmse, ols_train_rmse, lasso_train_rmse, dtree_train_rmse, dtree_tuned_train_rmse, knn_train_rmse, knn_tuned_train_rmse, rf_train_rmse, rf_tuned_train_rmse],\n",
    "                                    'Test RMSE': [dummy_test_rmse, ols_test_rmse, lasso_test_rmse, dtree_test_rmse, dtree_tuned_test_rmse, knn_test_rmse, knn_tuned_test_rmse, rf_test_rmse, rf_tuned_test_rmse],\n",
    "                                    'Training MAE': [dummy_train_mae, ols_train_mae, lasso_train_mae, dtree_train_mae, dtree_tuned_train_mae, knn_train_mae, knn_tuned_train_mae, rf_train_mae, rf_tuned_train_mae],\n",
    "                                    'Test MAE': [dummy_test_mae, ols_test_mae, lasso_test_mae, dtree_test_mae, dtree_tuned_test_mae, knn_test_mae, knn_tuned_test_mae, rf_test_mae, rf_tuned_test_mae],\n",
    "                                    'Training R2': [dummy_train_r2, ols_train_r2, lasso_train_r2, dtree_train_r2, dtree_tuned_train_r2, knn_train_r2, knn_tuned_train_r2, rf_train_r2, rf_tuned_train_r2],\n",
    "                                    'Test R2': [dummy_test_r2, ols_test_r2, lasso_test_r2, dtree_test_r2, dtree_tuned_test_r2, knn_test_r2, knn_tuned_test_r2, rf_test_r2, rf_tuned_test_r2]})\n",
    "\n",
    "# printing the table only by 2 decimal points\n",
    "model_performance.round(2)\n",
    "# Sorting the table by the test MSE\n",
    "model_performance.sort_values(by = 'Test MSE', ascending = True)\n",
    "\n"
   ]
  },
  {
   "cell_type": "code",
   "execution_count": 91,
   "metadata": {},
   "outputs": [],
   "source": [
    "# storing the model performances in a csv file\n",
    "model_performance.to_csv('model_performance.csv', index = False)"
   ]
  },
  {
   "cell_type": "code",
   "execution_count": null,
   "metadata": {},
   "outputs": [],
   "source": []
  }
 ],
 "metadata": {
  "kernelspec": {
   "display_name": "Python 3",
   "language": "python",
   "name": "python3"
  },
  "language_info": {
   "codemirror_mode": {
    "name": "ipython",
    "version": 3
   },
   "file_extension": ".py",
   "mimetype": "text/x-python",
   "name": "python",
   "nbconvert_exporter": "python",
   "pygments_lexer": "ipython3",
   "version": "3.10.9"
  }
 },
 "nbformat": 4,
 "nbformat_minor": 2
}
