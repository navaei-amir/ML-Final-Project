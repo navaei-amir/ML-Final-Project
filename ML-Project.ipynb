{
 "cells": [
  {
   "cell_type": "code",
   "execution_count": 102,
   "metadata": {},
   "outputs": [],
   "source": [
    "# Importing the libraries\n",
    "import pandas as pd\n",
    "import numpy as np\n",
    "import matplotlib.pyplot as plt"
   ]
  },
  {
   "cell_type": "code",
   "execution_count": 103,
   "metadata": {},
   "outputs": [
    {
     "data": {
      "text/html": [
       "<div>\n",
       "<style scoped>\n",
       "    .dataframe tbody tr th:only-of-type {\n",
       "        vertical-align: middle;\n",
       "    }\n",
       "\n",
       "    .dataframe tbody tr th {\n",
       "        vertical-align: top;\n",
       "    }\n",
       "\n",
       "    .dataframe thead th {\n",
       "        text-align: right;\n",
       "    }\n",
       "</style>\n",
       "<table border=\"1\" class=\"dataframe\">\n",
       "  <thead>\n",
       "    <tr style=\"text-align: right;\">\n",
       "      <th></th>\n",
       "      <th>addresscountryname</th>\n",
       "      <th>city_actual</th>\n",
       "      <th>rating_reviewcount</th>\n",
       "      <th>center1distance</th>\n",
       "      <th>center1label</th>\n",
       "      <th>center2distance</th>\n",
       "      <th>center2label</th>\n",
       "      <th>neighbourhood</th>\n",
       "      <th>price</th>\n",
       "      <th>price_night</th>\n",
       "      <th>...</th>\n",
       "      <th>accommodationtype</th>\n",
       "      <th>guestreviewsrating</th>\n",
       "      <th>scarce_room</th>\n",
       "      <th>hotel_id</th>\n",
       "      <th>offer</th>\n",
       "      <th>offer_cat</th>\n",
       "      <th>year</th>\n",
       "      <th>month</th>\n",
       "      <th>weekend</th>\n",
       "      <th>holiday</th>\n",
       "    </tr>\n",
       "  </thead>\n",
       "  <tbody>\n",
       "    <tr>\n",
       "      <th>0</th>\n",
       "      <td>Netherlands</td>\n",
       "      <td>Amsterdam</td>\n",
       "      <td>1030.0</td>\n",
       "      <td>3.1 miles</td>\n",
       "      <td>City centre</td>\n",
       "      <td>3.6 miles</td>\n",
       "      <td>Montelbaanstoren</td>\n",
       "      <td>Amsterdam</td>\n",
       "      <td>172</td>\n",
       "      <td>price for 1 night</td>\n",
       "      <td>...</td>\n",
       "      <td>_ACCOM_TYPE@Hotel</td>\n",
       "      <td>4.3 /5</td>\n",
       "      <td>0</td>\n",
       "      <td>1.0</td>\n",
       "      <td>0</td>\n",
       "      <td>0% no offer</td>\n",
       "      <td>2017</td>\n",
       "      <td>11</td>\n",
       "      <td>1</td>\n",
       "      <td>0</td>\n",
       "    </tr>\n",
       "    <tr>\n",
       "      <th>1</th>\n",
       "      <td>Netherlands</td>\n",
       "      <td>Amsterdam</td>\n",
       "      <td>1030.0</td>\n",
       "      <td>3.1 miles</td>\n",
       "      <td>City centre</td>\n",
       "      <td>3.6 miles</td>\n",
       "      <td>Montelbaanstoren</td>\n",
       "      <td>Amsterdam</td>\n",
       "      <td>122</td>\n",
       "      <td>price for 1 night</td>\n",
       "      <td>...</td>\n",
       "      <td>_ACCOM_TYPE@Hotel</td>\n",
       "      <td>4.3 /5</td>\n",
       "      <td>0</td>\n",
       "      <td>1.0</td>\n",
       "      <td>1</td>\n",
       "      <td>15-50% offer</td>\n",
       "      <td>2018</td>\n",
       "      <td>1</td>\n",
       "      <td>1</td>\n",
       "      <td>0</td>\n",
       "    </tr>\n",
       "    <tr>\n",
       "      <th>2</th>\n",
       "      <td>Netherlands</td>\n",
       "      <td>Amsterdam</td>\n",
       "      <td>1030.0</td>\n",
       "      <td>3.1 miles</td>\n",
       "      <td>City centre</td>\n",
       "      <td>3.6 miles</td>\n",
       "      <td>Montelbaanstoren</td>\n",
       "      <td>Amsterdam</td>\n",
       "      <td>122</td>\n",
       "      <td>price for 1 night</td>\n",
       "      <td>...</td>\n",
       "      <td>_ACCOM_TYPE@Hotel</td>\n",
       "      <td>4.3 /5</td>\n",
       "      <td>0</td>\n",
       "      <td>1.0</td>\n",
       "      <td>1</td>\n",
       "      <td>15-50% offer</td>\n",
       "      <td>2017</td>\n",
       "      <td>12</td>\n",
       "      <td>0</td>\n",
       "      <td>1</td>\n",
       "    </tr>\n",
       "    <tr>\n",
       "      <th>3</th>\n",
       "      <td>Netherlands</td>\n",
       "      <td>Amsterdam</td>\n",
       "      <td>1030.0</td>\n",
       "      <td>3.1 miles</td>\n",
       "      <td>City centre</td>\n",
       "      <td>3.6 miles</td>\n",
       "      <td>Montelbaanstoren</td>\n",
       "      <td>Amsterdam</td>\n",
       "      <td>552</td>\n",
       "      <td>price for 4 nights</td>\n",
       "      <td>...</td>\n",
       "      <td>_ACCOM_TYPE@Hotel</td>\n",
       "      <td>4.3 /5</td>\n",
       "      <td>0</td>\n",
       "      <td>1.0</td>\n",
       "      <td>1</td>\n",
       "      <td>1-15% offer</td>\n",
       "      <td>2017</td>\n",
       "      <td>12</td>\n",
       "      <td>0</td>\n",
       "      <td>1</td>\n",
       "    </tr>\n",
       "    <tr>\n",
       "      <th>4</th>\n",
       "      <td>Netherlands</td>\n",
       "      <td>Amsterdam</td>\n",
       "      <td>1030.0</td>\n",
       "      <td>3.1 miles</td>\n",
       "      <td>City centre</td>\n",
       "      <td>3.6 miles</td>\n",
       "      <td>Montelbaanstoren</td>\n",
       "      <td>Amsterdam</td>\n",
       "      <td>122</td>\n",
       "      <td>price for 1 night</td>\n",
       "      <td>...</td>\n",
       "      <td>_ACCOM_TYPE@Hotel</td>\n",
       "      <td>4.3 /5</td>\n",
       "      <td>0</td>\n",
       "      <td>1.0</td>\n",
       "      <td>1</td>\n",
       "      <td>15-50% offer</td>\n",
       "      <td>2018</td>\n",
       "      <td>2</td>\n",
       "      <td>1</td>\n",
       "      <td>0</td>\n",
       "    </tr>\n",
       "  </tbody>\n",
       "</table>\n",
       "<p>5 rows × 24 columns</p>\n",
       "</div>"
      ],
      "text/plain": [
       "  addresscountryname city_actual  rating_reviewcount center1distance  \\\n",
       "0        Netherlands   Amsterdam              1030.0       3.1 miles   \n",
       "1        Netherlands   Amsterdam              1030.0       3.1 miles   \n",
       "2        Netherlands   Amsterdam              1030.0       3.1 miles   \n",
       "3        Netherlands   Amsterdam              1030.0       3.1 miles   \n",
       "4        Netherlands   Amsterdam              1030.0       3.1 miles   \n",
       "\n",
       "  center1label center2distance      center2label neighbourhood  price  \\\n",
       "0  City centre       3.6 miles  Montelbaanstoren     Amsterdam    172   \n",
       "1  City centre       3.6 miles  Montelbaanstoren     Amsterdam    122   \n",
       "2  City centre       3.6 miles  Montelbaanstoren     Amsterdam    122   \n",
       "3  City centre       3.6 miles  Montelbaanstoren     Amsterdam    552   \n",
       "4  City centre       3.6 miles  Montelbaanstoren     Amsterdam    122   \n",
       "\n",
       "          price_night  ...  accommodationtype  guestreviewsrating  \\\n",
       "0   price for 1 night  ...  _ACCOM_TYPE@Hotel              4.3 /5   \n",
       "1   price for 1 night  ...  _ACCOM_TYPE@Hotel              4.3 /5   \n",
       "2   price for 1 night  ...  _ACCOM_TYPE@Hotel              4.3 /5   \n",
       "3  price for 4 nights  ...  _ACCOM_TYPE@Hotel              4.3 /5   \n",
       "4   price for 1 night  ...  _ACCOM_TYPE@Hotel              4.3 /5   \n",
       "\n",
       "   scarce_room  hotel_id offer     offer_cat  year  month  weekend holiday  \n",
       "0            0       1.0     0   0% no offer  2017     11        1       0  \n",
       "1            0       1.0     1  15-50% offer  2018      1        1       0  \n",
       "2            0       1.0     1  15-50% offer  2017     12        0       1  \n",
       "3            0       1.0     1   1-15% offer  2017     12        0       1  \n",
       "4            0       1.0     1  15-50% offer  2018      2        1       0  \n",
       "\n",
       "[5 rows x 24 columns]"
      ]
     },
     "execution_count": 103,
     "metadata": {},
     "output_type": "execute_result"
    }
   ],
   "source": [
    "Data = pd.read_csv('hotelbookingdata.csv')\n",
    "Data.head()"
   ]
  },
  {
   "cell_type": "code",
   "execution_count": 104,
   "metadata": {},
   "outputs": [
    {
     "data": {
      "text/html": [
       "<div>\n",
       "<style scoped>\n",
       "    .dataframe tbody tr th:only-of-type {\n",
       "        vertical-align: middle;\n",
       "    }\n",
       "\n",
       "    .dataframe tbody tr th {\n",
       "        vertical-align: top;\n",
       "    }\n",
       "\n",
       "    .dataframe thead th {\n",
       "        text-align: right;\n",
       "    }\n",
       "</style>\n",
       "<table border=\"1\" class=\"dataframe\">\n",
       "  <thead>\n",
       "    <tr style=\"text-align: right;\">\n",
       "      <th></th>\n",
       "      <th>Country Name</th>\n",
       "      <th>Country Code</th>\n",
       "      <th>2020</th>\n",
       "      <th>Region</th>\n",
       "    </tr>\n",
       "  </thead>\n",
       "  <tbody>\n",
       "    <tr>\n",
       "      <th>0</th>\n",
       "      <td>Albania</td>\n",
       "      <td>ALB</td>\n",
       "      <td>5343.037704</td>\n",
       "      <td>Europe &amp; Central Asia</td>\n",
       "    </tr>\n",
       "    <tr>\n",
       "      <th>1</th>\n",
       "      <td>Andorra</td>\n",
       "      <td>AND</td>\n",
       "      <td>37207.222000</td>\n",
       "      <td>Europe &amp; Central Asia</td>\n",
       "    </tr>\n",
       "    <tr>\n",
       "      <th>2</th>\n",
       "      <td>Armenia</td>\n",
       "      <td>ARM</td>\n",
       "      <td>4505.867746</td>\n",
       "      <td>Europe &amp; Central Asia</td>\n",
       "    </tr>\n",
       "    <tr>\n",
       "      <th>3</th>\n",
       "      <td>Austria</td>\n",
       "      <td>AUT</td>\n",
       "      <td>48809.226880</td>\n",
       "      <td>Europe &amp; Central Asia</td>\n",
       "    </tr>\n",
       "    <tr>\n",
       "      <th>4</th>\n",
       "      <td>Azerbaijan</td>\n",
       "      <td>AZE</td>\n",
       "      <td>4229.910649</td>\n",
       "      <td>Europe &amp; Central Asia</td>\n",
       "    </tr>\n",
       "  </tbody>\n",
       "</table>\n",
       "</div>"
      ],
      "text/plain": [
       "  Country Name Country Code          2020                 Region\n",
       "0      Albania          ALB   5343.037704  Europe & Central Asia\n",
       "1      Andorra          AND  37207.222000  Europe & Central Asia\n",
       "2      Armenia          ARM   4505.867746  Europe & Central Asia\n",
       "3      Austria          AUT  48809.226880  Europe & Central Asia\n",
       "4   Azerbaijan          AZE   4229.910649  Europe & Central Asia"
      ]
     },
     "execution_count": 104,
     "metadata": {},
     "output_type": "execute_result"
    }
   ],
   "source": [
    "# Loading the GDP data for filtering\n",
    "gdp_df = pd.read_csv('GDP-Capita.csv')\n",
    "gdp_df.head()"
   ]
  },
  {
   "cell_type": "code",
   "execution_count": 105,
   "metadata": {},
   "outputs": [
    {
     "data": {
      "text/plain": [
       "count        57.000000\n",
       "mean      34478.285091\n",
       "std       37468.485426\n",
       "min         852.330230\n",
       "25%        7677.369141\n",
       "50%       22242.406420\n",
       "75%       49169.719340\n",
       "max      182537.304600\n",
       "Name: 2020, dtype: float64"
      ]
     },
     "execution_count": 105,
     "metadata": {},
     "output_type": "execute_result"
    }
   ],
   "source": [
    "# Describing the column 2020:\n",
    "gdp_df['2020'].describe()"
   ]
  },
  {
   "cell_type": "markdown",
   "metadata": {},
   "source": [
    "As we can see 25% of the countries in this catagory have a GDP per Capita higher than 50000$.\n",
    "These countries can be considered more similar in some ways and merged to a group."
   ]
  },
  {
   "cell_type": "code",
   "execution_count": 106,
   "metadata": {},
   "outputs": [
    {
     "data": {
      "text/html": [
       "<div>\n",
       "<style scoped>\n",
       "    .dataframe tbody tr th:only-of-type {\n",
       "        vertical-align: middle;\n",
       "    }\n",
       "\n",
       "    .dataframe tbody tr th {\n",
       "        vertical-align: top;\n",
       "    }\n",
       "\n",
       "    .dataframe thead th {\n",
       "        text-align: right;\n",
       "    }\n",
       "</style>\n",
       "<table border=\"1\" class=\"dataframe\">\n",
       "  <thead>\n",
       "    <tr style=\"text-align: right;\">\n",
       "      <th></th>\n",
       "      <th>addresscountryname</th>\n",
       "      <th>city_actual</th>\n",
       "      <th>rating_reviewcount</th>\n",
       "      <th>center1distance</th>\n",
       "      <th>center1label</th>\n",
       "      <th>center2distance</th>\n",
       "      <th>center2label</th>\n",
       "      <th>neighbourhood</th>\n",
       "      <th>price</th>\n",
       "      <th>price_night</th>\n",
       "      <th>...</th>\n",
       "      <th>guestreviewsrating</th>\n",
       "      <th>scarce_room</th>\n",
       "      <th>hotel_id</th>\n",
       "      <th>offer</th>\n",
       "      <th>offer_cat</th>\n",
       "      <th>year</th>\n",
       "      <th>month</th>\n",
       "      <th>weekend</th>\n",
       "      <th>holiday</th>\n",
       "      <th>GDP</th>\n",
       "    </tr>\n",
       "  </thead>\n",
       "  <tbody>\n",
       "    <tr>\n",
       "      <th>0</th>\n",
       "      <td>Netherlands</td>\n",
       "      <td>Amsterdam</td>\n",
       "      <td>1030.0</td>\n",
       "      <td>3.1 miles</td>\n",
       "      <td>City centre</td>\n",
       "      <td>3.6 miles</td>\n",
       "      <td>Montelbaanstoren</td>\n",
       "      <td>Amsterdam</td>\n",
       "      <td>172</td>\n",
       "      <td>price for 1 night</td>\n",
       "      <td>...</td>\n",
       "      <td>4.3 /5</td>\n",
       "      <td>0</td>\n",
       "      <td>1.0</td>\n",
       "      <td>0</td>\n",
       "      <td>0% no offer</td>\n",
       "      <td>2017</td>\n",
       "      <td>11</td>\n",
       "      <td>1</td>\n",
       "      <td>0</td>\n",
       "      <td>52162.57012</td>\n",
       "    </tr>\n",
       "    <tr>\n",
       "      <th>1</th>\n",
       "      <td>Netherlands</td>\n",
       "      <td>Amsterdam</td>\n",
       "      <td>1030.0</td>\n",
       "      <td>3.1 miles</td>\n",
       "      <td>City centre</td>\n",
       "      <td>3.6 miles</td>\n",
       "      <td>Montelbaanstoren</td>\n",
       "      <td>Amsterdam</td>\n",
       "      <td>122</td>\n",
       "      <td>price for 1 night</td>\n",
       "      <td>...</td>\n",
       "      <td>4.3 /5</td>\n",
       "      <td>0</td>\n",
       "      <td>1.0</td>\n",
       "      <td>1</td>\n",
       "      <td>15-50% offer</td>\n",
       "      <td>2018</td>\n",
       "      <td>1</td>\n",
       "      <td>1</td>\n",
       "      <td>0</td>\n",
       "      <td>52162.57012</td>\n",
       "    </tr>\n",
       "    <tr>\n",
       "      <th>2</th>\n",
       "      <td>Netherlands</td>\n",
       "      <td>Amsterdam</td>\n",
       "      <td>1030.0</td>\n",
       "      <td>3.1 miles</td>\n",
       "      <td>City centre</td>\n",
       "      <td>3.6 miles</td>\n",
       "      <td>Montelbaanstoren</td>\n",
       "      <td>Amsterdam</td>\n",
       "      <td>122</td>\n",
       "      <td>price for 1 night</td>\n",
       "      <td>...</td>\n",
       "      <td>4.3 /5</td>\n",
       "      <td>0</td>\n",
       "      <td>1.0</td>\n",
       "      <td>1</td>\n",
       "      <td>15-50% offer</td>\n",
       "      <td>2017</td>\n",
       "      <td>12</td>\n",
       "      <td>0</td>\n",
       "      <td>1</td>\n",
       "      <td>52162.57012</td>\n",
       "    </tr>\n",
       "    <tr>\n",
       "      <th>3</th>\n",
       "      <td>Netherlands</td>\n",
       "      <td>Amsterdam</td>\n",
       "      <td>1030.0</td>\n",
       "      <td>3.1 miles</td>\n",
       "      <td>City centre</td>\n",
       "      <td>3.6 miles</td>\n",
       "      <td>Montelbaanstoren</td>\n",
       "      <td>Amsterdam</td>\n",
       "      <td>552</td>\n",
       "      <td>price for 4 nights</td>\n",
       "      <td>...</td>\n",
       "      <td>4.3 /5</td>\n",
       "      <td>0</td>\n",
       "      <td>1.0</td>\n",
       "      <td>1</td>\n",
       "      <td>1-15% offer</td>\n",
       "      <td>2017</td>\n",
       "      <td>12</td>\n",
       "      <td>0</td>\n",
       "      <td>1</td>\n",
       "      <td>52162.57012</td>\n",
       "    </tr>\n",
       "    <tr>\n",
       "      <th>4</th>\n",
       "      <td>Netherlands</td>\n",
       "      <td>Amsterdam</td>\n",
       "      <td>1030.0</td>\n",
       "      <td>3.1 miles</td>\n",
       "      <td>City centre</td>\n",
       "      <td>3.6 miles</td>\n",
       "      <td>Montelbaanstoren</td>\n",
       "      <td>Amsterdam</td>\n",
       "      <td>122</td>\n",
       "      <td>price for 1 night</td>\n",
       "      <td>...</td>\n",
       "      <td>4.3 /5</td>\n",
       "      <td>0</td>\n",
       "      <td>1.0</td>\n",
       "      <td>1</td>\n",
       "      <td>15-50% offer</td>\n",
       "      <td>2018</td>\n",
       "      <td>2</td>\n",
       "      <td>1</td>\n",
       "      <td>0</td>\n",
       "      <td>52162.57012</td>\n",
       "    </tr>\n",
       "  </tbody>\n",
       "</table>\n",
       "<p>5 rows × 25 columns</p>\n",
       "</div>"
      ],
      "text/plain": [
       "  addresscountryname city_actual  rating_reviewcount center1distance  \\\n",
       "0        Netherlands   Amsterdam              1030.0       3.1 miles   \n",
       "1        Netherlands   Amsterdam              1030.0       3.1 miles   \n",
       "2        Netherlands   Amsterdam              1030.0       3.1 miles   \n",
       "3        Netherlands   Amsterdam              1030.0       3.1 miles   \n",
       "4        Netherlands   Amsterdam              1030.0       3.1 miles   \n",
       "\n",
       "  center1label center2distance      center2label neighbourhood  price  \\\n",
       "0  City centre       3.6 miles  Montelbaanstoren     Amsterdam    172   \n",
       "1  City centre       3.6 miles  Montelbaanstoren     Amsterdam    122   \n",
       "2  City centre       3.6 miles  Montelbaanstoren     Amsterdam    122   \n",
       "3  City centre       3.6 miles  Montelbaanstoren     Amsterdam    552   \n",
       "4  City centre       3.6 miles  Montelbaanstoren     Amsterdam    122   \n",
       "\n",
       "          price_night  ... guestreviewsrating  scarce_room  hotel_id  offer  \\\n",
       "0   price for 1 night  ...             4.3 /5            0       1.0      0   \n",
       "1   price for 1 night  ...             4.3 /5            0       1.0      1   \n",
       "2   price for 1 night  ...             4.3 /5            0       1.0      1   \n",
       "3  price for 4 nights  ...             4.3 /5            0       1.0      1   \n",
       "4   price for 1 night  ...             4.3 /5            0       1.0      1   \n",
       "\n",
       "      offer_cat  year  month  weekend  holiday          GDP  \n",
       "0   0% no offer  2017     11        1        0  52162.57012  \n",
       "1  15-50% offer  2018      1        1        0  52162.57012  \n",
       "2  15-50% offer  2017     12        0        1  52162.57012  \n",
       "3   1-15% offer  2017     12        0        1  52162.57012  \n",
       "4  15-50% offer  2018      2        1        0  52162.57012  \n",
       "\n",
       "[5 rows x 25 columns]"
      ]
     },
     "execution_count": 106,
     "metadata": {},
     "output_type": "execute_result"
    }
   ],
   "source": [
    "# mapping the GDP data to the hotel booking data\n",
    "Data['GDP'] = Data['addresscountryname'].map(gdp_df.set_index('Country Name')['2020'])\n",
    "Data.head()"
   ]
  },
  {
   "cell_type": "code",
   "execution_count": 107,
   "metadata": {},
   "outputs": [
    {
     "name": "stdout",
     "output_type": "stream",
     "text": [
      "26032\n",
      "['Slovakia' 'Cameroon' 'Turkey' 'Egypt' 'Russia' 'Czech Republic' 'Malta']\n"
     ]
    }
   ],
   "source": [
    "# Checking for null values in gdp column\n",
    "print(Data['GDP'].isnull().sum())\n",
    "# Checking which countries have a missing GDP value\n",
    "missing_gdp =Data[Data['GDP'].isnull()]['addresscountryname'].unique()\n",
    "print(missing_gdp)"
   ]
  },
  {
   "cell_type": "code",
   "execution_count": 108,
   "metadata": {},
   "outputs": [
    {
     "name": "stdout",
     "output_type": "stream",
     "text": [
      "Slovakia\n",
      "['Slovak Republic']\n",
      "Cameroon\n",
      "[]\n",
      "Turkey\n",
      "[]\n",
      "Egypt\n",
      "[]\n",
      "Russia\n",
      "['Russian Federation']\n",
      "Czech Republic\n",
      "['Czechia']\n",
      "Malta\n",
      "[]\n"
     ]
    }
   ],
   "source": [
    "# Checking to find the similar countries in the gdp data\n",
    "for i in missing_gdp:\n",
    "    print(i)\n",
    "    print(gdp_df[gdp_df['Country Name'].str.contains(i[:5])]['Country Name'].unique()) "
   ]
  },
  {
   "cell_type": "markdown",
   "metadata": {},
   "source": [
    "As we can see, for some countries (Slovakia, Russia, Czech Republic) we were able to find the equivalent country names in world bank dataset. \n",
    "We replace the missing gdp value in _Data_ df with the values from __gdp_df__ and equivalent countries. "
   ]
  },
  {
   "cell_type": "code",
   "execution_count": 109,
   "metadata": {},
   "outputs": [],
   "source": [
    "# Replacing the missing gdp values in Data with the values from gdp_df and similar countries\n",
    "for i in missing_gdp:\n",
    "    if len(gdp_df[gdp_df['Country Name'].str.contains(i[:5])]['2020'].values) > 0:\n",
    "        Data.loc[Data['addresscountryname'] == i, 'GDP'] = gdp_df[gdp_df['Country Name'].str.contains(i[:5])]['2020'].values[0]"
   ]
  },
  {
   "cell_type": "markdown",
   "metadata": {},
   "source": [
    "## Data Filtering based on the GDP\n",
    "* In this project we plan to predict to hotel prices in european countries which have a gdp per capita higher than 50000$. We filter the data considering this criteria."
   ]
  },
  {
   "cell_type": "code",
   "execution_count": 110,
   "metadata": {},
   "outputs": [
    {
     "data": {
      "text/html": [
       "<div>\n",
       "<style scoped>\n",
       "    .dataframe tbody tr th:only-of-type {\n",
       "        vertical-align: middle;\n",
       "    }\n",
       "\n",
       "    .dataframe tbody tr th {\n",
       "        vertical-align: top;\n",
       "    }\n",
       "\n",
       "    .dataframe thead th {\n",
       "        text-align: right;\n",
       "    }\n",
       "</style>\n",
       "<table border=\"1\" class=\"dataframe\">\n",
       "  <thead>\n",
       "    <tr style=\"text-align: right;\">\n",
       "      <th></th>\n",
       "      <th>addresscountryname</th>\n",
       "      <th>city_actual</th>\n",
       "      <th>rating_reviewcount</th>\n",
       "      <th>center1distance</th>\n",
       "      <th>center1label</th>\n",
       "      <th>center2distance</th>\n",
       "      <th>center2label</th>\n",
       "      <th>neighbourhood</th>\n",
       "      <th>price</th>\n",
       "      <th>price_night</th>\n",
       "      <th>...</th>\n",
       "      <th>guestreviewsrating</th>\n",
       "      <th>scarce_room</th>\n",
       "      <th>hotel_id</th>\n",
       "      <th>offer</th>\n",
       "      <th>offer_cat</th>\n",
       "      <th>year</th>\n",
       "      <th>month</th>\n",
       "      <th>weekend</th>\n",
       "      <th>holiday</th>\n",
       "      <th>GDP</th>\n",
       "    </tr>\n",
       "  </thead>\n",
       "  <tbody>\n",
       "    <tr>\n",
       "      <th>0</th>\n",
       "      <td>Netherlands</td>\n",
       "      <td>Amsterdam</td>\n",
       "      <td>1030.0</td>\n",
       "      <td>3.1 miles</td>\n",
       "      <td>City centre</td>\n",
       "      <td>3.6 miles</td>\n",
       "      <td>Montelbaanstoren</td>\n",
       "      <td>Amsterdam</td>\n",
       "      <td>172</td>\n",
       "      <td>price for 1 night</td>\n",
       "      <td>...</td>\n",
       "      <td>4.3 /5</td>\n",
       "      <td>0</td>\n",
       "      <td>1.0</td>\n",
       "      <td>0</td>\n",
       "      <td>0% no offer</td>\n",
       "      <td>2017</td>\n",
       "      <td>11</td>\n",
       "      <td>1</td>\n",
       "      <td>0</td>\n",
       "      <td>52162.57012</td>\n",
       "    </tr>\n",
       "    <tr>\n",
       "      <th>1</th>\n",
       "      <td>Netherlands</td>\n",
       "      <td>Amsterdam</td>\n",
       "      <td>1030.0</td>\n",
       "      <td>3.1 miles</td>\n",
       "      <td>City centre</td>\n",
       "      <td>3.6 miles</td>\n",
       "      <td>Montelbaanstoren</td>\n",
       "      <td>Amsterdam</td>\n",
       "      <td>122</td>\n",
       "      <td>price for 1 night</td>\n",
       "      <td>...</td>\n",
       "      <td>4.3 /5</td>\n",
       "      <td>0</td>\n",
       "      <td>1.0</td>\n",
       "      <td>1</td>\n",
       "      <td>15-50% offer</td>\n",
       "      <td>2018</td>\n",
       "      <td>1</td>\n",
       "      <td>1</td>\n",
       "      <td>0</td>\n",
       "      <td>52162.57012</td>\n",
       "    </tr>\n",
       "    <tr>\n",
       "      <th>2</th>\n",
       "      <td>Netherlands</td>\n",
       "      <td>Amsterdam</td>\n",
       "      <td>1030.0</td>\n",
       "      <td>3.1 miles</td>\n",
       "      <td>City centre</td>\n",
       "      <td>3.6 miles</td>\n",
       "      <td>Montelbaanstoren</td>\n",
       "      <td>Amsterdam</td>\n",
       "      <td>122</td>\n",
       "      <td>price for 1 night</td>\n",
       "      <td>...</td>\n",
       "      <td>4.3 /5</td>\n",
       "      <td>0</td>\n",
       "      <td>1.0</td>\n",
       "      <td>1</td>\n",
       "      <td>15-50% offer</td>\n",
       "      <td>2017</td>\n",
       "      <td>12</td>\n",
       "      <td>0</td>\n",
       "      <td>1</td>\n",
       "      <td>52162.57012</td>\n",
       "    </tr>\n",
       "    <tr>\n",
       "      <th>3</th>\n",
       "      <td>Netherlands</td>\n",
       "      <td>Amsterdam</td>\n",
       "      <td>1030.0</td>\n",
       "      <td>3.1 miles</td>\n",
       "      <td>City centre</td>\n",
       "      <td>3.6 miles</td>\n",
       "      <td>Montelbaanstoren</td>\n",
       "      <td>Amsterdam</td>\n",
       "      <td>552</td>\n",
       "      <td>price for 4 nights</td>\n",
       "      <td>...</td>\n",
       "      <td>4.3 /5</td>\n",
       "      <td>0</td>\n",
       "      <td>1.0</td>\n",
       "      <td>1</td>\n",
       "      <td>1-15% offer</td>\n",
       "      <td>2017</td>\n",
       "      <td>12</td>\n",
       "      <td>0</td>\n",
       "      <td>1</td>\n",
       "      <td>52162.57012</td>\n",
       "    </tr>\n",
       "    <tr>\n",
       "      <th>4</th>\n",
       "      <td>Netherlands</td>\n",
       "      <td>Amsterdam</td>\n",
       "      <td>1030.0</td>\n",
       "      <td>3.1 miles</td>\n",
       "      <td>City centre</td>\n",
       "      <td>3.6 miles</td>\n",
       "      <td>Montelbaanstoren</td>\n",
       "      <td>Amsterdam</td>\n",
       "      <td>122</td>\n",
       "      <td>price for 1 night</td>\n",
       "      <td>...</td>\n",
       "      <td>4.3 /5</td>\n",
       "      <td>0</td>\n",
       "      <td>1.0</td>\n",
       "      <td>1</td>\n",
       "      <td>15-50% offer</td>\n",
       "      <td>2018</td>\n",
       "      <td>2</td>\n",
       "      <td>1</td>\n",
       "      <td>0</td>\n",
       "      <td>52162.57012</td>\n",
       "    </tr>\n",
       "  </tbody>\n",
       "</table>\n",
       "<p>5 rows × 25 columns</p>\n",
       "</div>"
      ],
      "text/plain": [
       "  addresscountryname city_actual  rating_reviewcount center1distance  \\\n",
       "0        Netherlands   Amsterdam              1030.0       3.1 miles   \n",
       "1        Netherlands   Amsterdam              1030.0       3.1 miles   \n",
       "2        Netherlands   Amsterdam              1030.0       3.1 miles   \n",
       "3        Netherlands   Amsterdam              1030.0       3.1 miles   \n",
       "4        Netherlands   Amsterdam              1030.0       3.1 miles   \n",
       "\n",
       "  center1label center2distance      center2label neighbourhood  price  \\\n",
       "0  City centre       3.6 miles  Montelbaanstoren     Amsterdam    172   \n",
       "1  City centre       3.6 miles  Montelbaanstoren     Amsterdam    122   \n",
       "2  City centre       3.6 miles  Montelbaanstoren     Amsterdam    122   \n",
       "3  City centre       3.6 miles  Montelbaanstoren     Amsterdam    552   \n",
       "4  City centre       3.6 miles  Montelbaanstoren     Amsterdam    122   \n",
       "\n",
       "          price_night  ... guestreviewsrating  scarce_room  hotel_id  offer  \\\n",
       "0   price for 1 night  ...             4.3 /5            0       1.0      0   \n",
       "1   price for 1 night  ...             4.3 /5            0       1.0      1   \n",
       "2   price for 1 night  ...             4.3 /5            0       1.0      1   \n",
       "3  price for 4 nights  ...             4.3 /5            0       1.0      1   \n",
       "4   price for 1 night  ...             4.3 /5            0       1.0      1   \n",
       "\n",
       "      offer_cat  year  month  weekend  holiday          GDP  \n",
       "0   0% no offer  2017     11        1        0  52162.57012  \n",
       "1  15-50% offer  2018      1        1        0  52162.57012  \n",
       "2  15-50% offer  2017     12        0        1  52162.57012  \n",
       "3   1-15% offer  2017     12        0        1  52162.57012  \n",
       "4  15-50% offer  2018      2        1        0  52162.57012  \n",
       "\n",
       "[5 rows x 25 columns]"
      ]
     },
     "execution_count": 110,
     "metadata": {},
     "output_type": "execute_result"
    }
   ],
   "source": [
    "# Filtering the data based on the countries with GDP values higher than 40000$ and lower than 60000$\n",
    "df = Data[(Data['GDP'] > 40000) & (Data['GDP'] < 60000)]\n",
    "df.head()\n"
   ]
  },
  {
   "cell_type": "markdown",
   "metadata": {},
   "source": [
    "## Data Cleaning\n",
    "In the process of data cleaning we need to pave the following steps:\n",
    "* __Inspect for Missing Values__: Check if there are any missing values in the columns that we intend to use.\n",
    "* __Handle Categorical Data__: Convert categorical columns like city_actual, neighbourhood, etc., into a format suitable for machine learning models (e.g., through one-hot encoding).\n",
    "* __Handle Numerical Data__: Convert distances from string to numerical format (e.g., center1distance). Also, scale or normalize numerical features if required.\n",
    "* __Feature Selection and Labels__: Decide which columns will be used as input and which column will be the output."
   ]
  },
  {
   "cell_type": "code",
   "execution_count": 111,
   "metadata": {},
   "outputs": [
    {
     "data": {
      "text/html": [
       "<div>\n",
       "<style scoped>\n",
       "    .dataframe tbody tr th:only-of-type {\n",
       "        vertical-align: middle;\n",
       "    }\n",
       "\n",
       "    .dataframe tbody tr th {\n",
       "        vertical-align: top;\n",
       "    }\n",
       "\n",
       "    .dataframe thead th {\n",
       "        text-align: right;\n",
       "    }\n",
       "</style>\n",
       "<table border=\"1\" class=\"dataframe\">\n",
       "  <thead>\n",
       "    <tr style=\"text-align: right;\">\n",
       "      <th></th>\n",
       "      <th>Data types</th>\n",
       "      <th>Unique values</th>\n",
       "      <th>Missing values</th>\n",
       "    </tr>\n",
       "  </thead>\n",
       "  <tbody>\n",
       "    <tr>\n",
       "      <th>rating2_ta</th>\n",
       "      <td>float64</td>\n",
       "      <td>9</td>\n",
       "      <td>2776</td>\n",
       "    </tr>\n",
       "    <tr>\n",
       "      <th>rating2_ta_reviewcount</th>\n",
       "      <td>float64</td>\n",
       "      <td>1615</td>\n",
       "      <td>2776</td>\n",
       "    </tr>\n",
       "    <tr>\n",
       "      <th>rating_reviewcount</th>\n",
       "      <td>float64</td>\n",
       "      <td>896</td>\n",
       "      <td>1338</td>\n",
       "    </tr>\n",
       "    <tr>\n",
       "      <th>guestreviewsrating</th>\n",
       "      <td>object</td>\n",
       "      <td>28</td>\n",
       "      <td>1338</td>\n",
       "    </tr>\n",
       "    <tr>\n",
       "      <th>holiday</th>\n",
       "      <td>int64</td>\n",
       "      <td>2</td>\n",
       "      <td>0</td>\n",
       "    </tr>\n",
       "    <tr>\n",
       "      <th>weekend</th>\n",
       "      <td>int64</td>\n",
       "      <td>2</td>\n",
       "      <td>0</td>\n",
       "    </tr>\n",
       "    <tr>\n",
       "      <th>month</th>\n",
       "      <td>int64</td>\n",
       "      <td>8</td>\n",
       "      <td>0</td>\n",
       "    </tr>\n",
       "    <tr>\n",
       "      <th>year</th>\n",
       "      <td>int64</td>\n",
       "      <td>2</td>\n",
       "      <td>0</td>\n",
       "    </tr>\n",
       "    <tr>\n",
       "      <th>offer_cat</th>\n",
       "      <td>object</td>\n",
       "      <td>5</td>\n",
       "      <td>0</td>\n",
       "    </tr>\n",
       "    <tr>\n",
       "      <th>offer</th>\n",
       "      <td>int64</td>\n",
       "      <td>2</td>\n",
       "      <td>0</td>\n",
       "    </tr>\n",
       "    <tr>\n",
       "      <th>hotel_id</th>\n",
       "      <td>float64</td>\n",
       "      <td>5017</td>\n",
       "      <td>0</td>\n",
       "    </tr>\n",
       "    <tr>\n",
       "      <th>scarce_room</th>\n",
       "      <td>int64</td>\n",
       "      <td>2</td>\n",
       "      <td>0</td>\n",
       "    </tr>\n",
       "    <tr>\n",
       "      <th>accommodationtype</th>\n",
       "      <td>object</td>\n",
       "      <td>16</td>\n",
       "      <td>0</td>\n",
       "    </tr>\n",
       "    <tr>\n",
       "      <th>addresscountryname</th>\n",
       "      <td>object</td>\n",
       "      <td>7</td>\n",
       "      <td>0</td>\n",
       "    </tr>\n",
       "    <tr>\n",
       "      <th>city_actual</th>\n",
       "      <td>object</td>\n",
       "      <td>191</td>\n",
       "      <td>0</td>\n",
       "    </tr>\n",
       "    <tr>\n",
       "      <th>starrating</th>\n",
       "      <td>float64</td>\n",
       "      <td>10</td>\n",
       "      <td>0</td>\n",
       "    </tr>\n",
       "    <tr>\n",
       "      <th>s_city</th>\n",
       "      <td>object</td>\n",
       "      <td>13</td>\n",
       "      <td>0</td>\n",
       "    </tr>\n",
       "    <tr>\n",
       "      <th>price_night</th>\n",
       "      <td>object</td>\n",
       "      <td>2</td>\n",
       "      <td>0</td>\n",
       "    </tr>\n",
       "    <tr>\n",
       "      <th>price</th>\n",
       "      <td>int64</td>\n",
       "      <td>1357</td>\n",
       "      <td>0</td>\n",
       "    </tr>\n",
       "    <tr>\n",
       "      <th>neighbourhood</th>\n",
       "      <td>object</td>\n",
       "      <td>382</td>\n",
       "      <td>0</td>\n",
       "    </tr>\n",
       "    <tr>\n",
       "      <th>center2label</th>\n",
       "      <td>object</td>\n",
       "      <td>13</td>\n",
       "      <td>0</td>\n",
       "    </tr>\n",
       "    <tr>\n",
       "      <th>center2distance</th>\n",
       "      <td>object</td>\n",
       "      <td>147</td>\n",
       "      <td>0</td>\n",
       "    </tr>\n",
       "    <tr>\n",
       "      <th>center1label</th>\n",
       "      <td>object</td>\n",
       "      <td>1</td>\n",
       "      <td>0</td>\n",
       "    </tr>\n",
       "    <tr>\n",
       "      <th>center1distance</th>\n",
       "      <td>object</td>\n",
       "      <td>142</td>\n",
       "      <td>0</td>\n",
       "    </tr>\n",
       "    <tr>\n",
       "      <th>GDP</th>\n",
       "      <td>float64</td>\n",
       "      <td>7</td>\n",
       "      <td>0</td>\n",
       "    </tr>\n",
       "  </tbody>\n",
       "</table>\n",
       "</div>"
      ],
      "text/plain": [
       "                       Data types  Unique values  Missing values\n",
       "rating2_ta                float64              9            2776\n",
       "rating2_ta_reviewcount    float64           1615            2776\n",
       "rating_reviewcount        float64            896            1338\n",
       "guestreviewsrating         object             28            1338\n",
       "holiday                     int64              2               0\n",
       "weekend                     int64              2               0\n",
       "month                       int64              8               0\n",
       "year                        int64              2               0\n",
       "offer_cat                  object              5               0\n",
       "offer                       int64              2               0\n",
       "hotel_id                  float64           5017               0\n",
       "scarce_room                 int64              2               0\n",
       "accommodationtype          object             16               0\n",
       "addresscountryname         object              7               0\n",
       "city_actual                object            191               0\n",
       "starrating                float64             10               0\n",
       "s_city                     object             13               0\n",
       "price_night                object              2               0\n",
       "price                       int64           1357               0\n",
       "neighbourhood              object            382               0\n",
       "center2label               object             13               0\n",
       "center2distance            object            147               0\n",
       "center1label               object              1               0\n",
       "center1distance            object            142               0\n",
       "GDP                       float64              7               0"
      ]
     },
     "execution_count": 111,
     "metadata": {},
     "output_type": "execute_result"
    }
   ],
   "source": [
    "# Checking the missing values\n",
    "missing_values = df.isnull().sum()\n",
    "\n",
    "# Checking the data types and unique values\n",
    "data_types = df.dtypes\n",
    "unique_values = df.nunique()\n",
    "\n",
    "# Summarizing the above results\n",
    "Data_summary = pd.DataFrame({'Data types': data_types, 'Unique values': unique_values, 'Missing values': missing_values})\n",
    "Data_summary.sort_values(by = 'Missing values', ascending = False)"
   ]
  },
  {
   "cell_type": "code",
   "execution_count": 112,
   "metadata": {},
   "outputs": [
    {
     "name": "stderr",
     "output_type": "stream",
     "text": [
      "C:\\Users\\PA\\AppData\\Local\\Temp\\ipykernel_18004\\1729537003.py:2: SettingWithCopyWarning: \n",
      "A value is trying to be set on a copy of a slice from a DataFrame.\n",
      "Try using .loc[row_indexer,col_indexer] = value instead\n",
      "\n",
      "See the caveats in the documentation: https://pandas.pydata.org/pandas-docs/stable/user_guide/indexing.html#returning-a-view-versus-a-copy\n",
      "  df['guestreviewsrating'] = df['guestreviewsrating'].str.extract('(\\d+)')\n",
      "C:\\Users\\PA\\AppData\\Local\\Temp\\ipykernel_18004\\1729537003.py:3: SettingWithCopyWarning: \n",
      "A value is trying to be set on a copy of a slice from a DataFrame.\n",
      "Try using .loc[row_indexer,col_indexer] = value instead\n",
      "\n",
      "See the caveats in the documentation: https://pandas.pydata.org/pandas-docs/stable/user_guide/indexing.html#returning-a-view-versus-a-copy\n",
      "  df['guestreviewsrating'] = df['guestreviewsrating'].astype(float)\n"
     ]
    }
   ],
   "source": [
    "# Extracting the guest score and converting it to float\n",
    "df['guestreviewsrating'] = df['guestreviewsrating'].str.extract('(\\d+)')\n",
    "df['guestreviewsrating'] = df['guestreviewsrating'].astype(float)"
   ]
  },
  {
   "cell_type": "code",
   "execution_count": 113,
   "metadata": {},
   "outputs": [
    {
     "name": "stderr",
     "output_type": "stream",
     "text": [
      "C:\\Users\\PA\\AppData\\Local\\Temp\\ipykernel_18004\\3504336932.py:2: SettingWithCopyWarning: \n",
      "A value is trying to be set on a copy of a slice from a DataFrame\n",
      "\n",
      "See the caveats in the documentation: https://pandas.pydata.org/pandas-docs/stable/user_guide/indexing.html#returning-a-view-versus-a-copy\n",
      "  df['rating2_ta'].fillna(df['rating2_ta'].mean(), inplace = True)\n",
      "C:\\Users\\PA\\AppData\\Local\\Temp\\ipykernel_18004\\3504336932.py:3: SettingWithCopyWarning: \n",
      "A value is trying to be set on a copy of a slice from a DataFrame\n",
      "\n",
      "See the caveats in the documentation: https://pandas.pydata.org/pandas-docs/stable/user_guide/indexing.html#returning-a-view-versus-a-copy\n",
      "  df['rating2_ta_reviewcount'].fillna(df['rating2_ta_reviewcount'].mean(), inplace = True)\n",
      "C:\\Users\\PA\\AppData\\Local\\Temp\\ipykernel_18004\\3504336932.py:4: SettingWithCopyWarning: \n",
      "A value is trying to be set on a copy of a slice from a DataFrame\n",
      "\n",
      "See the caveats in the documentation: https://pandas.pydata.org/pandas-docs/stable/user_guide/indexing.html#returning-a-view-versus-a-copy\n",
      "  df['rating_reviewcount'].fillna(df['rating_reviewcount'].mean(), inplace = True)\n",
      "C:\\Users\\PA\\AppData\\Local\\Temp\\ipykernel_18004\\3504336932.py:5: SettingWithCopyWarning: \n",
      "A value is trying to be set on a copy of a slice from a DataFrame\n",
      "\n",
      "See the caveats in the documentation: https://pandas.pydata.org/pandas-docs/stable/user_guide/indexing.html#returning-a-view-versus-a-copy\n",
      "  df['guestreviewsrating'].fillna(df['guestreviewsrating'].mean(), inplace = True)\n"
     ]
    }
   ],
   "source": [
    "# replacing the missing values in the rating columns with the mode values\n",
    "df['rating2_ta'].fillna(df['rating2_ta'].mean(), inplace = True)\n",
    "df['rating2_ta_reviewcount'].fillna(df['rating2_ta_reviewcount'].mean(), inplace = True)\n",
    "df['rating_reviewcount'].fillna(df['rating_reviewcount'].mean(), inplace = True)\n",
    "df['guestreviewsrating'].fillna(df['guestreviewsrating'].mean(), inplace = True)"
   ]
  },
  {
   "cell_type": "code",
   "execution_count": 114,
   "metadata": {},
   "outputs": [
    {
     "data": {
      "text/plain": [
       "addresscountryname        0\n",
       "city_actual               0\n",
       "rating_reviewcount        0\n",
       "center1distance           0\n",
       "center1label              0\n",
       "center2distance           0\n",
       "center2label              0\n",
       "neighbourhood             0\n",
       "price                     0\n",
       "price_night               0\n",
       "s_city                    0\n",
       "starrating                0\n",
       "rating2_ta                0\n",
       "rating2_ta_reviewcount    0\n",
       "accommodationtype         0\n",
       "guestreviewsrating        0\n",
       "scarce_room               0\n",
       "hotel_id                  0\n",
       "offer                     0\n",
       "offer_cat                 0\n",
       "year                      0\n",
       "month                     0\n",
       "weekend                   0\n",
       "holiday                   0\n",
       "GDP                       0\n",
       "dtype: int64"
      ]
     },
     "execution_count": 114,
     "metadata": {},
     "output_type": "execute_result"
    }
   ],
   "source": [
    "df.isnull().sum()"
   ]
  },
  {
   "cell_type": "markdown",
   "metadata": {},
   "source": [
    "# Feature Selection & ِData Cleaning\n",
    "In this step we are going to decide which variables to use in our prediction model.\n",
    "* Our target variable is _\"Price/Night\"_. We can derive this variable by dividing the price to __price_night__.\n",
    "* It seems trivial that accommodatin_type affects the price. (Type = Categorical)\n",
    "* Location variables (Country, City): Location is a key factor in pricing. (Type = Categorical)\n",
    "* Star_rating\n",
    "* rating, rating count\n",
    "* ratingta (advisor rating)\n",
    "* Distance, Distance alter\n",
    "* year, month\n",
    "* scarce room"
   ]
  },
  {
   "cell_type": "code",
   "execution_count": 115,
   "metadata": {},
   "outputs": [
    {
     "data": {
      "text/html": [
       "<div>\n",
       "<style scoped>\n",
       "    .dataframe tbody tr th:only-of-type {\n",
       "        vertical-align: middle;\n",
       "    }\n",
       "\n",
       "    .dataframe tbody tr th {\n",
       "        vertical-align: top;\n",
       "    }\n",
       "\n",
       "    .dataframe thead th {\n",
       "        text-align: right;\n",
       "    }\n",
       "</style>\n",
       "<table border=\"1\" class=\"dataframe\">\n",
       "  <thead>\n",
       "    <tr style=\"text-align: right;\">\n",
       "      <th></th>\n",
       "      <th>addresscountryname</th>\n",
       "      <th>city_actual</th>\n",
       "      <th>rating_reviewcount</th>\n",
       "      <th>center1distance</th>\n",
       "      <th>center1label</th>\n",
       "      <th>center2distance</th>\n",
       "      <th>center2label</th>\n",
       "      <th>neighbourhood</th>\n",
       "      <th>price</th>\n",
       "      <th>price_night</th>\n",
       "      <th>...</th>\n",
       "      <th>guestreviewsrating</th>\n",
       "      <th>scarce_room</th>\n",
       "      <th>hotel_id</th>\n",
       "      <th>offer</th>\n",
       "      <th>offer_cat</th>\n",
       "      <th>year</th>\n",
       "      <th>month</th>\n",
       "      <th>weekend</th>\n",
       "      <th>holiday</th>\n",
       "      <th>GDP</th>\n",
       "    </tr>\n",
       "  </thead>\n",
       "  <tbody>\n",
       "    <tr>\n",
       "      <th>0</th>\n",
       "      <td>Netherlands</td>\n",
       "      <td>Amsterdam</td>\n",
       "      <td>1030.0</td>\n",
       "      <td>3.1 miles</td>\n",
       "      <td>City centre</td>\n",
       "      <td>3.6 miles</td>\n",
       "      <td>Montelbaanstoren</td>\n",
       "      <td>Amsterdam</td>\n",
       "      <td>172</td>\n",
       "      <td>price for 1 night</td>\n",
       "      <td>...</td>\n",
       "      <td>4.0</td>\n",
       "      <td>0</td>\n",
       "      <td>1.0</td>\n",
       "      <td>0</td>\n",
       "      <td>0% no offer</td>\n",
       "      <td>2017</td>\n",
       "      <td>11</td>\n",
       "      <td>1</td>\n",
       "      <td>0</td>\n",
       "      <td>52162.57012</td>\n",
       "    </tr>\n",
       "    <tr>\n",
       "      <th>1</th>\n",
       "      <td>Netherlands</td>\n",
       "      <td>Amsterdam</td>\n",
       "      <td>1030.0</td>\n",
       "      <td>3.1 miles</td>\n",
       "      <td>City centre</td>\n",
       "      <td>3.6 miles</td>\n",
       "      <td>Montelbaanstoren</td>\n",
       "      <td>Amsterdam</td>\n",
       "      <td>122</td>\n",
       "      <td>price for 1 night</td>\n",
       "      <td>...</td>\n",
       "      <td>4.0</td>\n",
       "      <td>0</td>\n",
       "      <td>1.0</td>\n",
       "      <td>1</td>\n",
       "      <td>15-50% offer</td>\n",
       "      <td>2018</td>\n",
       "      <td>1</td>\n",
       "      <td>1</td>\n",
       "      <td>0</td>\n",
       "      <td>52162.57012</td>\n",
       "    </tr>\n",
       "    <tr>\n",
       "      <th>2</th>\n",
       "      <td>Netherlands</td>\n",
       "      <td>Amsterdam</td>\n",
       "      <td>1030.0</td>\n",
       "      <td>3.1 miles</td>\n",
       "      <td>City centre</td>\n",
       "      <td>3.6 miles</td>\n",
       "      <td>Montelbaanstoren</td>\n",
       "      <td>Amsterdam</td>\n",
       "      <td>122</td>\n",
       "      <td>price for 1 night</td>\n",
       "      <td>...</td>\n",
       "      <td>4.0</td>\n",
       "      <td>0</td>\n",
       "      <td>1.0</td>\n",
       "      <td>1</td>\n",
       "      <td>15-50% offer</td>\n",
       "      <td>2017</td>\n",
       "      <td>12</td>\n",
       "      <td>0</td>\n",
       "      <td>1</td>\n",
       "      <td>52162.57012</td>\n",
       "    </tr>\n",
       "    <tr>\n",
       "      <th>3</th>\n",
       "      <td>Netherlands</td>\n",
       "      <td>Amsterdam</td>\n",
       "      <td>1030.0</td>\n",
       "      <td>3.1 miles</td>\n",
       "      <td>City centre</td>\n",
       "      <td>3.6 miles</td>\n",
       "      <td>Montelbaanstoren</td>\n",
       "      <td>Amsterdam</td>\n",
       "      <td>552</td>\n",
       "      <td>price for 4 nights</td>\n",
       "      <td>...</td>\n",
       "      <td>4.0</td>\n",
       "      <td>0</td>\n",
       "      <td>1.0</td>\n",
       "      <td>1</td>\n",
       "      <td>1-15% offer</td>\n",
       "      <td>2017</td>\n",
       "      <td>12</td>\n",
       "      <td>0</td>\n",
       "      <td>1</td>\n",
       "      <td>52162.57012</td>\n",
       "    </tr>\n",
       "    <tr>\n",
       "      <th>4</th>\n",
       "      <td>Netherlands</td>\n",
       "      <td>Amsterdam</td>\n",
       "      <td>1030.0</td>\n",
       "      <td>3.1 miles</td>\n",
       "      <td>City centre</td>\n",
       "      <td>3.6 miles</td>\n",
       "      <td>Montelbaanstoren</td>\n",
       "      <td>Amsterdam</td>\n",
       "      <td>122</td>\n",
       "      <td>price for 1 night</td>\n",
       "      <td>...</td>\n",
       "      <td>4.0</td>\n",
       "      <td>0</td>\n",
       "      <td>1.0</td>\n",
       "      <td>1</td>\n",
       "      <td>15-50% offer</td>\n",
       "      <td>2018</td>\n",
       "      <td>2</td>\n",
       "      <td>1</td>\n",
       "      <td>0</td>\n",
       "      <td>52162.57012</td>\n",
       "    </tr>\n",
       "  </tbody>\n",
       "</table>\n",
       "<p>5 rows × 25 columns</p>\n",
       "</div>"
      ],
      "text/plain": [
       "  addresscountryname city_actual  rating_reviewcount center1distance  \\\n",
       "0        Netherlands   Amsterdam              1030.0       3.1 miles   \n",
       "1        Netherlands   Amsterdam              1030.0       3.1 miles   \n",
       "2        Netherlands   Amsterdam              1030.0       3.1 miles   \n",
       "3        Netherlands   Amsterdam              1030.0       3.1 miles   \n",
       "4        Netherlands   Amsterdam              1030.0       3.1 miles   \n",
       "\n",
       "  center1label center2distance      center2label neighbourhood  price  \\\n",
       "0  City centre       3.6 miles  Montelbaanstoren     Amsterdam    172   \n",
       "1  City centre       3.6 miles  Montelbaanstoren     Amsterdam    122   \n",
       "2  City centre       3.6 miles  Montelbaanstoren     Amsterdam    122   \n",
       "3  City centre       3.6 miles  Montelbaanstoren     Amsterdam    552   \n",
       "4  City centre       3.6 miles  Montelbaanstoren     Amsterdam    122   \n",
       "\n",
       "          price_night  ... guestreviewsrating  scarce_room  hotel_id  offer  \\\n",
       "0   price for 1 night  ...                4.0            0       1.0      0   \n",
       "1   price for 1 night  ...                4.0            0       1.0      1   \n",
       "2   price for 1 night  ...                4.0            0       1.0      1   \n",
       "3  price for 4 nights  ...                4.0            0       1.0      1   \n",
       "4   price for 1 night  ...                4.0            0       1.0      1   \n",
       "\n",
       "      offer_cat  year  month  weekend  holiday          GDP  \n",
       "0   0% no offer  2017     11        1        0  52162.57012  \n",
       "1  15-50% offer  2018      1        1        0  52162.57012  \n",
       "2  15-50% offer  2017     12        0        1  52162.57012  \n",
       "3   1-15% offer  2017     12        0        1  52162.57012  \n",
       "4  15-50% offer  2018      2        1        0  52162.57012  \n",
       "\n",
       "[5 rows x 25 columns]"
      ]
     },
     "execution_count": 115,
     "metadata": {},
     "output_type": "execute_result"
    }
   ],
   "source": [
    "df.head()"
   ]
  },
  {
   "cell_type": "markdown",
   "metadata": {},
   "source": [
    "### Defining the Target Variable\n",
    "* For this task we need to convert the __price_night__ variable to numerical values."
   ]
  },
  {
   "cell_type": "code",
   "execution_count": 116,
   "metadata": {},
   "outputs": [
    {
     "name": "stderr",
     "output_type": "stream",
     "text": [
      "C:\\Users\\PA\\AppData\\Local\\Temp\\ipykernel_18004\\1758452389.py:3: SettingWithCopyWarning: \n",
      "A value is trying to be set on a copy of a slice from a DataFrame.\n",
      "Try using .loc[row_indexer,col_indexer] = value instead\n",
      "\n",
      "See the caveats in the documentation: https://pandas.pydata.org/pandas-docs/stable/user_guide/indexing.html#returning-a-view-versus-a-copy\n",
      "  df['price_night'] = df['price_night'].apply(lambda x: re.findall(r'\\d+', str(x))[0])\n",
      "C:\\Users\\PA\\AppData\\Local\\Temp\\ipykernel_18004\\1758452389.py:6: SettingWithCopyWarning: \n",
      "A value is trying to be set on a copy of a slice from a DataFrame.\n",
      "Try using .loc[row_indexer,col_indexer] = value instead\n",
      "\n",
      "See the caveats in the documentation: https://pandas.pydata.org/pandas-docs/stable/user_guide/indexing.html#returning-a-view-versus-a-copy\n",
      "  df['price_night'] = pd.to_numeric(df['price_night'])\n",
      "C:\\Users\\PA\\AppData\\Local\\Temp\\ipykernel_18004\\1758452389.py:9: SettingWithCopyWarning: \n",
      "A value is trying to be set on a copy of a slice from a DataFrame.\n",
      "Try using .loc[row_indexer,col_indexer] = value instead\n",
      "\n",
      "See the caveats in the documentation: https://pandas.pydata.org/pandas-docs/stable/user_guide/indexing.html#returning-a-view-versus-a-copy\n",
      "  df['price_per_night'] = df['price']/df['price_night']\n"
     ]
    }
   ],
   "source": [
    "import re\n",
    "# Extract numerical values from \"price_night\" column\n",
    "df['price_night'] = df['price_night'].apply(lambda x: re.findall(r'\\d+', str(x))[0])\n",
    "\n",
    "# Convert the extracted values to numeric type\n",
    "df['price_night'] = pd.to_numeric(df['price_night'])\n",
    "\n",
    "# Creating target variable: price per night\n",
    "df['price_per_night'] = df['price']/df['price_night']"
   ]
  },
  {
   "cell_type": "markdown",
   "metadata": {},
   "source": [
    "### Accommodation Type"
   ]
  },
  {
   "cell_type": "code",
   "execution_count": 117,
   "metadata": {},
   "outputs": [
    {
     "name": "stdout",
     "output_type": "stream",
     "text": [
      "['_ACCOM_TYPE@Hotel' '_ACCOM_TYPE@Hostel' '_ACCOM_TYPE@Apartment'\n",
      " '_ACCOM_TYPE@Apart-hotel' '_ACCOM_TYPE@House boat' '_ACCOM_TYPE@Inn'\n",
      " '_ACCOM_TYPE@Guest House' '_ACCOM_TYPE@Bed and breakfast'\n",
      " '_ACCOM_TYPE@Pension' '_ACCOM_TYPE@Motel'\n",
      " '_ACCOM_TYPE@Vacation home Condo' '_ACCOM_TYPE@Villa'\n",
      " '_ACCOM_TYPE@Resort' '_ACCOM_TYPE@' '_ACCOM_TYPE@Chalet'\n",
      " '_ACCOM_TYPE@Cottage']\n"
     ]
    }
   ],
   "source": [
    "print(df['accommodationtype'].unique())"
   ]
  },
  {
   "cell_type": "code",
   "execution_count": 118,
   "metadata": {},
   "outputs": [
    {
     "name": "stderr",
     "output_type": "stream",
     "text": [
      "C:\\Users\\PA\\AppData\\Local\\Temp\\ipykernel_18004\\2666905615.py:1: SettingWithCopyWarning: \n",
      "A value is trying to be set on a copy of a slice from a DataFrame.\n",
      "Try using .loc[row_indexer,col_indexer] = value instead\n",
      "\n",
      "See the caveats in the documentation: https://pandas.pydata.org/pandas-docs/stable/user_guide/indexing.html#returning-a-view-versus-a-copy\n",
      "  df.loc[:, 'accommodationtype'] = df['accommodationtype'].str.split('@').str[1]\n"
     ]
    }
   ],
   "source": [
    "df.loc[:, 'accommodationtype'] = df['accommodationtype'].str.split('@').str[1]"
   ]
  },
  {
   "cell_type": "code",
   "execution_count": 119,
   "metadata": {},
   "outputs": [
    {
     "data": {
      "text/plain": [
       "array(['Hotel', 'Hostel', 'Apartment', 'Apart-hotel', 'House boat', 'Inn',\n",
       "       'Guest House', 'Bed and breakfast', 'Pension', 'Motel',\n",
       "       'Vacation home Condo', 'Villa', 'Resort', '', 'Chalet', 'Cottage'],\n",
       "      dtype=object)"
      ]
     },
     "execution_count": 119,
     "metadata": {},
     "output_type": "execute_result"
    }
   ],
   "source": [
    "df['accommodationtype'].unique()"
   ]
  },
  {
   "cell_type": "code",
   "execution_count": 120,
   "metadata": {},
   "outputs": [],
   "source": [
    "# dropping the observations with df['accommodationtype']==''\n",
    "df = df[df['accommodationtype'] != '']"
   ]
  },
  {
   "cell_type": "markdown",
   "metadata": {},
   "source": [
    "### Center Labels and Center Distances"
   ]
  },
  {
   "cell_type": "code",
   "execution_count": 121,
   "metadata": {},
   "outputs": [
    {
     "data": {
      "text/plain": [
       "array(['City centre'], dtype=object)"
      ]
     },
     "execution_count": 121,
     "metadata": {},
     "output_type": "execute_result"
    }
   ],
   "source": [
    "df['center1label'].unique()"
   ]
  },
  {
   "cell_type": "code",
   "execution_count": 122,
   "metadata": {},
   "outputs": [
    {
     "data": {
      "text/plain": [
       "array(['Montelbaanstoren', 'Stasi Prison', 'Birmingham Duddeston Station',\n",
       "       'Magritte Museum', 'Glasgow Westerton Station', 'Japanese Garden',\n",
       "       'Kaisaniemi Botanical Garden',\n",
       "       'Wimbledon Park Underground Station', 'Munich East Station',\n",
       "       'Port of Rotterdam', 'Smaragd II Ski Lift', 'Eriksdalsbadet',\n",
       "       'Donauturm'], dtype=object)"
      ]
     },
     "execution_count": 122,
     "metadata": {},
     "output_type": "execute_result"
    }
   ],
   "source": [
    "df['center2label'].unique()"
   ]
  },
  {
   "cell_type": "markdown",
   "metadata": {},
   "source": [
    "* Center Labels do not seem to be very useful. We can drop them."
   ]
  },
  {
   "cell_type": "code",
   "execution_count": 123,
   "metadata": {},
   "outputs": [],
   "source": [
    "# Dropping the columns \"center1label\" and \"center2label\"\n",
    "df.drop(['center1label', 'center2label'], axis = 1, inplace = True)"
   ]
  },
  {
   "cell_type": "markdown",
   "metadata": {},
   "source": [
    "* Extracting the numerical values of center-distance columns."
   ]
  },
  {
   "cell_type": "code",
   "execution_count": 124,
   "metadata": {},
   "outputs": [],
   "source": [
    "# Extracting the float values from the \"center1distance\" and \"center2distance\" columns\n",
    "df['center1distance'] = df['center1distance'].apply(lambda x: re.findall(r'\\d+\\.\\d+', str(x))[0] if re.findall(r'\\d+\\.\\d+', str(x)) else 0)\n",
    "df['center2distance'] = df['center2distance'].apply(lambda x: re.findall(r'\\d+\\.\\d+', str(x))[0] if re.findall(r'\\d+\\.\\d+', str(x)) else 0)\n",
    "\n",
    "# Converting the extracted values to numeric type\n",
    "df['center1distance'] = pd.to_numeric(df['center1distance'])\n",
    "df['center2distance'] = pd.to_numeric(df['center2distance'])"
   ]
  },
  {
   "cell_type": "code",
   "execution_count": 125,
   "metadata": {},
   "outputs": [
    {
     "data": {
      "text/plain": [
       "addresscountryname        0\n",
       "city_actual               0\n",
       "rating_reviewcount        0\n",
       "center1distance           0\n",
       "center2distance           0\n",
       "neighbourhood             0\n",
       "price                     0\n",
       "price_night               0\n",
       "s_city                    0\n",
       "starrating                0\n",
       "rating2_ta                0\n",
       "rating2_ta_reviewcount    0\n",
       "accommodationtype         0\n",
       "guestreviewsrating        0\n",
       "scarce_room               0\n",
       "hotel_id                  0\n",
       "offer                     0\n",
       "offer_cat                 0\n",
       "year                      0\n",
       "month                     0\n",
       "weekend                   0\n",
       "holiday                   0\n",
       "GDP                       0\n",
       "price_per_night           0\n",
       "dtype: int64"
      ]
     },
     "execution_count": 125,
     "metadata": {},
     "output_type": "execute_result"
    }
   ],
   "source": [
    "# checking for missing values\n",
    "df.isnull().sum()"
   ]
  },
  {
   "cell_type": "markdown",
   "metadata": {},
   "source": [
    "## Ratings\n",
    "* Guest Review"
   ]
  },
  {
   "cell_type": "code",
   "execution_count": 126,
   "metadata": {},
   "outputs": [
    {
     "data": {
      "text/plain": [
       "array([4.        , 3.        , 2.        , 3.49104049, 5.        ,\n",
       "       1.        ])"
      ]
     },
     "execution_count": 126,
     "metadata": {},
     "output_type": "execute_result"
    }
   ],
   "source": [
    "# Extracting the float values from the \"guestreviewsrating\" column before the \" /\"\n",
    "df['guestreviewsrating'] = df['guestreviewsrating'].apply(lambda x: re.findall(r'\\d+\\.\\d+', str(x))[0] if re.findall(r'\\d+\\.\\d+', str(x)) else None)\n",
    "\n",
    "# converting the extracted values to numeric type\n",
    "df['guestreviewsrating'] = pd.to_numeric(df['guestreviewsrating'])\n",
    "\n",
    "#droping the observations with df['guestreviewsrating'] == None\n",
    "df = df[df['guestreviewsrating'].notna()]\n",
    "\n",
    "df['guestreviewsrating'].unique()"
   ]
  },
  {
   "cell_type": "markdown",
   "metadata": {},
   "source": [
    "### Offer_cat\n",
    "* This feature is a ordinal categorical variable and it seems the order of categories matters a lot in the pricing process. So, we need to use Label Encoding method to convert it to a variable that can be used in a regression model."
   ]
  },
  {
   "cell_type": "code",
   "execution_count": 127,
   "metadata": {},
   "outputs": [
    {
     "data": {
      "text/plain": [
       "array(['0% no offer', '15-50% offer', '1-15% offer', '50%-75% offer',\n",
       "       '75%+ offer '], dtype=object)"
      ]
     },
     "execution_count": 127,
     "metadata": {},
     "output_type": "execute_result"
    }
   ],
   "source": [
    "df['offer_cat'].unique()"
   ]
  },
  {
   "cell_type": "code",
   "execution_count": 128,
   "metadata": {},
   "outputs": [],
   "source": [
    "# Convert the offer_cat column to categorical type using LabelEncoder\n",
    "ordered_categories = {'0% no offer': 0, r'15-50% offer':.33, r'1-15% offer':.08, r'50%-75% offer':.63, r'75%+ offer ':.88}\n",
    "df['offer_cat'] = df['offer_cat'].map(ordered_categories)"
   ]
  },
  {
   "cell_type": "code",
   "execution_count": 129,
   "metadata": {},
   "outputs": [
    {
     "data": {
      "text/plain": [
       "array([0.  , 0.33, 0.08, 0.63, 0.88])"
      ]
     },
     "execution_count": 129,
     "metadata": {},
     "output_type": "execute_result"
    }
   ],
   "source": [
    "df['offer_cat'].unique()"
   ]
  },
  {
   "cell_type": "code",
   "execution_count": 130,
   "metadata": {},
   "outputs": [
    {
     "data": {
      "text/plain": [
       "addresscountryname        0\n",
       "city_actual               0\n",
       "rating_reviewcount        0\n",
       "center1distance           0\n",
       "center2distance           0\n",
       "neighbourhood             0\n",
       "price                     0\n",
       "price_night               0\n",
       "s_city                    0\n",
       "starrating                0\n",
       "rating2_ta                0\n",
       "rating2_ta_reviewcount    0\n",
       "accommodationtype         0\n",
       "guestreviewsrating        0\n",
       "scarce_room               0\n",
       "hotel_id                  0\n",
       "offer                     0\n",
       "offer_cat                 0\n",
       "year                      0\n",
       "month                     0\n",
       "weekend                   0\n",
       "holiday                   0\n",
       "GDP                       0\n",
       "price_per_night           0\n",
       "dtype: int64"
      ]
     },
     "execution_count": 130,
     "metadata": {},
     "output_type": "execute_result"
    }
   ],
   "source": [
    "# checking for missing values\n",
    "df.isnull().sum()"
   ]
  },
  {
   "cell_type": "markdown",
   "metadata": {},
   "source": [
    "* We can update the price based on the offer and get the real price."
   ]
  },
  {
   "cell_type": "code",
   "execution_count": 131,
   "metadata": {},
   "outputs": [],
   "source": [
    "# inducing the real price by subtracting the offer from the price\n",
    "df['real_price'] = df['price_per_night'] - df['price_per_night']*df['offer_cat']"
   ]
  },
  {
   "cell_type": "code",
   "execution_count": 132,
   "metadata": {},
   "outputs": [],
   "source": [
    "df.to_csv('cleaned_hotel1.csv', index = False)"
   ]
  },
  {
   "cell_type": "markdown",
   "metadata": {},
   "source": [
    "### Dropping unnecessary columns"
   ]
  },
  {
   "cell_type": "code",
   "execution_count": 133,
   "metadata": {},
   "outputs": [],
   "source": [
    "# Dropping the columns that are not needed for the model anymore\n",
    "df.drop(['neighbourhood', 'price', 'price_night', 's_city', 'hotel_id', 'offer', 'GDP', \"price_per_night\", \"offer_cat\"], axis = 1, inplace = True)"
   ]
  },
  {
   "cell_type": "code",
   "execution_count": 134,
   "metadata": {},
   "outputs": [
    {
     "data": {
      "text/plain": [
       "addresscountryname         object\n",
       "city_actual                object\n",
       "rating_reviewcount        float64\n",
       "center1distance           float64\n",
       "center2distance           float64\n",
       "starrating                float64\n",
       "rating2_ta                float64\n",
       "rating2_ta_reviewcount    float64\n",
       "accommodationtype          object\n",
       "guestreviewsrating        float64\n",
       "scarce_room                 int64\n",
       "year                        int64\n",
       "month                       int64\n",
       "weekend                     int64\n",
       "holiday                     int64\n",
       "real_price                float64\n",
       "dtype: object"
      ]
     },
     "execution_count": 134,
     "metadata": {},
     "output_type": "execute_result"
    }
   ],
   "source": [
    "df.dtypes"
   ]
  },
  {
   "cell_type": "code",
   "execution_count": 148,
   "metadata": {},
   "outputs": [
    {
     "data": {
      "image/png": "[encoded data removed]",
      "text/plain": [
       "<Figure size 600x400 with 1 Axes>"
      ]
     },
     "metadata": {},
     "output_type": "display_data"
    }
   ],
   "source": [
    "# Checking the distribution of the \"cities\" in the data\n",
    "df['city_actual'].value_counts()[:20].plot(kind = 'bar', figsize = (6, 4))\n",
    "plt.title('Distribution of the top 20 cities in the data')\n",
    "plt.xlabel('Cities')\n",
    "plt.ylabel('Frequency')\n",
    "plt.show()"
   ]
  },
  {
   "cell_type": "code",
   "execution_count": 149,
   "metadata": {},
   "outputs": [
    {
     "data": {
      "image/png": "[encoded data removed]",
      "text/plain": [
       "<Figure size 600x400 with 1 Axes>"
      ]
     },
     "metadata": {},
     "output_type": "display_data"
    }
   ],
   "source": [
    "# Checking the distribution of the \"accommodationtype\" in the data\n",
    "df['accommodationtype'].value_counts().plot(kind = 'bar', figsize = (6, 4))\n",
    "plt.title('Distribution of the accommodation types in the data')\n",
    "plt.xlabel('Accommodation types')\n",
    "plt.ylabel('Frequency')\n",
    "plt.show()"
   ]
  },
  {
   "cell_type": "code",
   "execution_count": 137,
   "metadata": {},
   "outputs": [
    {
     "data": {
      "image/png": "[encoded data removed]",
      "text/plain": [
       "<Figure size 500x300 with 1 Axes>"
      ]
     },
     "metadata": {},
     "output_type": "display_data"
    },
    {
     "data": {
      "image/png": "[encoded data removed]",
      "text/plain": [
       "<Figure size 500x300 with 1 Axes>"
      ]
     },
     "metadata": {},
     "output_type": "display_data"
    }
   ],
   "source": [
    "# Checking the distribution of the \"year\" and \"month\" in the data\n",
    "df['year'].value_counts().plot(kind = 'bar', figsize = (5, 3), edgecolor = 'black')\n",
    "plt.title('Distribution of the years in the data')\n",
    "plt.xlabel('Years')\n",
    "plt.ylabel('Frequency')\n",
    "plt.show()\n",
    "\n",
    "df['month'].value_counts().plot(kind = 'bar', figsize = (5, 3), edgecolor = 'black')\n",
    "plt.title('Distribution of the months in the data')\n",
    "plt.xlabel('Months')\n",
    "plt.ylabel('Frequency')\n",
    "plt.show()"
   ]
  },
  {
   "cell_type": "code",
   "execution_count": 138,
   "metadata": {},
   "outputs": [
    {
     "data": {
      "image/png": "[encoded data removed]",
      "text/plain": [
       "<Figure size 500x300 with 1 Axes>"
      ]
     },
     "metadata": {},
     "output_type": "display_data"
    }
   ],
   "source": [
    "# Plotting the distribution of the \"guestreviewsrating\" in the data\n",
    "df['guestreviewsrating'].hist(figsize = (5, 3), edgecolor = 'black')\n",
    "plt.title('Distribution of the guest reviews rating in the data')\n",
    "plt.xlabel('Guest reviews rating')\n",
    "plt.ylabel('Frequency')\n",
    "plt.show()"
   ]
  },
  {
   "cell_type": "code",
   "execution_count": 139,
   "metadata": {},
   "outputs": [
    {
     "data": {
      "image/png": "[encoded data removed]",
      "text/plain": [
       "<Figure size 500x300 with 1 Axes>"
      ]
     },
     "metadata": {},
     "output_type": "display_data"
    }
   ],
   "source": [
    "# Plottign the distribution of the \"rating2_ta\" in the data\n",
    "df['rating2_ta'].hist(figsize = (5, 3), edgecolor = 'black')\n",
    "plt.title('Distribution of the rating2_ta in the data')\n",
    "plt.xlabel('Rating2_ta')\n",
    "plt.ylabel('Frequency')\n",
    "plt.show()"
   ]
  },
  {
   "cell_type": "code",
   "execution_count": 140,
   "metadata": {},
   "outputs": [
    {
     "data": {
      "image/png": "[encoded data removed]",
      "text/plain": [
       "<Figure size 500x300 with 1 Axes>"
      ]
     },
     "metadata": {},
     "output_type": "display_data"
    }
   ],
   "source": [
    "# plotting the distribution of the \"center1distance\" in the data\n",
    "df['center1distance'].hist(figsize = (5, 3), edgecolor = 'black')\n",
    "plt.title('Distribution of the center1distance in the data')\n",
    "plt.xlabel('Center1distance')\n",
    "plt.ylabel('Frequency')\n",
    "plt.show()"
   ]
  },
  {
   "cell_type": "code",
   "execution_count": 147,
   "metadata": {},
   "outputs": [],
   "source": [
    "# Extracting the table of variables and the number of their unique values\n",
    "unique_values = df.nunique()\n",
    "unique_values = pd.DataFrame(unique_values)\n",
    "unique_values.reset_index(inplace = True)\n",
    "unique_values.columns = ['Variables', 'Unique_values']\n",
    "unique_values.sort_values(by = 'Unique_values', ascending = False, inplace = True)\n",
    "\n",
    "# adding the data types to the table\n",
    "unique_values['Data_types'] = df.dtypes.values\n",
    "\n",
    "# storing the table in a csv file\n",
    "unique_values.to_csv('unique_values.csv', index = False)"
   ]
  },
  {
   "cell_type": "markdown",
   "metadata": {},
   "source": [
    "### Converting the type of categorical columns"
   ]
  },
  {
   "cell_type": "code",
   "execution_count": 34,
   "metadata": {},
   "outputs": [],
   "source": [
    "# Creating a list of categorical columns\n",
    "cat_cols = df.select_dtypes(include = 'object').columns\n",
    "# adding \"year\", \"month\", \"weekend\" and \"holiday\" to the list of categorical columns\n",
    "cat_cols = cat_cols.append(pd.Index(['year', 'month', 'weekend', 'holiday', 'scarce_room']))\n",
    "\n",
    "# Converting the above columns to categorical type\n",
    "for col in cat_cols:\n",
    "    df[col] = df[col].astype('category')"
   ]
  },
  {
   "cell_type": "code",
   "execution_count": 35,
   "metadata": {},
   "outputs": [
    {
     "data": {
      "text/plain": [
       "(35087, 16)"
      ]
     },
     "execution_count": 35,
     "metadata": {},
     "output_type": "execute_result"
    }
   ],
   "source": [
    "df.shape"
   ]
  },
  {
   "cell_type": "code",
   "execution_count": 36,
   "metadata": {},
   "outputs": [],
   "source": [
    "# Converting the categorical columns to dummy variables\n",
    "df = pd.get_dummies(df, columns= cat_cols , drop_first = True)"
   ]
  },
  {
   "cell_type": "code",
   "execution_count": 37,
   "metadata": {},
   "outputs": [
    {
     "data": {
      "text/html": [
       "<div>\n",
       "<style scoped>\n",
       "    .dataframe tbody tr th:only-of-type {\n",
       "        vertical-align: middle;\n",
       "    }\n",
       "\n",
       "    .dataframe tbody tr th {\n",
       "        vertical-align: top;\n",
       "    }\n",
       "\n",
       "    .dataframe thead th {\n",
       "        text-align: right;\n",
       "    }\n",
       "</style>\n",
       "<table border=\"1\" class=\"dataframe\">\n",
       "  <thead>\n",
       "    <tr style=\"text-align: right;\">\n",
       "      <th></th>\n",
       "      <th>rating_reviewcount</th>\n",
       "      <th>center1distance</th>\n",
       "      <th>center2distance</th>\n",
       "      <th>starrating</th>\n",
       "      <th>rating2_ta</th>\n",
       "      <th>rating2_ta_reviewcount</th>\n",
       "      <th>guestreviewsrating</th>\n",
       "      <th>real_price</th>\n",
       "      <th>addresscountryname_Belgium</th>\n",
       "      <th>addresscountryname_Finland</th>\n",
       "      <th>...</th>\n",
       "      <th>month_2</th>\n",
       "      <th>month_3</th>\n",
       "      <th>month_4</th>\n",
       "      <th>month_5</th>\n",
       "      <th>month_6</th>\n",
       "      <th>month_11</th>\n",
       "      <th>month_12</th>\n",
       "      <th>weekend_1</th>\n",
       "      <th>holiday_1</th>\n",
       "      <th>scarce_room_1</th>\n",
       "    </tr>\n",
       "  </thead>\n",
       "  <tbody>\n",
       "    <tr>\n",
       "      <th>0</th>\n",
       "      <td>1030.0</td>\n",
       "      <td>3.1</td>\n",
       "      <td>3.6</td>\n",
       "      <td>4.0</td>\n",
       "      <td>4.0</td>\n",
       "      <td>1115.0</td>\n",
       "      <td>4.0</td>\n",
       "      <td>172.00</td>\n",
       "      <td>0</td>\n",
       "      <td>0</td>\n",
       "      <td>...</td>\n",
       "      <td>0</td>\n",
       "      <td>0</td>\n",
       "      <td>0</td>\n",
       "      <td>0</td>\n",
       "      <td>0</td>\n",
       "      <td>1</td>\n",
       "      <td>0</td>\n",
       "      <td>1</td>\n",
       "      <td>0</td>\n",
       "      <td>0</td>\n",
       "    </tr>\n",
       "    <tr>\n",
       "      <th>1</th>\n",
       "      <td>1030.0</td>\n",
       "      <td>3.1</td>\n",
       "      <td>3.6</td>\n",
       "      <td>4.0</td>\n",
       "      <td>4.0</td>\n",
       "      <td>1115.0</td>\n",
       "      <td>4.0</td>\n",
       "      <td>81.74</td>\n",
       "      <td>0</td>\n",
       "      <td>0</td>\n",
       "      <td>...</td>\n",
       "      <td>0</td>\n",
       "      <td>0</td>\n",
       "      <td>0</td>\n",
       "      <td>0</td>\n",
       "      <td>0</td>\n",
       "      <td>0</td>\n",
       "      <td>0</td>\n",
       "      <td>1</td>\n",
       "      <td>0</td>\n",
       "      <td>0</td>\n",
       "    </tr>\n",
       "    <tr>\n",
       "      <th>2</th>\n",
       "      <td>1030.0</td>\n",
       "      <td>3.1</td>\n",
       "      <td>3.6</td>\n",
       "      <td>4.0</td>\n",
       "      <td>4.0</td>\n",
       "      <td>1115.0</td>\n",
       "      <td>4.0</td>\n",
       "      <td>81.74</td>\n",
       "      <td>0</td>\n",
       "      <td>0</td>\n",
       "      <td>...</td>\n",
       "      <td>0</td>\n",
       "      <td>0</td>\n",
       "      <td>0</td>\n",
       "      <td>0</td>\n",
       "      <td>0</td>\n",
       "      <td>0</td>\n",
       "      <td>1</td>\n",
       "      <td>0</td>\n",
       "      <td>1</td>\n",
       "      <td>0</td>\n",
       "    </tr>\n",
       "    <tr>\n",
       "      <th>3</th>\n",
       "      <td>1030.0</td>\n",
       "      <td>3.1</td>\n",
       "      <td>3.6</td>\n",
       "      <td>4.0</td>\n",
       "      <td>4.0</td>\n",
       "      <td>1115.0</td>\n",
       "      <td>4.0</td>\n",
       "      <td>126.96</td>\n",
       "      <td>0</td>\n",
       "      <td>0</td>\n",
       "      <td>...</td>\n",
       "      <td>0</td>\n",
       "      <td>0</td>\n",
       "      <td>0</td>\n",
       "      <td>0</td>\n",
       "      <td>0</td>\n",
       "      <td>0</td>\n",
       "      <td>1</td>\n",
       "      <td>0</td>\n",
       "      <td>1</td>\n",
       "      <td>0</td>\n",
       "    </tr>\n",
       "    <tr>\n",
       "      <th>4</th>\n",
       "      <td>1030.0</td>\n",
       "      <td>3.1</td>\n",
       "      <td>3.6</td>\n",
       "      <td>4.0</td>\n",
       "      <td>4.0</td>\n",
       "      <td>1115.0</td>\n",
       "      <td>4.0</td>\n",
       "      <td>81.74</td>\n",
       "      <td>0</td>\n",
       "      <td>0</td>\n",
       "      <td>...</td>\n",
       "      <td>1</td>\n",
       "      <td>0</td>\n",
       "      <td>0</td>\n",
       "      <td>0</td>\n",
       "      <td>0</td>\n",
       "      <td>0</td>\n",
       "      <td>0</td>\n",
       "      <td>1</td>\n",
       "      <td>0</td>\n",
       "      <td>0</td>\n",
       "    </tr>\n",
       "  </tbody>\n",
       "</table>\n",
       "<p>5 rows × 229 columns</p>\n",
       "</div>"
      ],
      "text/plain": [
       "   rating_reviewcount  center1distance  center2distance  starrating  \\\n",
       "0              1030.0              3.1              3.6         4.0   \n",
       "1              1030.0              3.1              3.6         4.0   \n",
       "2              1030.0              3.1              3.6         4.0   \n",
       "3              1030.0              3.1              3.6         4.0   \n",
       "4              1030.0              3.1              3.6         4.0   \n",
       "\n",
       "   rating2_ta  rating2_ta_reviewcount  guestreviewsrating  real_price  \\\n",
       "0         4.0                  1115.0                 4.0      172.00   \n",
       "1         4.0                  1115.0                 4.0       81.74   \n",
       "2         4.0                  1115.0                 4.0       81.74   \n",
       "3         4.0                  1115.0                 4.0      126.96   \n",
       "4         4.0                  1115.0                 4.0       81.74   \n",
       "\n",
       "   addresscountryname_Belgium  addresscountryname_Finland  ...  month_2  \\\n",
       "0                           0                           0  ...        0   \n",
       "1                           0                           0  ...        0   \n",
       "2                           0                           0  ...        0   \n",
       "3                           0                           0  ...        0   \n",
       "4                           0                           0  ...        1   \n",
       "\n",
       "   month_3  month_4  month_5  month_6  month_11  month_12  weekend_1  \\\n",
       "0        0        0        0        0         1         0          1   \n",
       "1        0        0        0        0         0         0          1   \n",
       "2        0        0        0        0         0         1          0   \n",
       "3        0        0        0        0         0         1          0   \n",
       "4        0        0        0        0         0         0          1   \n",
       "\n",
       "   holiday_1  scarce_room_1  \n",
       "0          0              0  \n",
       "1          0              0  \n",
       "2          1              0  \n",
       "3          1              0  \n",
       "4          0              0  \n",
       "\n",
       "[5 rows x 229 columns]"
      ]
     },
     "execution_count": 37,
     "metadata": {},
     "output_type": "execute_result"
    }
   ],
   "source": [
    "df.head()"
   ]
  },
  {
   "cell_type": "code",
   "execution_count": 38,
   "metadata": {},
   "outputs": [],
   "source": [
    "df.to_csv('cleaned_hotel2.csv', index = False)"
   ]
  },
  {
   "cell_type": "code",
   "execution_count": 49,
   "metadata": {},
   "outputs": [
    {
     "data": {
      "image/png": "[encoded data removed]",
      "text/plain": [
       "<Figure size 640x480 with 1 Axes>"
      ]
     },
     "metadata": {},
     "output_type": "display_data"
    }
   ],
   "source": [
    "# checking distribution of target variable by histogram\n",
    "plt.hist(df['real_price'], bins = 80, edgecolor = 'black')\n",
    "plt.xlabel('Price')\n",
    "plt.xlim(0,1600)\n",
    "plt.ylabel('Count')\n",
    "plt.title('Distribution of hotel prices')\n",
    "plt.show()\n"
   ]
  },
  {
   "cell_type": "markdown",
   "metadata": {},
   "source": [
    "### Separating Target variable and features, test and train sets."
   ]
  },
  {
   "cell_type": "code",
   "execution_count": 50,
   "metadata": {},
   "outputs": [],
   "source": [
    "# Split the data into features and target\n",
    "X = df.drop('real_price', axis = 1)\n",
    "y = df['real_price']\n",
    "\n",
    "# Split the data into train and test sets\n",
    "from sklearn.model_selection import train_test_split\n",
    "X_train, X_test, y_train, y_test = train_test_split(X,y, test_size = .2, random_state = 42)"
   ]
  },
  {
   "cell_type": "code",
   "execution_count": null,
   "metadata": {},
   "outputs": [],
   "source": [
    "# Scaling the data\n",
    "from sklearn.preprocessing import StandardScaler\n",
    "scaler = StandardScaler()\n",
    "X_train_scaled = scaler.fit_transform(X_train)\n",
    "X_test_scaled = scaler.transform(X_test)"
   ]
  },
  {
   "cell_type": "markdown",
   "metadata": {},
   "source": [
    "# Model 1: OLS Regression"
   ]
  },
  {
   "cell_type": "markdown",
   "metadata": {},
   "source": [
    "* We will try several OLS models with different levels of complexity.\n",
    "* At the first step we implement a model with some of the features on the right hand side. "
   ]
  },
  {
   "cell_type": "code",
   "execution_count": 48,
   "metadata": {},
   "outputs": [],
   "source": [
    "from sklearn.linear_model import LinearRegression\n",
    "from sklearn.metrics import mean_squared_error\n",
    "\n",
    "# Choosing some features to use in the model including all the dummies that start with \"accommodationtype\", \"city_actual_\" and center1distance\tcenter2distance\tstarrating\trating2_ta\trating2_ta_reviewcount\tweekend_1\tholiday_1\tscarce_room_1\n",
    "features = ['center1distance', 'center2distance', 'starrating', 'rating2_ta', 'rating2_ta_reviewcount', 'weekend_1', 'holiday_1', 'scarce_room_1']\n",
    "\n",
    "for i in df.columns:\n",
    "    if i.startswith('accommodationtype') or i.startswith('city_actual_'):\n",
    "        features.append(i)"
   ]
  },
  {
   "cell_type": "code",
   "execution_count": 55,
   "metadata": {},
   "outputs": [
    {
     "name": "stdout",
     "output_type": "stream",
     "text": [
      "Training MSE: 9638.92895824917\n",
      "Test MSE: 8866.510712512048\n"
     ]
    }
   ],
   "source": [
    "# defining a model with the above features\n",
    "OLS_model0 = LinearRegression()\n",
    "OLS_model0.fit(X_train_scaled[:,[X.columns.get_loc(i) for i in features]], y_train)\n",
    "\n",
    "# Checking the model performance on the training data\n",
    "y_pred = OLS_model0.predict(X_train_scaled[:,[X.columns.get_loc(i) for i in features]])\n",
    "ols0_train_mse = mean_squared_error(y_train, y_pred)\n",
    "print('Training MSE:', ols0_train_mse)\n",
    "\n",
    "# Checking the model performance on the test data\n",
    "y_pred = OLS_model0.predict(X_test_scaled[:,[X.columns.get_loc(i) for i in features]])\n",
    "ols0_test_mse = mean_squared_error(y_test, y_pred)\n",
    "print('Test MSE:', ols0_test_mse)"
   ]
  },
  {
   "cell_type": "code",
   "execution_count": 53,
   "metadata": {},
   "outputs": [
    {
     "data": {
      "image/png": "[encoded data removed]",
      "text/plain": [
       "<Figure size 640x480 with 1 Axes>"
      ]
     },
     "metadata": {},
     "output_type": "display_data"
    }
   ],
   "source": [
    "# Plotting y_test and y_pred to understand the spread\n",
    "plt.scatter(y_test, y_pred)\n",
    "plt.xlabel('y_test')\n",
    "plt.ylabel('y_pred_test')\n",
    "plt.xlim(0, 1500)\n",
    "plt.ylim(0, 1500)\n",
    "plt.show()"
   ]
  },
  {
   "cell_type": "markdown",
   "metadata": {},
   "source": [
    "# OLS with all the features"
   ]
  },
  {
   "cell_type": "code",
   "execution_count": 54,
   "metadata": {},
   "outputs": [
    {
     "name": "stdout",
     "output_type": "stream",
     "text": [
      "Training MSE: 9400.643039304774\n",
      "Test MSE: 8659.33685376817\n"
     ]
    }
   ],
   "source": [
    "# Creating a linear regression model\n",
    "ols_model = LinearRegression()\n",
    "# Fitting the model to the training data\n",
    "ols_model.fit(X_train_scaled, y_train)\n",
    "\n",
    "# Checking the model performance on the training data\n",
    "y_train_pred = ols_model.predict(X_train_scaled)\n",
    "ols_train_mse = mean_squared_error(y_train, y_train_pred)\n",
    "print('Training MSE:', ols_train_mse)\n",
    "\n",
    "# Checking the model performance on the test data\n",
    "y_test_pred = ols_model.predict(X_test_scaled)\n",
    "ols_test_mse = mean_squared_error(y_test, y_test_pred)\n",
    "print('Test MSE:', ols_test_mse)"
   ]
  },
  {
   "cell_type": "code",
   "execution_count": 56,
   "metadata": {},
   "outputs": [
    {
     "data": {
      "text/html": [
       "<div>\n",
       "<style scoped>\n",
       "    .dataframe tbody tr th:only-of-type {\n",
       "        vertical-align: middle;\n",
       "    }\n",
       "\n",
       "    .dataframe tbody tr th {\n",
       "        vertical-align: top;\n",
       "    }\n",
       "\n",
       "    .dataframe thead th {\n",
       "        text-align: right;\n",
       "    }\n",
       "</style>\n",
       "<table border=\"1\" class=\"dataframe\">\n",
       "  <thead>\n",
       "    <tr style=\"text-align: right;\">\n",
       "      <th></th>\n",
       "      <th>feature</th>\n",
       "      <th>importance</th>\n",
       "    </tr>\n",
       "  </thead>\n",
       "  <tbody>\n",
       "    <tr>\n",
       "      <th>7</th>\n",
       "      <td>addresscountryname_Belgium</td>\n",
       "      <td>7.681872e+13</td>\n",
       "    </tr>\n",
       "    <tr>\n",
       "      <th>81</th>\n",
       "      <td>city_actual_Helsinki</td>\n",
       "      <td>3.930798e+13</td>\n",
       "    </tr>\n",
       "    <tr>\n",
       "      <th>217</th>\n",
       "      <td>year_2018</td>\n",
       "      <td>3.277827e+13</td>\n",
       "    </tr>\n",
       "    <tr>\n",
       "      <th>11</th>\n",
       "      <td>addresscountryname_Sweden</td>\n",
       "      <td>3.122685e+13</td>\n",
       "    </tr>\n",
       "    <tr>\n",
       "      <th>223</th>\n",
       "      <td>month_11</td>\n",
       "      <td>2.695436e+13</td>\n",
       "    </tr>\n",
       "    <tr>\n",
       "      <th>...</th>\n",
       "      <td>...</td>\n",
       "      <td>...</td>\n",
       "    </tr>\n",
       "    <tr>\n",
       "      <th>10</th>\n",
       "      <td>addresscountryname_Netherlands</td>\n",
       "      <td>-1.656212e+13</td>\n",
       "    </tr>\n",
       "    <tr>\n",
       "      <th>30</th>\n",
       "      <td>city_actual_Berlin</td>\n",
       "      <td>-1.829471e+13</td>\n",
       "    </tr>\n",
       "    <tr>\n",
       "      <th>164</th>\n",
       "      <td>city_actual_Stockholm</td>\n",
       "      <td>-2.460639e+13</td>\n",
       "    </tr>\n",
       "    <tr>\n",
       "      <th>8</th>\n",
       "      <td>addresscountryname_Finland</td>\n",
       "      <td>-4.441021e+13</td>\n",
       "    </tr>\n",
       "    <tr>\n",
       "      <th>37</th>\n",
       "      <td>city_actual_Brussels</td>\n",
       "      <td>-7.379619e+13</td>\n",
       "    </tr>\n",
       "  </tbody>\n",
       "</table>\n",
       "<p>228 rows × 2 columns</p>\n",
       "</div>"
      ],
      "text/plain": [
       "                            feature    importance\n",
       "7        addresscountryname_Belgium  7.681872e+13\n",
       "81             city_actual_Helsinki  3.930798e+13\n",
       "217                       year_2018  3.277827e+13\n",
       "11        addresscountryname_Sweden  3.122685e+13\n",
       "223                        month_11  2.695436e+13\n",
       "..                              ...           ...\n",
       "10   addresscountryname_Netherlands -1.656212e+13\n",
       "30               city_actual_Berlin -1.829471e+13\n",
       "164           city_actual_Stockholm -2.460639e+13\n",
       "8        addresscountryname_Finland -4.441021e+13\n",
       "37             city_actual_Brussels -7.379619e+13\n",
       "\n",
       "[228 rows x 2 columns]"
      ]
     },
     "execution_count": 56,
     "metadata": {},
     "output_type": "execute_result"
    }
   ],
   "source": [
    "# Importance of the features in the OLS model\n",
    "ols_coef = pd.DataFrame({'feature': X_train.columns, 'importance': ols_model.coef_})\n",
    "ols_coef.sort_values('importance', ascending = False)"
   ]
  },
  {
   "cell_type": "code",
   "execution_count": 57,
   "metadata": {},
   "outputs": [
    {
     "data": {
      "image/png": "[encoded data removed]",
      "text/plain": [
       "<Figure size 640x480 with 1 Axes>"
      ]
     },
     "metadata": {},
     "output_type": "display_data"
    }
   ],
   "source": [
    "# Plotting y_test and y_pred to understand the spread\n",
    "plt.scatter(y_test, y_test_pred)\n",
    "plt.xlabel('y_test')\n",
    "plt.ylabel('y_pred_test')\n",
    "plt.xlim(0, 1500)\n",
    "plt.ylim(0, 1500)\n",
    "plt.show()\n"
   ]
  },
  {
   "cell_type": "markdown",
   "metadata": {},
   "source": [
    "# LASSO regression"
   ]
  },
  {
   "cell_type": "code",
   "execution_count": 44,
   "metadata": {},
   "outputs": [],
   "source": [
    "# choosing the best alpha value for LASSO regression\n",
    "\n",
    "import warnings\n",
    "from sklearn.exceptions import ConvergenceWarning\n",
    "from sklearn.linear_model import LassoCV\n",
    "warnings.filterwarnings(\"ignore\", category=ConvergenceWarning)\n",
    "\n",
    "# Lasso- Parameter tuning\n",
    "alphas = np.logspace(-6, 2, 100)\n",
    "lasso_cv = LassoCV(alphas=alphas, cv=5)\n",
    "lasso_cv.fit(X_train, y_train)\n",
    "# Stoing the best lambda value\n",
    "selected_alpha = lasso_cv.alpha_\n",
    "\n",
    "warnings.resetwarnings()"
   ]
  },
  {
   "cell_type": "code",
   "execution_count": 45,
   "metadata": {},
   "outputs": [
    {
     "name": "stderr",
     "output_type": "stream",
     "text": [
      "c:\\Users\\PA\\anaconda3\\lib\\site-packages\\sklearn\\linear_model\\_coordinate_descent.py:631: ConvergenceWarning: Objective did not converge. You might want to increase the number of iterations, check the scale of the features or consider increasing regularisation. Duality gap: 4.895e+06, tolerance: 7.550e+03\n",
      "  model = cd_fast.enet_coordinate_descent(\n"
     ]
    },
    {
     "data": {
      "text/html": [
       "<style>#sk-container-id-1 {color: black;background-color: white;}#sk-container-id-1 pre{padding: 0;}#sk-container-id-1 div.sk-toggleable {background-color: white;}#sk-container-id-1 label.sk-toggleable__label {cursor: pointer;display: block;width: 100%;margin-bottom: 0;padding: 0.3em;box-sizing: border-box;text-align: center;}#sk-container-id-1 label.sk-toggleable__label-arrow:before {content: \"▸\";float: left;margin-right: 0.25em;color: #696969;}#sk-container-id-1 label.sk-toggleable__label-arrow:hover:before {color: black;}#sk-container-id-1 div.sk-estimator:hover label.sk-toggleable__label-arrow:before {color: black;}#sk-container-id-1 div.sk-toggleable__content {max-height: 0;max-width: 0;overflow: hidden;text-align: left;background-color: #f0f8ff;}#sk-container-id-1 div.sk-toggleable__content pre {margin: 0.2em;color: black;border-radius: 0.25em;background-color: #f0f8ff;}#sk-container-id-1 input.sk-toggleable__control:checked~div.sk-toggleable__content {max-height: 200px;max-width: 100%;overflow: auto;}#sk-container-id-1 input.sk-toggleable__control:checked~label.sk-toggleable__label-arrow:before {content: \"▾\";}#sk-container-id-1 div.sk-estimator input.sk-toggleable__control:checked~label.sk-toggleable__label {background-color: #d4ebff;}#sk-container-id-1 div.sk-label input.sk-toggleable__control:checked~label.sk-toggleable__label {background-color: #d4ebff;}#sk-container-id-1 input.sk-hidden--visually {border: 0;clip: rect(1px 1px 1px 1px);clip: rect(1px, 1px, 1px, 1px);height: 1px;margin: -1px;overflow: hidden;padding: 0;position: absolute;width: 1px;}#sk-container-id-1 div.sk-estimator {font-family: monospace;background-color: #f0f8ff;border: 1px dotted black;border-radius: 0.25em;box-sizing: border-box;margin-bottom: 0.5em;}#sk-container-id-1 div.sk-estimator:hover {background-color: #d4ebff;}#sk-container-id-1 div.sk-parallel-item::after {content: \"\";width: 100%;border-bottom: 1px solid gray;flex-grow: 1;}#sk-container-id-1 div.sk-label:hover label.sk-toggleable__label {background-color: #d4ebff;}#sk-container-id-1 div.sk-serial::before {content: \"\";position: absolute;border-left: 1px solid gray;box-sizing: border-box;top: 0;bottom: 0;left: 50%;z-index: 0;}#sk-container-id-1 div.sk-serial {display: flex;flex-direction: column;align-items: center;background-color: white;padding-right: 0.2em;padding-left: 0.2em;position: relative;}#sk-container-id-1 div.sk-item {position: relative;z-index: 1;}#sk-container-id-1 div.sk-parallel {display: flex;align-items: stretch;justify-content: center;background-color: white;position: relative;}#sk-container-id-1 div.sk-item::before, #sk-container-id-1 div.sk-parallel-item::before {content: \"\";position: absolute;border-left: 1px solid gray;box-sizing: border-box;top: 0;bottom: 0;left: 50%;z-index: -1;}#sk-container-id-1 div.sk-parallel-item {display: flex;flex-direction: column;z-index: 1;position: relative;background-color: white;}#sk-container-id-1 div.sk-parallel-item:first-child::after {align-self: flex-end;width: 50%;}#sk-container-id-1 div.sk-parallel-item:last-child::after {align-self: flex-start;width: 50%;}#sk-container-id-1 div.sk-parallel-item:only-child::after {width: 0;}#sk-container-id-1 div.sk-dashed-wrapped {border: 1px dashed gray;margin: 0 0.4em 0.5em 0.4em;box-sizing: border-box;padding-bottom: 0.4em;background-color: white;}#sk-container-id-1 div.sk-label label {font-family: monospace;font-weight: bold;display: inline-block;line-height: 1.2em;}#sk-container-id-1 div.sk-label-container {text-align: center;}#sk-container-id-1 div.sk-container {/* jupyter's `normalize.less` sets `[hidden] { display: none; }` but bootstrap.min.css set `[hidden] { display: none !important; }` so we also need the `!important` here to be able to override the default hidden behavior on the sphinx rendered scikit-learn.org. See: https://github.com/scikit-learn/scikit-learn/issues/21755 */display: inline-block !important;position: relative;}#sk-container-id-1 div.sk-text-repr-fallback {display: none;}</style><div id=\"sk-container-id-1\" class=\"sk-top-container\"><div class=\"sk-text-repr-fallback\"><pre>Lasso(alpha=0.0029836472402833404)</pre><b>In a Jupyter environment, please rerun this cell to show the HTML representation or trust the notebook. <br />On GitHub, the HTML representation is unable to render, please try loading this page with nbviewer.org.</b></div><div class=\"sk-container\" hidden><div class=\"sk-item\"><div class=\"sk-estimator sk-toggleable\"><input class=\"sk-toggleable__control sk-hidden--visually\" id=\"sk-estimator-id-1\" type=\"checkbox\" checked><label for=\"sk-estimator-id-1\" class=\"sk-toggleable__label sk-toggleable__label-arrow\">Lasso</label><div class=\"sk-toggleable__content\"><pre>Lasso(alpha=0.0029836472402833404)</pre></div></div></div></div></div>"
      ],
      "text/plain": [
       "Lasso(alpha=0.0029836472402833404)"
      ]
     },
     "execution_count": 45,
     "metadata": {},
     "output_type": "execute_result"
    }
   ],
   "source": [
    "from sklearn.linear_model import Lasso\n",
    "\n",
    "\n",
    "best_lasso_model = Lasso(alpha=selected_alpha)\n",
    "best_lasso_model.fit(X_train_scaled, y_train)"
   ]
  },
  {
   "cell_type": "code",
   "execution_count": 49,
   "metadata": {},
   "outputs": [
    {
     "data": {
      "text/html": [
       "<div>\n",
       "<style scoped>\n",
       "    .dataframe tbody tr th:only-of-type {\n",
       "        vertical-align: middle;\n",
       "    }\n",
       "\n",
       "    .dataframe tbody tr th {\n",
       "        vertical-align: top;\n",
       "    }\n",
       "\n",
       "    .dataframe thead th {\n",
       "        text-align: right;\n",
       "    }\n",
       "</style>\n",
       "<table border=\"1\" class=\"dataframe\">\n",
       "  <thead>\n",
       "    <tr style=\"text-align: right;\">\n",
       "      <th></th>\n",
       "      <th>feature</th>\n",
       "      <th>importance</th>\n",
       "    </tr>\n",
       "  </thead>\n",
       "  <tbody>\n",
       "    <tr>\n",
       "      <th>3</th>\n",
       "      <td>starrating</td>\n",
       "      <td>44.332432</td>\n",
       "    </tr>\n",
       "    <tr>\n",
       "      <th>116</th>\n",
       "      <td>weekend_1</td>\n",
       "      <td>23.936166</td>\n",
       "    </tr>\n",
       "    <tr>\n",
       "      <th>112</th>\n",
       "      <td>month_5</td>\n",
       "      <td>18.911583</td>\n",
       "    </tr>\n",
       "    <tr>\n",
       "      <th>117</th>\n",
       "      <td>holiday_1</td>\n",
       "      <td>17.001166</td>\n",
       "    </tr>\n",
       "    <tr>\n",
       "      <th>114</th>\n",
       "      <td>month_11</td>\n",
       "      <td>16.405306</td>\n",
       "    </tr>\n",
       "    <tr>\n",
       "      <th>113</th>\n",
       "      <td>month_6</td>\n",
       "      <td>13.844776</td>\n",
       "    </tr>\n",
       "    <tr>\n",
       "      <th>111</th>\n",
       "      <td>month_4</td>\n",
       "      <td>12.650746</td>\n",
       "    </tr>\n",
       "    <tr>\n",
       "      <th>4</th>\n",
       "      <td>rating2_ta</td>\n",
       "      <td>8.930152</td>\n",
       "    </tr>\n",
       "    <tr>\n",
       "      <th>5</th>\n",
       "      <td>rating2_ta_reviewcount</td>\n",
       "      <td>7.423379</td>\n",
       "    </tr>\n",
       "    <tr>\n",
       "      <th>110</th>\n",
       "      <td>month_3</td>\n",
       "      <td>7.215526</td>\n",
       "    </tr>\n",
       "  </tbody>\n",
       "</table>\n",
       "</div>"
      ],
      "text/plain": [
       "                    feature  importance\n",
       "3                starrating   44.332432\n",
       "116               weekend_1   23.936166\n",
       "112                 month_5   18.911583\n",
       "117               holiday_1   17.001166\n",
       "114                month_11   16.405306\n",
       "113                 month_6   13.844776\n",
       "111                 month_4   12.650746\n",
       "4                rating2_ta    8.930152\n",
       "5    rating2_ta_reviewcount    7.423379\n",
       "110                 month_3    7.215526"
      ]
     },
     "execution_count": 49,
     "metadata": {},
     "output_type": "execute_result"
    }
   ],
   "source": [
    "# choosing the 10 most important features in the LASSO model\n",
    "lasso_coef = pd.DataFrame({'feature': X_train.columns, 'importance': best_lasso_model.coef_})\n",
    "lasso_coef.sort_values('importance', ascending = False).head(10)"
   ]
  },
  {
   "cell_type": "code",
   "execution_count": 52,
   "metadata": {},
   "outputs": [
    {
     "name": "stdout",
     "output_type": "stream",
     "text": [
      "Training MSE: 6833.726728560549\n",
      "Test MSE: 10947.398714901396\n"
     ]
    }
   ],
   "source": [
    "# Checking the model performance on the training data\n",
    "y_train_pred = best_lasso_model.predict(X_train_scaled)\n",
    "lasso_train_mse = mean_squared_error(y_train, y_train_pred)\n",
    "print('Training MSE:', lasso_train_mse)\n",
    "\n",
    "# Checking the model performance on the test data\n",
    "y_test_pred = best_lasso_model.predict(X_test_scaled)\n",
    "lasso_test_mse = mean_squared_error(y_test, y_test_pred)\n",
    "print('Test MSE:', lasso_test_mse)"
   ]
  },
  {
   "cell_type": "code",
   "execution_count": 47,
   "metadata": {},
   "outputs": [
    {
     "data": {
      "image/png": "[encoded data removed]",
      "text/plain": [
       "<Figure size 640x480 with 1 Axes>"
      ]
     },
     "metadata": {},
     "output_type": "display_data"
    }
   ],
   "source": [
    "# Plotting y_test and y_pred to understand the spread\n",
    "plt.scatter(y_test, y_test_pred)\n",
    "plt.xlabel('y_test')\n",
    "plt.ylabel('y_pred_test')\n",
    "plt.xlim(0, 1500)\n",
    "plt.ylim(0, 1500)\n",
    "plt.show()\n"
   ]
  },
  {
   "cell_type": "markdown",
   "metadata": {},
   "source": [
    "# Regression Tree"
   ]
  },
  {
   "cell_type": "code",
   "execution_count": 53,
   "metadata": {},
   "outputs": [
    {
     "name": "stdout",
     "output_type": "stream",
     "text": [
      "Training MSE: 80.34820848859529\n",
      "Test MSE: 6564.565525255947\n"
     ]
    }
   ],
   "source": [
    "from sklearn.tree import DecisionTreeRegressor\n",
    "\n",
    "# Creating a decision tree regression model\n",
    "dtree_model = DecisionTreeRegressor(random_state=42)\n",
    "# Fitting the model to the training data\n",
    "dtree_model.fit(X_train_scaled, y_train)\n",
    "\n",
    "# Checking the model performance on the training data\n",
    "y_train_pred = dtree_model.predict(X_train_scaled)\n",
    "dtree_train_mse = mean_squared_error(y_train, y_train_pred)\n",
    "print('Training MSE:', dtree_train_mse)\n",
    "\n",
    "# Checking the model performance on the test data\n",
    "y_test_pred = dtree_model.predict(X_test_scaled)\n",
    "dtree_test_mse = mean_squared_error(y_test, y_test_pred)\n",
    "print('Test MSE:', dtree_test_mse)"
   ]
  },
  {
   "cell_type": "code",
   "execution_count": 54,
   "metadata": {},
   "outputs": [
    {
     "data": {
      "image/png": "[encoded data removed]",
      "text/plain": [
       "<Figure size 640x480 with 1 Axes>"
      ]
     },
     "metadata": {},
     "output_type": "display_data"
    }
   ],
   "source": [
    "# Plotting y_test and y_pred to understand the spread\n",
    "plt.scatter(y_test, y_test_pred)\n",
    "plt.xlabel('y_test')\n",
    "plt.ylabel('y_pred_test')\n",
    "plt.show()"
   ]
  },
  {
   "cell_type": "markdown",
   "metadata": {},
   "source": [
    "# K-Nearest Neighbors (KNN) Model"
   ]
  },
  {
   "cell_type": "code",
   "execution_count": 55,
   "metadata": {},
   "outputs": [
    {
     "name": "stdout",
     "output_type": "stream",
     "text": [
      "Training MSE: 3973.642731199187\n",
      "Test MSE: 9718.94323001355\n"
     ]
    }
   ],
   "source": [
    "from sklearn.neighbors import KNeighborsRegressor\n",
    "\n",
    "# Creating a KNN regression model\n",
    "knn_model = KNeighborsRegressor()\n",
    "# Fitting the model to the training data\n",
    "knn_model.fit(X_train_scaled, y_train)\n",
    "\n",
    "# Checking the model performance on the training data\n",
    "y_train_pred = knn_model.predict(X_train_scaled)\n",
    "knn_train_mse = mean_squared_error(y_train, y_train_pred)\n",
    "print('Training MSE:', knn_train_mse)\n",
    "\n",
    "# Checking the model performance on the test data\n",
    "y_test_pred = knn_model.predict(X_test_scaled)\n",
    "knn_test_mse = mean_squared_error(y_test, y_test_pred)\n",
    "print('Test MSE:', knn_test_mse)\n"
   ]
  },
  {
   "cell_type": "code",
   "execution_count": 271,
   "metadata": {},
   "outputs": [
    {
     "data": {
      "image/png": "[encoded data removed]",
      "text/plain": [
       "<Figure size 640x480 with 1 Axes>"
      ]
     },
     "metadata": {},
     "output_type": "display_data"
    }
   ],
   "source": [
    "# Plotting y_test and y_pred to understand the spread\n",
    "plt.scatter(y_test, y_test_pred)\n",
    "plt.xlabel('y_test')\n",
    "plt.ylabel('y_pred_test')\n",
    "plt.show()"
   ]
  },
  {
   "cell_type": "markdown",
   "metadata": {},
   "source": [
    "# Random Forest"
   ]
  },
  {
   "cell_type": "code",
   "execution_count": 272,
   "metadata": {},
   "outputs": [
    {
     "name": "stdout",
     "output_type": "stream",
     "text": [
      "Training MSE: 453.4977674622347\n",
      "Test MSE: 4869.300158051496\n"
     ]
    }
   ],
   "source": [
    "from sklearn.ensemble import RandomForestRegressor\n",
    "\n",
    "# Creating a random forest regression model\n",
    "rf_model = RandomForestRegressor(n_estimators=100, random_state=42)\n",
    "# Fitting the model to the training data\n",
    "rf_model.fit(X_train_scaled, y_train)\n",
    "\n",
    "# Checking the model performance on the training data\n",
    "y_train_pred = rf_model.predict(X_train_scaled)\n",
    "rf_train_mse = mean_squared_error(y_train, y_train_pred)\n",
    "print('Training MSE:', rf_train_mse)\n",
    "\n",
    "# Checking the model performance on the test data\n",
    "y_test_pred = rf_model.predict(X_test_scaled)\n",
    "rf_test_mse = mean_squared_error(y_test, y_test_pred)\n",
    "print('Test MSE:', rf_test_mse)"
   ]
  },
  {
   "cell_type": "code",
   "execution_count": 273,
   "metadata": {},
   "outputs": [
    {
     "data": {
      "image/png": "[encoded data removed]",
      "text/plain": [
       "<Figure size 640x480 with 1 Axes>"
      ]
     },
     "metadata": {},
     "output_type": "display_data"
    }
   ],
   "source": [
    "# Plotting y_test and y_pred to understand the spread\n",
    "plt.scatter(y_test, y_test_pred)\n",
    "plt.xlabel('y_test')\n",
    "plt.ylabel('y_pred_test')\n",
    "plt.show()"
   ]
  },
  {
   "cell_type": "code",
   "execution_count": null,
   "metadata": {},
   "outputs": [],
   "source": []
  }
 ],
 "metadata": {
  "kernelspec": {
   "display_name": "Python 3",
   "language": "python",
   "name": "python3"
  },
  "language_info": {
   "codemirror_mode": {
    "name": "ipython",
    "version": 3
   },
   "file_extension": ".py",
   "mimetype": "text/x-python",
   "name": "python",
   "nbconvert_exporter": "python",
   "pygments_lexer": "ipython3",
   "version": "3.10.9"
  }
 },
 "nbformat": 4,
 "nbformat_minor": 2
}
